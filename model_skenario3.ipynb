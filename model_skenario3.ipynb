{
 "cells": [
  {
   "cell_type": "code",
   "execution_count": 1,
   "metadata": {},
   "outputs": [],
   "source": [
    "import numpy as np\n",
    "import pandas as pd\n",
    "import seaborn as sns\n",
    "import matplotlib.pyplot as plt\n",
    "import warnings\n",
    "warnings.filterwarnings('ignore')\n",
    "import pandas as pd\n",
    "import codecs"
   ]
  },
  {
   "cell_type": "code",
   "execution_count": 3,
   "metadata": {},
   "outputs": [],
   "source": [
    "test_csv_path2 = '../Data/YelpChi/output_review_yelpResData_NRYRcleaned.txt'\n",
    "df_yelpchi2 = pd.read_csv(test_csv_path2, sep='delimiter', header=None)"
   ]
  },
  {
   "cell_type": "code",
   "execution_count": 5,
   "metadata": {},
   "outputs": [
    {
     "name": "stdout",
     "output_type": "stream",
     "text": [
      "                                                       0\n",
      "61531  I went to a party at this bar & grill yesterda...\n",
      "61532  I love me some Cafezazzo! I come here a few ti...\n",
      "61533  So after all these years I decided to check ou...\n",
      "61534  I truly love this place! Just like everyone st...\n",
      "61535  If you want seafood this is place to go. It is...\n",
      "61536  I've passed this place a bunch of times on my ...\n",
      "61537  Rubino's is not really setup as a retail opera...\n",
      "61538  This place is amazing. The food is great and y...\n",
      "61539  OK went back the next day as I was driving by ...\n",
      "61540  Delicious, rather authentic Mexican food, must...\n"
     ]
    }
   ],
   "source": [
    "print(df_yelpchi2.tail(10))"
   ]
  },
  {
   "cell_type": "code",
   "execution_count": 6,
   "metadata": {},
   "outputs": [],
   "source": [
    "sample = df_yelpchi2[0]"
   ]
  },
  {
   "cell_type": "code",
   "execution_count": 7,
   "metadata": {},
   "outputs": [
    {
     "name": "stderr",
     "output_type": "stream",
     "text": [
      "[nltk_data] Downloading package stopwords to\n",
      "[nltk_data]     C:\\Users\\kevin\\AppData\\Roaming\\nltk_data...\n",
      "[nltk_data]   Package stopwords is already up-to-date!\n"
     ]
    },
    {
     "data": {
      "text/plain": [
       "True"
      ]
     },
     "execution_count": 7,
     "metadata": {},
     "output_type": "execute_result"
    }
   ],
   "source": [
    "import nltk\n",
    "nltk.download('stopwords')"
   ]
  },
  {
   "cell_type": "code",
   "execution_count": 8,
   "metadata": {},
   "outputs": [],
   "source": [
    "import re\n",
    "from nltk.corpus import stopwords\n",
    "from nltk.stem import PorterStemmer\n",
    "swords = set(stopwords.words(\"english\"))\n",
    "stemmer = PorterStemmer()\n",
    "\n",
    "def parse_text(review):\n",
    "    clean_review = []\n",
    "    # text = re.sub(\"[^a-zA-Z]\", ' ', text)\n",
    "    # text = text.lower().split()\n",
    "    # text = [w for w in text if w not in swords]\n",
    "    \n",
    "    # # Stemming\n",
    "    # stems = [stemmer.stem(ss) for ss in text]\n",
    "    for text in review:\n",
    "        text = re.sub(\"[^a-zA-Z]\", ' ', text)\n",
    "        text = text.lower().split()\n",
    "        text = [w for w in text if w not in swords]\n",
    "        \n",
    "        # Stemming\n",
    "        # stems = [stemmer.stem(ss) for ss in text]\n",
    "        text = \" \".join(text)\n",
    "        clean_review.append(text)\n",
    "    \n",
    "    return clean_review\n",
    "\n",
    "sample = parse_text(sample)"
   ]
  },
  {
   "cell_type": "code",
   "execution_count": 9,
   "metadata": {},
   "outputs": [
    {
     "name": "stdout",
     "output_type": "stream",
     "text": [
      "61521                 man place good even matter get chips\n",
      "61522    ok get ready totally biased review give el mil...\n",
      "61523    quite possibly favorite mexican food chicago o...\n",
      "61524    give place star damn good food damn good price...\n",
      "61525    lately everything tried menu quite good partic...\n",
      "61526    problem face every time certain friends visit ...\n",
      "61527    like san luis speciality alambres kind mexican...\n",
      "61528    hmmmm ok much white sox land cobblestones gets...\n",
      "61529    came pm pm start drink alone studying one look...\n",
      "61530    surprised eagerly roped pop trivia game upon w...\n",
      "61531    went party bar grill yesterday pleasant surpri...\n",
      "61532    love cafezazzo come times around year kids som...\n",
      "61533    years decided check cafezazzo neighborhood gla...\n",
      "61534    truly love place like everyone states reviews ...\n",
      "61535    want seafood place go warehouse man help nice ...\n",
      "61536    passed place bunch times way olympic northwest...\n",
      "61537    rubino really setup retail operation prices in...\n",
      "61538    place amazing food great cannot beat price unf...\n",
      "61539    ok went back next day driving lunchtime steak ...\n",
      "61540    delicious rather authentic mexican food must t...\n",
      "Name: text, dtype: object\n"
     ]
    }
   ],
   "source": [
    "df_clean_big = pd.DataFrame(sample,columns = ['text'])\n",
    "print(df_clean_big['text'].tail(20))"
   ]
  },
  {
   "cell_type": "code",
   "execution_count": 11,
   "metadata": {},
   "outputs": [
    {
     "name": "stdout",
     "output_type": "stream",
     "text": [
      "(61541, 9)\n"
     ]
    },
    {
     "data": {
      "text/html": [
       "<div>\n",
       "<style scoped>\n",
       "    .dataframe tbody tr th:only-of-type {\n",
       "        vertical-align: middle;\n",
       "    }\n",
       "\n",
       "    .dataframe tbody tr th {\n",
       "        vertical-align: top;\n",
       "    }\n",
       "\n",
       "    .dataframe thead th {\n",
       "        text-align: right;\n",
       "    }\n",
       "</style>\n",
       "<table border=\"1\" class=\"dataframe\">\n",
       "  <thead>\n",
       "    <tr style=\"text-align: right;\">\n",
       "      <th></th>\n",
       "      <th>date</th>\n",
       "      <th>review_id</th>\n",
       "      <th>reviewer_id</th>\n",
       "      <th>product_id</th>\n",
       "      <th>label</th>\n",
       "      <th>useful_count</th>\n",
       "      <th>funny_count</th>\n",
       "      <th>cool_count</th>\n",
       "      <th>star_rating</th>\n",
       "    </tr>\n",
       "  </thead>\n",
       "  <tbody>\n",
       "    <tr>\n",
       "      <th>0</th>\n",
       "      <td>9/22/2012</td>\n",
       "      <td>GtwU21YOQn-wf4vWRUIx6w</td>\n",
       "      <td>bNYesZ944s6IJVowOnB0iA</td>\n",
       "      <td>pbEiXam9YJL3neCYHGwLUA</td>\n",
       "      <td>0</td>\n",
       "      <td>0</td>\n",
       "      <td>0</td>\n",
       "      <td>0</td>\n",
       "      <td>5</td>\n",
       "    </tr>\n",
       "    <tr>\n",
       "      <th>1</th>\n",
       "      <td>9/22/2012</td>\n",
       "      <td>0LpVTc3</td>\n",
       "      <td>TRKxLC3y-ZvP45e5iilMtw</td>\n",
       "      <td>pbEiXam9YJL3neCYHGwLUA</td>\n",
       "      <td>0</td>\n",
       "      <td>0</td>\n",
       "      <td>0</td>\n",
       "      <td>0</td>\n",
       "      <td>5</td>\n",
       "    </tr>\n",
       "    <tr>\n",
       "      <th>2</th>\n",
       "      <td>9/19/2012</td>\n",
       "      <td>tljtLzf68Fkwf</td>\n",
       "      <td>0EMm8umAqXZzyhxNpL4M9g</td>\n",
       "      <td>pbEiXam9YJL3neCYHGwLUA</td>\n",
       "      <td>0</td>\n",
       "      <td>0</td>\n",
       "      <td>0</td>\n",
       "      <td>2</td>\n",
       "      <td>3</td>\n",
       "    </tr>\n",
       "    <tr>\n",
       "      <th>3</th>\n",
       "      <td>9/6/2012</td>\n",
       "      <td>iSN</td>\n",
       "      <td>DlwexC7z88ymAzu45skODw</td>\n",
       "      <td>pbEiXam9YJL3neCYHGwLUA</td>\n",
       "      <td>0</td>\n",
       "      <td>3</td>\n",
       "      <td>0</td>\n",
       "      <td>8</td>\n",
       "      <td>3</td>\n",
       "    </tr>\n",
       "    <tr>\n",
       "      <th>4</th>\n",
       "      <td>9/9/2012</td>\n",
       "      <td>Jmwrh7</td>\n",
       "      <td>kW2dk1CWihmh3g7k9N2G8A</td>\n",
       "      <td>pbEiXam9YJL3neCYHGwLUA</td>\n",
       "      <td>0</td>\n",
       "      <td>0</td>\n",
       "      <td>2</td>\n",
       "      <td>1</td>\n",
       "      <td>5</td>\n",
       "    </tr>\n",
       "    <tr>\n",
       "      <th>...</th>\n",
       "      <td>...</td>\n",
       "      <td>...</td>\n",
       "      <td>...</td>\n",
       "      <td>...</td>\n",
       "      <td>...</td>\n",
       "      <td>...</td>\n",
       "      <td>...</td>\n",
       "      <td>...</td>\n",
       "      <td>...</td>\n",
       "    </tr>\n",
       "    <tr>\n",
       "      <th>61536</th>\n",
       "      <td>4/7/2012</td>\n",
       "      <td>I6pazvTPUqRtU</td>\n",
       "      <td>fUXNHG4x1AN9oPpBSpCtUw</td>\n",
       "      <td>_KI0Y2UO68kJuTFUKucaXQ</td>\n",
       "      <td>0</td>\n",
       "      <td>1</td>\n",
       "      <td>0</td>\n",
       "      <td>0</td>\n",
       "      <td>5</td>\n",
       "    </tr>\n",
       "    <tr>\n",
       "      <th>61537</th>\n",
       "      <td>6/5/2009</td>\n",
       "      <td>gu7FbL</td>\n",
       "      <td>QQCm2oqSnnz24Z-yHeMtxQ</td>\n",
       "      <td>_KI0Y2UO68kJuTFUKucaXQ</td>\n",
       "      <td>0</td>\n",
       "      <td>0</td>\n",
       "      <td>1</td>\n",
       "      <td>1</td>\n",
       "      <td>4</td>\n",
       "    </tr>\n",
       "    <tr>\n",
       "      <th>61538</th>\n",
       "      <td>5/6/2012</td>\n",
       "      <td>hLwn6zw</td>\n",
       "      <td>OXRKydSyzC35n2fNUnbopg</td>\n",
       "      <td>XvP-kanjF6SpchosRk0N5g</td>\n",
       "      <td>0</td>\n",
       "      <td>0</td>\n",
       "      <td>0</td>\n",
       "      <td>0</td>\n",
       "      <td>5</td>\n",
       "    </tr>\n",
       "    <tr>\n",
       "      <th>61539</th>\n",
       "      <td>1/8/2011</td>\n",
       "      <td>KEkOzeO9YJ</td>\n",
       "      <td>NE8ULc362aFvnkTDgvZbcA</td>\n",
       "      <td>XvP-kanjF6SpchosRk0N5g</td>\n",
       "      <td>0</td>\n",
       "      <td>0</td>\n",
       "      <td>1</td>\n",
       "      <td>2</td>\n",
       "      <td>2</td>\n",
       "    </tr>\n",
       "    <tr>\n",
       "      <th>61540</th>\n",
       "      <td>1/25/2010</td>\n",
       "      <td>xYkvLLWMyyYO3JEX68H</td>\n",
       "      <td>VaPi2-eXcgIpRF_LGSJ_cA</td>\n",
       "      <td>XvP-kanjF6SpchosRk0N5g</td>\n",
       "      <td>0</td>\n",
       "      <td>0</td>\n",
       "      <td>0</td>\n",
       "      <td>0</td>\n",
       "      <td>5</td>\n",
       "    </tr>\n",
       "  </tbody>\n",
       "</table>\n",
       "<p>61541 rows × 9 columns</p>\n",
       "</div>"
      ],
      "text/plain": [
       "            date               review_id             reviewer_id  \\\n",
       "0      9/22/2012  GtwU21YOQn-wf4vWRUIx6w  bNYesZ944s6IJVowOnB0iA   \n",
       "1      9/22/2012                 0LpVTc3  TRKxLC3y-ZvP45e5iilMtw   \n",
       "2      9/19/2012           tljtLzf68Fkwf  0EMm8umAqXZzyhxNpL4M9g   \n",
       "3       9/6/2012                     iSN  DlwexC7z88ymAzu45skODw   \n",
       "4       9/9/2012                  Jmwrh7  kW2dk1CWihmh3g7k9N2G8A   \n",
       "...          ...                     ...                     ...   \n",
       "61536   4/7/2012           I6pazvTPUqRtU  fUXNHG4x1AN9oPpBSpCtUw   \n",
       "61537   6/5/2009                  gu7FbL  QQCm2oqSnnz24Z-yHeMtxQ   \n",
       "61538   5/6/2012                 hLwn6zw  OXRKydSyzC35n2fNUnbopg   \n",
       "61539   1/8/2011              KEkOzeO9YJ  NE8ULc362aFvnkTDgvZbcA   \n",
       "61540  1/25/2010     xYkvLLWMyyYO3JEX68H  VaPi2-eXcgIpRF_LGSJ_cA   \n",
       "\n",
       "                   product_id  label  useful_count  funny_count  cool_count  \\\n",
       "0      pbEiXam9YJL3neCYHGwLUA      0             0            0           0   \n",
       "1      pbEiXam9YJL3neCYHGwLUA      0             0            0           0   \n",
       "2      pbEiXam9YJL3neCYHGwLUA      0             0            0           2   \n",
       "3      pbEiXam9YJL3neCYHGwLUA      0             3            0           8   \n",
       "4      pbEiXam9YJL3neCYHGwLUA      0             0            2           1   \n",
       "...                       ...    ...           ...          ...         ...   \n",
       "61536  _KI0Y2UO68kJuTFUKucaXQ      0             1            0           0   \n",
       "61537  _KI0Y2UO68kJuTFUKucaXQ      0             0            1           1   \n",
       "61538  XvP-kanjF6SpchosRk0N5g      0             0            0           0   \n",
       "61539  XvP-kanjF6SpchosRk0N5g      0             0            1           2   \n",
       "61540  XvP-kanjF6SpchosRk0N5g      0             0            0           0   \n",
       "\n",
       "       star_rating  \n",
       "0                5  \n",
       "1                5  \n",
       "2                3  \n",
       "3                3  \n",
       "4                5  \n",
       "...            ...  \n",
       "61536            5  \n",
       "61537            4  \n",
       "61538            5  \n",
       "61539            2  \n",
       "61540            5  \n",
       "\n",
       "[61541 rows x 9 columns]"
      ]
     },
     "execution_count": 11,
     "metadata": {},
     "output_type": "execute_result"
    }
   ],
   "source": [
    "### MENGINPUT METADATA\n",
    "\n",
    "df_meta2 = pd.read_csv(\"../Data/YelpChi/output_meta_yelpResData_NRYRcleaned.txt\", sep=' ', header=None\n",
    "    , names=['date','review_id','reviewer_id','product_id','label','useful_count','funny_count','cool_count'\n",
    "    ,'star_rating'])\n",
    "print(df_meta2.shape)\n",
    "\n",
    "df_meta2['label'] = df_meta2['label'].replace({'N': 0, 'Y': 1})\n",
    "df_meta2\n",
    "# df_meta['label'] = df_meta['label'].replace({'N': 0, 'Y': 1})\n"
   ]
  },
  {
   "cell_type": "code",
   "execution_count": 12,
   "metadata": {},
   "outputs": [],
   "source": [
    "import tensorflow\n",
    "from tensorflow.keras.utils import to_categorical\n",
    "from keras.models import Model\n",
    "from tensorflow.keras.models import Sequential\n",
    "from tensorflow.keras.layers import Dense, Embedding, Activation, Dropout, LSTM, Flatten, Input, concatenate\n",
    "from tensorflow.keras.layers import Conv1D, MaxPooling1D, GlobalMaxPooling1D, BatchNormalization\n",
    "\n",
    "from sklearn.model_selection import train_test_split\n"
   ]
  },
  {
   "cell_type": "code",
   "execution_count": 13,
   "metadata": {},
   "outputs": [
    {
     "data": {
      "text/plain": [
       "0    53400\n",
       "1     8141\n",
       "Name: label, dtype: int64"
      ]
     },
     "execution_count": 13,
     "metadata": {},
     "output_type": "execute_result"
    },
    {
     "data": {
      "image/png": "[encoded data removed]",
      "text/plain": [
       "<Figure size 640x480 with 1 Axes>"
      ]
     },
     "metadata": {},
     "output_type": "display_data"
    }
   ],
   "source": [
    "#variable of genuine (o) or fake (1)\n",
    "sns.countplot(x='label', data=df_meta2)\n",
    "df_meta2['label'].value_counts()\n",
    "# df_label_merged.tail(10)"
   ]
  },
  {
   "cell_type": "code",
   "execution_count": 14,
   "metadata": {},
   "outputs": [],
   "source": [
    "### PRE-PROCESS TAHAP 3-TOKENISASI\n",
    "from tensorflow.keras.preprocessing.text import Tokenizer\n",
    "from tensorflow.keras. preprocessing.sequence import pad_sequences\n",
    "review_text_ori= df_clean_big['text'].to_list()\n",
    "tokenizer_dict = {}\n",
    "tokenizer_dict['ori'] = Tokenizer()\n",
    "tokenizer_dict['ori'].fit_on_texts(review_text_ori)"
   ]
  },
  {
   "cell_type": "code",
   "execution_count": 15,
   "metadata": {},
   "outputs": [],
   "source": [
    "encode_text_ori = tokenizer_dict['ori'].texts_to_sequences(review_text_ori)"
   ]
  },
  {
   "cell_type": "code",
   "execution_count": 16,
   "metadata": {},
   "outputs": [
    {
     "name": "stdout",
     "output_type": "stream",
     "text": [
      "probably one best meals ever performance food grant achatz prepare dessert amazing getting tour kitchen prep areas downstairs personally even better prepared evening come prepared sit least hours one word describe awesome\n",
      "[138, 6, 17, 555, 68, 4064, 1, 2280, 2213, 1759, 107, 45, 246, 1635, 386, 4854, 2656, 1841, 1129, 28, 56, 421, 338, 63, 421, 268, 219, 306, 6, 811, 1283, 109]\n"
     ]
    }
   ],
   "source": [
    "print(df_clean_big['text'][1])\n",
    "print(encode_text_ori[1])"
   ]
  },
  {
   "cell_type": "code",
   "execution_count": 19,
   "metadata": {},
   "outputs": [],
   "source": [
    "# # Near-Miss Under Sampling\n",
    "# nmiss = RandomOverSampler(random_state=42)\n",
    "# under_text, under_label = nmiss.fit_resample(X_review_tfidf,df_meta['label'])"
   ]
  },
  {
   "cell_type": "code",
   "execution_count": 17,
   "metadata": {},
   "outputs": [
    {
     "name": "stdout",
     "output_type": "stream",
     "text": [
      "[[1. 0.]\n",
      " [1. 0.]\n",
      " [1. 0.]\n",
      " ...\n",
      " [1. 0.]\n",
      " [1. 0.]\n",
      " [1. 0.]]\n"
     ]
    }
   ],
   "source": [
    "genuine_fake_ori = to_categorical(df_meta2['label'])\n",
    "# genuine_fake2 = df_meta2['label']\n",
    "# genuine_fake = pd.concat([genuine_fake1,genuine_fake2],axis= 0)\n",
    "print(genuine_fake_ori)"
   ]
  },
  {
   "cell_type": "code",
   "execution_count": 19,
   "metadata": {},
   "outputs": [],
   "source": [
    "X_train3, X_test3, y_train3, y_test3 = train_test_split(encode_text_ori,genuine_fake_ori, random_state=0, test_size=0.10, stratify=genuine_fake_ori)\n",
    "X_train3, X_val3, y_train3, y_val3 = train_test_split(X_train3,y_train3, random_state=0, test_size=0.10)"
   ]
  },
  {
   "cell_type": "code",
   "execution_count": 20,
   "metadata": {},
   "outputs": [],
   "source": [
    "vocab_ori = len(tokenizer_dict['ori'].index_word)+1\n",
    "max_kata = 131\n",
    "X_train3 = pad_sequences(X_train3, maxlen=max_kata, padding='post' )\n",
    "X_test3 = pad_sequences(X_test3, maxlen=max_kata, padding='post' )\n",
    "X_val3 = pad_sequences(X_val3, maxlen=max_kata, padding='post' )"
   ]
  },
  {
   "cell_type": "code",
   "execution_count": 21,
   "metadata": {},
   "outputs": [
    {
     "name": "stdout",
     "output_type": "stream",
     "text": [
      "56905\n"
     ]
    }
   ],
   "source": [
    "print(vocab_ori)"
   ]
  },
  {
   "cell_type": "code",
   "execution_count": 22,
   "metadata": {},
   "outputs": [
    {
     "name": "stdout",
     "output_type": "stream",
     "text": [
      "(49847, 131) (6155, 131) (49847, 2) (6155, 2)\n"
     ]
    }
   ],
   "source": [
    "print(X_train3.shape,X_test3.shape,y_train3.shape,y_test3.shape)"
   ]
  },
  {
   "cell_type": "code",
   "execution_count": 23,
   "metadata": {},
   "outputs": [],
   "source": [
    "from gensim.models import KeyedVectors"
   ]
  },
  {
   "cell_type": "code",
   "execution_count": 25,
   "metadata": {},
   "outputs": [],
   "source": [
    "word2vec = KeyedVectors.load_word2vec_format(\"../Data/GoogleNews-vectors-negative300.bin\", binary=True)"
   ]
  },
  {
   "cell_type": "code",
   "execution_count": 27,
   "metadata": {},
   "outputs": [],
   "source": [
    "# # Testing Some Simliarities \n",
    "# w2 = 'love'\n",
    "# word2vec.most_similar_cosmul(positive=w2)"
   ]
  },
  {
   "cell_type": "code",
   "execution_count": 26,
   "metadata": {},
   "outputs": [
    {
     "name": "stdout",
     "output_type": "stream",
     "text": [
      "Null word embeddings: 18073\n"
     ]
    }
   ],
   "source": [
    "# Word Embedding\n",
    "def make_embedding(unique_word,text):\n",
    "    embedding_dim = 300\n",
    "    matrix = np.zeros((unique_word+1, embedding_dim)) \n",
    "    for word, i in text:\n",
    "        if word in word2vec.index_to_key:\n",
    "            matrix[i] = word2vec[word]\n",
    "    \n",
    "    print('Null word embeddings: %d' % np.sum(np.sum(matrix, axis=1) == 0))\n",
    "    return matrix\n",
    "\n",
    "# embedding_matrix_few = make_embedding(vocab_few,tokenizer_dict['few'].word_index.items())\n",
    "# embedding_matrix_many = make_embedding(vocab_many,tokenizer_dict['many'].word_index.items())\n",
    "embedding_matrix_ori = make_embedding(vocab_ori,tokenizer_dict['ori'].word_index.items())"
   ]
  },
  {
   "cell_type": "code",
   "execution_count": 27,
   "metadata": {},
   "outputs": [],
   "source": [
    "from senticnet4 import senticnet4\n",
    "\n",
    "senticnet = senticnet4.senticnet\n",
    "#mengambil hanya nilai polaritinya saja\n",
    "for key in senticnet:\n",
    "    senticnet[key] = senticnet[key][:4]"
   ]
  },
  {
   "cell_type": "code",
   "execution_count": 31,
   "metadata": {},
   "outputs": [],
   "source": [
    "# lexicon_matrix = np.zeros((vocab+1, 4))\n",
    "\n",
    "# for word, i in token.word_index.items():      \n",
    "#     if word in senticnet:\n",
    "#         lexicon_matrix[i] = senticnet.get(word)\n",
    "        \n",
    "# print('Null word embeddings: %d' % np.sum(np.sum(lexicon_matrix, axis=1) == 0))"
   ]
  },
  {
   "cell_type": "code",
   "execution_count": 28,
   "metadata": {},
   "outputs": [
    {
     "name": "stdout",
     "output_type": "stream",
     "text": [
      "Null word embeddings: 45140\n"
     ]
    }
   ],
   "source": [
    "def make_lex_embedding(unique_word,text):\n",
    "    embedding_dim = 4\n",
    "    matrix = np.zeros((unique_word+1, embedding_dim)) \n",
    "    for word, i in text:\n",
    "        if word in senticnet:\n",
    "            matrix[i] = senticnet.get(word)\n",
    "    \n",
    "    print('Null word embeddings: %d' % np.sum(np.sum(matrix, axis=1) == 0))\n",
    "    return matrix\n",
    "\n",
    "\n",
    "# lexicon_matrix_few = make_lex_embedding(vocab_few,tokenizer_dict['few'].word_index.items())\n",
    "# lexicon_matrix_many = make_lex_embedding(vocab_many,tokenizer_dict['many'].word_index.items())\n",
    "lexicon_matrix_ori = make_lex_embedding(vocab_ori,tokenizer_dict['ori'].word_index.items())"
   ]
  },
  {
   "cell_type": "code",
   "execution_count": 35,
   "metadata": {},
   "outputs": [
    {
     "data": {
      "text/html": [
       "<div>\n",
       "<style scoped>\n",
       "    .dataframe tbody tr th:only-of-type {\n",
       "        vertical-align: middle;\n",
       "    }\n",
       "\n",
       "    .dataframe tbody tr th {\n",
       "        vertical-align: top;\n",
       "    }\n",
       "\n",
       "    .dataframe thead th {\n",
       "        text-align: right;\n",
       "    }\n",
       "</style>\n",
       "<table border=\"1\" class=\"dataframe\">\n",
       "  <thead>\n",
       "    <tr style=\"text-align: right;\">\n",
       "      <th></th>\n",
       "      <th>0</th>\n",
       "      <th>1</th>\n",
       "      <th>2</th>\n",
       "      <th>3</th>\n",
       "    </tr>\n",
       "  </thead>\n",
       "  <tbody>\n",
       "    <tr>\n",
       "      <th>0</th>\n",
       "      <td>0.000</td>\n",
       "      <td>0.000</td>\n",
       "      <td>0.000</td>\n",
       "      <td>0.000</td>\n",
       "    </tr>\n",
       "    <tr>\n",
       "      <th>1</th>\n",
       "      <td>-0.070</td>\n",
       "      <td>0.000</td>\n",
       "      <td>0.009</td>\n",
       "      <td>-0.120</td>\n",
       "    </tr>\n",
       "    <tr>\n",
       "      <th>2</th>\n",
       "      <td>0.000</td>\n",
       "      <td>-0.070</td>\n",
       "      <td>0.000</td>\n",
       "      <td>0.000</td>\n",
       "    </tr>\n",
       "    <tr>\n",
       "      <th>3</th>\n",
       "      <td>0.905</td>\n",
       "      <td>0.773</td>\n",
       "      <td>0.000</td>\n",
       "      <td>0.892</td>\n",
       "    </tr>\n",
       "    <tr>\n",
       "      <th>4</th>\n",
       "      <td>0.053</td>\n",
       "      <td>0.127</td>\n",
       "      <td>-0.080</td>\n",
       "      <td>0.134</td>\n",
       "    </tr>\n",
       "    <tr>\n",
       "      <th>5</th>\n",
       "      <td>0.000</td>\n",
       "      <td>0.000</td>\n",
       "      <td>0.000</td>\n",
       "      <td>0.000</td>\n",
       "    </tr>\n",
       "    <tr>\n",
       "      <th>6</th>\n",
       "      <td>0.147</td>\n",
       "      <td>0.126</td>\n",
       "      <td>-0.090</td>\n",
       "      <td>0.314</td>\n",
       "    </tr>\n",
       "    <tr>\n",
       "      <th>7</th>\n",
       "      <td>0.000</td>\n",
       "      <td>0.000</td>\n",
       "      <td>0.000</td>\n",
       "      <td>0.000</td>\n",
       "    </tr>\n",
       "    <tr>\n",
       "      <th>8</th>\n",
       "      <td>0.000</td>\n",
       "      <td>0.000</td>\n",
       "      <td>0.000</td>\n",
       "      <td>0.000</td>\n",
       "    </tr>\n",
       "    <tr>\n",
       "      <th>9</th>\n",
       "      <td>-0.610</td>\n",
       "      <td>0.000</td>\n",
       "      <td>0.856</td>\n",
       "      <td>-0.820</td>\n",
       "    </tr>\n",
       "    <tr>\n",
       "      <th>10</th>\n",
       "      <td>0.805</td>\n",
       "      <td>-0.920</td>\n",
       "      <td>0.000</td>\n",
       "      <td>0.794</td>\n",
       "    </tr>\n",
       "    <tr>\n",
       "      <th>11</th>\n",
       "      <td>0.120</td>\n",
       "      <td>-0.120</td>\n",
       "      <td>0.000</td>\n",
       "      <td>0.106</td>\n",
       "    </tr>\n",
       "    <tr>\n",
       "      <th>12</th>\n",
       "      <td>-0.830</td>\n",
       "      <td>0.000</td>\n",
       "      <td>-0.820</td>\n",
       "      <td>0.000</td>\n",
       "    </tr>\n",
       "    <tr>\n",
       "      <th>13</th>\n",
       "      <td>0.000</td>\n",
       "      <td>0.000</td>\n",
       "      <td>0.000</td>\n",
       "      <td>0.000</td>\n",
       "    </tr>\n",
       "    <tr>\n",
       "      <th>14</th>\n",
       "      <td>0.035</td>\n",
       "      <td>0.000</td>\n",
       "      <td>0.000</td>\n",
       "      <td>0.092</td>\n",
       "    </tr>\n",
       "    <tr>\n",
       "      <th>15</th>\n",
       "      <td>0.920</td>\n",
       "      <td>-0.880</td>\n",
       "      <td>0.000</td>\n",
       "      <td>0.695</td>\n",
       "    </tr>\n",
       "    <tr>\n",
       "      <th>16</th>\n",
       "      <td>0.000</td>\n",
       "      <td>0.061</td>\n",
       "      <td>0.000</td>\n",
       "      <td>0.109</td>\n",
       "    </tr>\n",
       "    <tr>\n",
       "      <th>17</th>\n",
       "      <td>0.000</td>\n",
       "      <td>0.000</td>\n",
       "      <td>0.000</td>\n",
       "      <td>0.000</td>\n",
       "    </tr>\n",
       "    <tr>\n",
       "      <th>18</th>\n",
       "      <td>0.884</td>\n",
       "      <td>0.739</td>\n",
       "      <td>0.000</td>\n",
       "      <td>0.000</td>\n",
       "    </tr>\n",
       "    <tr>\n",
       "      <th>19</th>\n",
       "      <td>0.526</td>\n",
       "      <td>-0.560</td>\n",
       "      <td>0.000</td>\n",
       "      <td>0.903</td>\n",
       "    </tr>\n",
       "    <tr>\n",
       "      <th>20</th>\n",
       "      <td>0.860</td>\n",
       "      <td>-0.790</td>\n",
       "      <td>0.000</td>\n",
       "      <td>0.930</td>\n",
       "    </tr>\n",
       "    <tr>\n",
       "      <th>21</th>\n",
       "      <td>0.000</td>\n",
       "      <td>0.995</td>\n",
       "      <td>0.000</td>\n",
       "      <td>0.742</td>\n",
       "    </tr>\n",
       "    <tr>\n",
       "      <th>22</th>\n",
       "      <td>0.000</td>\n",
       "      <td>0.171</td>\n",
       "      <td>-0.050</td>\n",
       "      <td>0.102</td>\n",
       "    </tr>\n",
       "    <tr>\n",
       "      <th>23</th>\n",
       "      <td>0.000</td>\n",
       "      <td>0.000</td>\n",
       "      <td>0.000</td>\n",
       "      <td>0.000</td>\n",
       "    </tr>\n",
       "    <tr>\n",
       "      <th>24</th>\n",
       "      <td>0.000</td>\n",
       "      <td>0.000</td>\n",
       "      <td>0.000</td>\n",
       "      <td>0.000</td>\n",
       "    </tr>\n",
       "    <tr>\n",
       "      <th>25</th>\n",
       "      <td>0.000</td>\n",
       "      <td>0.000</td>\n",
       "      <td>0.000</td>\n",
       "      <td>0.000</td>\n",
       "    </tr>\n",
       "    <tr>\n",
       "      <th>26</th>\n",
       "      <td>0.854</td>\n",
       "      <td>-0.700</td>\n",
       "      <td>0.000</td>\n",
       "      <td>0.912</td>\n",
       "    </tr>\n",
       "    <tr>\n",
       "      <th>27</th>\n",
       "      <td>0.986</td>\n",
       "      <td>0.000</td>\n",
       "      <td>0.000</td>\n",
       "      <td>0.000</td>\n",
       "    </tr>\n",
       "    <tr>\n",
       "      <th>28</th>\n",
       "      <td>0.000</td>\n",
       "      <td>0.000</td>\n",
       "      <td>0.000</td>\n",
       "      <td>0.000</td>\n",
       "    </tr>\n",
       "    <tr>\n",
       "      <th>29</th>\n",
       "      <td>0.000</td>\n",
       "      <td>-0.120</td>\n",
       "      <td>0.000</td>\n",
       "      <td>0.105</td>\n",
       "    </tr>\n",
       "  </tbody>\n",
       "</table>\n",
       "</div>"
      ],
      "text/plain": [
       "        0      1      2      3\n",
       "0   0.000  0.000  0.000  0.000\n",
       "1  -0.070  0.000  0.009 -0.120\n",
       "2   0.000 -0.070  0.000  0.000\n",
       "3   0.905  0.773  0.000  0.892\n",
       "4   0.053  0.127 -0.080  0.134\n",
       "5   0.000  0.000  0.000  0.000\n",
       "6   0.147  0.126 -0.090  0.314\n",
       "7   0.000  0.000  0.000  0.000\n",
       "8   0.000  0.000  0.000  0.000\n",
       "9  -0.610  0.000  0.856 -0.820\n",
       "10  0.805 -0.920  0.000  0.794\n",
       "11  0.120 -0.120  0.000  0.106\n",
       "12 -0.830  0.000 -0.820  0.000\n",
       "13  0.000  0.000  0.000  0.000\n",
       "14  0.035  0.000  0.000  0.092\n",
       "15  0.920 -0.880  0.000  0.695\n",
       "16  0.000  0.061  0.000  0.109\n",
       "17  0.000  0.000  0.000  0.000\n",
       "18  0.884  0.739  0.000  0.000\n",
       "19  0.526 -0.560  0.000  0.903\n",
       "20  0.860 -0.790  0.000  0.930\n",
       "21  0.000  0.995  0.000  0.742\n",
       "22  0.000  0.171 -0.050  0.102\n",
       "23  0.000  0.000  0.000  0.000\n",
       "24  0.000  0.000  0.000  0.000\n",
       "25  0.000  0.000  0.000  0.000\n",
       "26  0.854 -0.700  0.000  0.912\n",
       "27  0.986  0.000  0.000  0.000\n",
       "28  0.000  0.000  0.000  0.000\n",
       "29  0.000 -0.120  0.000  0.105"
      ]
     },
     "execution_count": 35,
     "metadata": {},
     "output_type": "execute_result"
    }
   ],
   "source": [
    "dfae = pd.DataFrame(lexicon_matrix)\n",
    "dfae.head(30)"
   ]
  },
  {
   "cell_type": "code",
   "execution_count": 36,
   "metadata": {},
   "outputs": [
    {
     "name": "stdout",
     "output_type": "stream",
     "text": [
      "(10238, 300)\n",
      "(10238, 4)\n"
     ]
    }
   ],
   "source": [
    "print(embedding_matrix.shape)\n",
    "print(lexicon_matrix.shape)"
   ]
  },
  {
   "cell_type": "code",
   "execution_count": 29,
   "metadata": {},
   "outputs": [],
   "source": [
    "#naive concatenation, mengkonkat kedua feature tanpa prerlakuan khusus\n",
    "def naive_concatenation(word2vec_features, lexicon_features):\n",
    "    return np.concatenate((word2vec_features, lexicon_features), axis=1)\n",
    "\n",
    "# concatenated_few = naive_concatenation(embedding_matrix_few,lexicon_matrix_few)\n",
    "# concatenated_many = naive_concatenation(embedding_matrix_many,lexicon_matrix_many)\n",
    "concatenated_ori = naive_concatenation(embedding_matrix_ori,lexicon_matrix_ori)"
   ]
  },
  {
   "cell_type": "code",
   "execution_count": 30,
   "metadata": {},
   "outputs": [],
   "source": [
    "#multichannel dimana feature dengan dimensi terkecil(lexicon) akan mempadding dirinya agar bisa seimbang dalam pemisahan di channel model\n",
    "def concatenate_features(x, x_lex):\n",
    "    w2vdim = x.shape[1]\n",
    "    lexdim = x_lex.shape[1]\n",
    "    npad = ((0, 0), (0, w2vdim - lexdim))\n",
    "\n",
    "    x_lex_padded = np.pad(x_lex, pad_width=npad, mode='constant', constant_values=0)\n",
    "    x_fat = np.concatenate((x[..., np.newaxis], x_lex_padded[..., np.newaxis]), axis=2)\n",
    "\n",
    "    return x_lex_padded\n",
    "\n",
    "# multichannel_few = concatenate_features(embedding_matrix_few,lexicon_matrix_few)\n",
    "# multichannel_many = concatenate_features(embedding_matrix_many,lexicon_matrix_many)\n",
    "multichannel_ori = concatenate_features(embedding_matrix_ori,lexicon_matrix_ori)"
   ]
  },
  {
   "attachments": {},
   "cell_type": "markdown",
   "metadata": {},
   "source": [
    "#seleksi fitur word embedding glove\n",
    "embedding_dictionary = dict()\n",
    "#glove_file = open('C:\\Users\\Sayang\\Documents\\code skripsi\\dataTemp\\Glove.6B.100d.txt', encoding='utf8')\n",
    "glove_file = open('C:\\glove.6B.100d.txt', encoding='utf8')\n",
    "\n",
    "for line in glove_file:\n",
    "    records = line.split()\n",
    "    word = records[0]\n",
    "    vector_dimensions = np.asarray(records[1:], dtype='float32')\n",
    "    embedding_dictionary [word] = vector_dimensions\n",
    "glove_file.close()"
   ]
  },
  {
   "attachments": {},
   "cell_type": "markdown",
   "metadata": {},
   "source": [
    "from numpy import zeros\n",
    "\n",
    "embedding_matrix = zeros((vocab, 100))\n",
    "for word, index in token.word_index.items(): #index_word\n",
    "    embedding_vector = embedding_dictionary.get(word)\n",
    "    if embedding_vector is not None:\n",
    "        embedding_matrix[index] = embedding_vector"
   ]
  },
  {
   "cell_type": "code",
   "execution_count": 33,
   "metadata": {},
   "outputs": [],
   "source": [
    "from sklearn.metrics import accuracy_score, precision_score, recall_score, f1_score, roc_auc_score\n",
    "def generate_model_report(y_actual,y_prediction):\n",
    "    akurasi = accuracy_score(y_actual,y_prediction)\n",
    "    recall = recall_score(y_actual,y_prediction)\n",
    "    presisi = precision_score(y_actual,y_prediction)\n",
    "    f1 = f1_score(y_actual,y_prediction)\n",
    "    auc = roc_auc_score(y_actual,y_prediction)\n",
    "    # print(\"Akurasi : \", akurasi)\n",
    "    # print(\"Recall : \", recall)\n",
    "    # print(\"Presisi : \", presisi)\n",
    "    # print(\"F1-Score : \",f1)\n",
    "    return akurasi, recall, presisi, f1, auc"
   ]
  },
  {
   "cell_type": "code",
   "execution_count": 32,
   "metadata": {},
   "outputs": [
    {
     "name": "stdout",
     "output_type": "stream",
     "text": [
      "Model: \"model\"\n",
      "_________________________________________________________________\n",
      " Layer (type)                Output Shape              Param #   \n",
      "=================================================================\n",
      " input_1 (InputLayer)        [(None, 131)]             0         \n",
      "                                                                 \n",
      " embedding (Embedding)       (None, 131, 300)          17071500  \n",
      "                                                                 \n",
      " conv1d (Conv1D)             (None, 129, 64)           57664     \n",
      "                                                                 \n",
      " max_pooling1d (MaxPooling1D  (None, 64, 64)           0         \n",
      " )                                                               \n",
      "                                                                 \n",
      " conv1d_1 (Conv1D)           (None, 62, 128)           24704     \n",
      "                                                                 \n",
      " max_pooling1d_1 (MaxPooling  (None, 31, 128)          0         \n",
      " 1D)                                                             \n",
      "                                                                 \n",
      " dropout (Dropout)           (None, 31, 128)           0         \n",
      "                                                                 \n",
      " global_max_pooling1d (Globa  (None, 128)              0         \n",
      " lMaxPooling1D)                                                  \n",
      "                                                                 \n",
      " dense (Dense)               (None, 2)                 258       \n",
      "                                                                 \n",
      "=================================================================\n",
      "Total params: 17,154,126\n",
      "Trainable params: 82,626\n",
      "Non-trainable params: 17,071,500\n",
      "_________________________________________________________________\n"
     ]
    }
   ],
   "source": [
    "def cnn_base(embedding_layer,output_dim,input_dim):\n",
    "    input_word = Input(shape=(max_kata,))\n",
    "    embed_word = Embedding(input_dim= input_dim, output_dim=output_dim, weights=embedding_layer, input_length=max_kata, trainable = False)(input_word)\n",
    "    # define the convolution layer\n",
    "    # concatenated = concatenate([embed_word, embed_lex], axis=-1)\n",
    "    x = Conv1D(64, kernel_size=3, activation='relu')(embed_word)\n",
    "    x = MaxPooling1D(pool_size=2)(x)\n",
    "    x = Conv1D(128, kernel_size=3, activation='relu')(x)\n",
    "    x = MaxPooling1D(pool_size=2)(x)\n",
    "    x = Dropout(0.5)(x)\n",
    "    # flatten the output\n",
    "    x = GlobalMaxPooling1D()(x)\n",
    "    # define the output layer\n",
    "    output_tensor = Dense(2, activation='sigmoid')(x)\n",
    "    model = Model(input_word, outputs=output_tensor)\n",
    "    model.compile(optimizer='adam',  loss=\"binary_crossentropy\", metrics=['accuracy'])\n",
    "    return model\n",
    "\n",
    "model_base = cnn_base(None,300,vocab_ori)\n",
    "model_base.summary()"
   ]
  },
  {
   "cell_type": "code",
   "execution_count": 34,
   "metadata": {},
   "outputs": [
    {
     "name": "stdout",
     "output_type": "stream",
     "text": [
      "Epoch 1/10\n",
      "3116/3116 [==============================] - 217s 67ms/step - loss: 0.3752 - accuracy: 0.8671 - val_loss: 0.3907 - val_accuracy: 0.8709\n",
      "Epoch 2/10\n",
      "3116/3116 [==============================] - 209s 67ms/step - loss: 0.3633 - accuracy: 0.8674 - val_loss: 0.4104 - val_accuracy: 0.8707\n",
      "Epoch 3/10\n",
      "3116/3116 [==============================] - 205s 66ms/step - loss: 0.3484 - accuracy: 0.8672 - val_loss: 0.3932 - val_accuracy: 0.8706\n",
      "Epoch 4/10\n",
      "3116/3116 [==============================] - 214s 69ms/step - loss: 0.3227 - accuracy: 0.8708 - val_loss: 0.3913 - val_accuracy: 0.8621\n",
      "Epoch 5/10\n",
      "3116/3116 [==============================] - 212s 68ms/step - loss: 0.2811 - accuracy: 0.8857 - val_loss: 0.4104 - val_accuracy: 0.8469\n",
      "Epoch 6/10\n",
      "3116/3116 [==============================] - 211s 68ms/step - loss: 0.2279 - accuracy: 0.9070 - val_loss: 0.4317 - val_accuracy: 0.8303\n",
      "Epoch 7/10\n",
      "3116/3116 [==============================] - 214s 69ms/step - loss: 0.1735 - accuracy: 0.9312 - val_loss: 0.4980 - val_accuracy: 0.7926\n",
      "Epoch 8/10\n",
      "3116/3116 [==============================] - 216s 69ms/step - loss: 0.1316 - accuracy: 0.9487 - val_loss: 0.5197 - val_accuracy: 0.8074\n",
      "Epoch 9/10\n",
      "3116/3116 [==============================] - 218s 70ms/step - loss: 0.1019 - accuracy: 0.9601 - val_loss: 0.5889 - val_accuracy: 0.7958\n",
      "Epoch 10/10\n",
      "3116/3116 [==============================] - 219s 70ms/step - loss: 0.0848 - accuracy: 0.9668 - val_loss: 0.6320 - val_accuracy: 0.8110\n"
     ]
    }
   ],
   "source": [
    "# model_base.compile(optimizer='adam',  loss=\"binary_crossentropy\", metrics=['accuracy'])\n",
    "history_base = model_base.fit(X_train3, y_train3, epochs=10,batch_size=16, validation_data=(X_val3,y_val3))"
   ]
  },
  {
   "cell_type": "code",
   "execution_count": 35,
   "metadata": {},
   "outputs": [
    {
     "name": "stdout",
     "output_type": "stream",
     "text": [
      "193/193 [==============================] - 12s 61ms/step - loss: 0.6076 - accuracy: 0.8136\n",
      "193/193 [==============================] - 10s 43ms/step\n"
     ]
    }
   ],
   "source": [
    "from sklearn.metrics import confusion_matrix,classification_report\n",
    "import seaborn as sns\n",
    "\n",
    "eval_base = model_base.evaluate(X_test3, y_test3)\n",
    "y_pred=model_base.predict(X_test3)\n",
    "y_pred=np.argmax(y_pred,axis=1)\n",
    "y_testnp=np.argmax(y_test3,axis=1)\n",
    "cm1 =confusion_matrix(y_testnp,y_pred)\n",
    "acc_base, recall_base, preisi_base, f1_base, auc_base = generate_model_report(y_testnp,y_pred)"
   ]
  },
  {
   "cell_type": "code",
   "execution_count": 36,
   "metadata": {},
   "outputs": [
    {
     "name": "stdout",
     "output_type": "stream",
     "text": [
      "0.8136474411047928 0.16584766584766586 0.22388059701492538 0.1905434015525759 0.5391118127029005\n"
     ]
    }
   ],
   "source": [
    "print(acc_base, recall_base, preisi_base, f1_base, auc_base)"
   ]
  },
  {
   "cell_type": "code",
   "execution_count": 40,
   "metadata": {},
   "outputs": [
    {
     "name": "stdout",
     "output_type": "stream",
     "text": [
      "Model: \"model_1\"\n",
      "_________________________________________________________________\n",
      " Layer (type)                Output Shape              Param #   \n",
      "=================================================================\n",
      " input_2 (InputLayer)        [(None, 300)]             0         \n",
      "                                                                 \n",
      " embedding_1 (Embedding)     (None, 300, 304)          18322688  \n",
      "                                                                 \n",
      " conv1d_2 (Conv1D)           (None, 298, 64)           58432     \n",
      "                                                                 \n",
      " max_pooling1d_2 (MaxPooling  (None, 149, 64)          0         \n",
      " 1D)                                                             \n",
      "                                                                 \n",
      " conv1d_3 (Conv1D)           (None, 147, 128)          24704     \n",
      "                                                                 \n",
      " max_pooling1d_3 (MaxPooling  (None, 73, 128)          0         \n",
      " 1D)                                                             \n",
      "                                                                 \n",
      " dropout_1 (Dropout)         (None, 73, 128)           0         \n",
      "                                                                 \n",
      " global_max_pooling1d_1 (Glo  (None, 128)              0         \n",
      " balMaxPooling1D)                                                \n",
      "                                                                 \n",
      " dense_1 (Dense)             (None, 2)                 258       \n",
      "                                                                 \n",
      "=================================================================\n",
      "Total params: 18,406,082\n",
      "Trainable params: 83,394\n",
      "Non-trainable params: 18,322,688\n",
      "_________________________________________________________________\n"
     ]
    }
   ],
   "source": [
    "model_naive_c = cnn_base([concatenated_ori],concatenated_ori.shape[1],vocab_ori+1)\n",
    "model_naive_c.summary()"
   ]
  },
  {
   "attachments": {},
   "cell_type": "markdown",
   "metadata": {},
   "source": []
  },
  {
   "cell_type": "code",
   "execution_count": 41,
   "metadata": {},
   "outputs": [
    {
     "name": "stdout",
     "output_type": "stream",
     "text": [
      "Epoch 1/10\n",
      "948/948 [==============================] - 313s 329ms/step - loss: 0.3692 - accuracy: 0.8668 - val_loss: 0.3843 - val_accuracy: 0.8680\n",
      "Epoch 2/10\n",
      "948/948 [==============================] - 310s 327ms/step - loss: 0.3567 - accuracy: 0.8670 - val_loss: 0.4061 - val_accuracy: 0.8685\n",
      "Epoch 3/10\n",
      "948/948 [==============================] - 308s 325ms/step - loss: 0.3487 - accuracy: 0.8680 - val_loss: 0.3753 - val_accuracy: 0.8684\n",
      "Epoch 4/10\n",
      "948/948 [==============================] - 305s 322ms/step - loss: 0.3365 - accuracy: 0.8698 - val_loss: 0.3781 - val_accuracy: 0.8678\n",
      "Epoch 5/10\n",
      "948/948 [==============================] - 304s 321ms/step - loss: 0.3209 - accuracy: 0.8735 - val_loss: 0.4070 - val_accuracy: 0.8558\n",
      "Epoch 6/10\n",
      "948/948 [==============================] - 304s 321ms/step - loss: 0.2978 - accuracy: 0.8797 - val_loss: 0.4000 - val_accuracy: 0.8519\n",
      "Epoch 7/10\n",
      "948/948 [==============================] - 306s 323ms/step - loss: 0.2715 - accuracy: 0.8887 - val_loss: 0.3787 - val_accuracy: 0.8565\n",
      "Epoch 8/10\n",
      "948/948 [==============================] - 305s 321ms/step - loss: 0.2402 - accuracy: 0.9014 - val_loss: 0.4480 - val_accuracy: 0.8043\n",
      "Epoch 9/10\n",
      "948/948 [==============================] - 302s 319ms/step - loss: 0.2120 - accuracy: 0.9114 - val_loss: 0.4116 - val_accuracy: 0.8447\n",
      "Epoch 10/10\n",
      "948/948 [==============================] - 301s 317ms/step - loss: 0.1839 - accuracy: 0.9237 - val_loss: 0.4424 - val_accuracy: 0.8292\n"
     ]
    }
   ],
   "source": [
    "history_naive = model_naive_c.fit(X_train3, y_train3, epochs=10,batch_size=64, validation_data=(X_test3,y_test3))"
   ]
  },
  {
   "cell_type": "code",
   "execution_count": 42,
   "metadata": {},
   "outputs": [
    {
     "name": "stdout",
     "output_type": "stream",
     "text": [
      "211/211 [==============================] - 14s 65ms/step - loss: 0.4424 - accuracy: 0.8292\n",
      "211/211 [==============================] - 14s 63ms/step\n"
     ]
    }
   ],
   "source": [
    "eval_naive = model_naive_c.evaluate(X_test3, y_test3)\n",
    "y_pred=model_naive_c.predict(X_test3)\n",
    "y_pred=np.argmax(y_pred,axis=1)\n",
    "y_testnp=np.argmax(y_test3,axis=1)\n",
    "cm2 =confusion_matrix(y_testnp,y_pred)\n",
    "acc_naive, recall_naive, preisi_naive, f1_naive = generate_model_report(y_testnp,y_pred)"
   ]
  },
  {
   "cell_type": "code",
   "execution_count": 43,
   "metadata": {},
   "outputs": [
    {
     "name": "stdout",
     "output_type": "stream",
     "text": [
      "Model: \"model_2\"\n",
      "__________________________________________________________________________________________________\n",
      " Layer (type)                   Output Shape         Param #     Connected to                     \n",
      "==================================================================================================\n",
      " input_3 (InputLayer)           [(None, 300)]        0           []                               \n",
      "                                                                                                  \n",
      " embedding_2 (Embedding)        (None, 300, 300)     18081600    ['input_3[0][0]']                \n",
      "                                                                                                  \n",
      " embedding_3 (Embedding)        (None, 300, 300)     18081600    ['input_3[0][0]']                \n",
      "                                                                                                  \n",
      " concatenate (Concatenate)      (None, 300, 600)     0           ['embedding_2[0][0]',            \n",
      "                                                                  'embedding_3[0][0]']            \n",
      "                                                                                                  \n",
      " conv1d_4 (Conv1D)              (None, 298, 64)      115264      ['concatenate[0][0]']            \n",
      "                                                                                                  \n",
      " max_pooling1d_4 (MaxPooling1D)  (None, 149, 64)     0           ['conv1d_4[0][0]']               \n",
      "                                                                                                  \n",
      " conv1d_5 (Conv1D)              (None, 147, 128)     24704       ['max_pooling1d_4[0][0]']        \n",
      "                                                                                                  \n",
      " max_pooling1d_5 (MaxPooling1D)  (None, 73, 128)     0           ['conv1d_5[0][0]']               \n",
      "                                                                                                  \n",
      " dropout_2 (Dropout)            (None, 73, 128)      0           ['max_pooling1d_5[0][0]']        \n",
      "                                                                                                  \n",
      " global_max_pooling1d_2 (Global  (None, 128)         0           ['dropout_2[0][0]']              \n",
      " MaxPooling1D)                                                                                    \n",
      "                                                                                                  \n",
      " dense_2 (Dense)                (None, 2)            258         ['global_max_pooling1d_2[0][0]'] \n",
      "                                                                                                  \n",
      "==================================================================================================\n",
      "Total params: 36,303,426\n",
      "Trainable params: 140,226\n",
      "Non-trainable params: 36,163,200\n",
      "__________________________________________________________________________________________________\n"
     ]
    }
   ],
   "source": [
    "def cnn_multichannel(embedding_layer,lexicon_layer,input_dim):\n",
    "    input_word = Input(shape=(max_kata,))\n",
    "    embed_word = Embedding(input_dim= input_dim+1, output_dim=embedding_layer.shape[1], weights=[embedding_layer], input_length=max_kata, trainable = False)(input_word)\n",
    "    embed_lex = Embedding(input_dim= input_dim+1, output_dim=lexicon_layer.shape[1], weights=[lexicon_layer], input_length=max_kata, trainable = False)(input_word)\n",
    "    # define the convolution layer\n",
    "    # concatenated = concatenate([embed_word, embed_lex], axis=-1)\n",
    "    concatenated = concatenate([embed_word, embed_lex], axis=-1)\n",
    "    x = Conv1D(64, kernel_size=3, activation='relu')(concatenated)\n",
    "    x = MaxPooling1D(pool_size=2)(x)\n",
    "    x = Conv1D(128, kernel_size=3, activation='relu')(x)\n",
    "    x = MaxPooling1D(pool_size=2)(x)\n",
    "    x = Dropout(0.5)(x)\n",
    "    # flatten the output\n",
    "    x = GlobalMaxPooling1D()(x)\n",
    "    # define the output layer\n",
    "    output_tensor = Dense(2, activation='sigmoid')(x)\n",
    "    model = Model(input_word, outputs=output_tensor)\n",
    "    model.compile(optimizer='adam',  loss=\"binary_crossentropy\", metrics=['accuracy'])\n",
    "    return model\n",
    "\n",
    "model_multichannel = cnn_multichannel(embedding_matrix_ori,multichannel_ori,vocab_ori)\n",
    "model_multichannel.summary()"
   ]
  },
  {
   "cell_type": "code",
   "execution_count": 44,
   "metadata": {},
   "outputs": [
    {
     "name": "stdout",
     "output_type": "stream",
     "text": [
      "Epoch 1/10\n",
      "948/948 [==============================] - 519s 546ms/step - loss: 0.3697 - accuracy: 0.8672 - val_loss: 0.4186 - val_accuracy: 0.8680\n",
      "Epoch 2/10\n",
      "948/948 [==============================] - 515s 543ms/step - loss: 0.3566 - accuracy: 0.8677 - val_loss: 0.3996 - val_accuracy: 0.8677\n",
      "Epoch 3/10\n",
      "948/948 [==============================] - 518s 547ms/step - loss: 0.3482 - accuracy: 0.8682 - val_loss: 0.3981 - val_accuracy: 0.8672\n",
      "Epoch 4/10\n",
      "948/948 [==============================] - 514s 543ms/step - loss: 0.3373 - accuracy: 0.8692 - val_loss: 0.3812 - val_accuracy: 0.8681\n",
      "Epoch 5/10\n",
      "948/948 [==============================] - 517s 545ms/step - loss: 0.3209 - accuracy: 0.8739 - val_loss: 0.3876 - val_accuracy: 0.8610\n",
      "Epoch 6/10\n",
      "948/948 [==============================] - 516s 544ms/step - loss: 0.2995 - accuracy: 0.8800 - val_loss: 0.3844 - val_accuracy: 0.8613\n",
      "Epoch 7/10\n",
      "948/948 [==============================] - 522s 550ms/step - loss: 0.2710 - accuracy: 0.8900 - val_loss: 0.4039 - val_accuracy: 0.8473\n",
      "Epoch 8/10\n",
      "948/948 [==============================] - 519s 547ms/step - loss: 0.2421 - accuracy: 0.9004 - val_loss: 0.3865 - val_accuracy: 0.8558\n",
      "Epoch 9/10\n",
      "948/948 [==============================] - 523s 552ms/step - loss: 0.2149 - accuracy: 0.9116 - val_loss: 0.4278 - val_accuracy: 0.8306\n",
      "Epoch 10/10\n",
      "948/948 [==============================] - 526s 555ms/step - loss: 0.1852 - accuracy: 0.9228 - val_loss: 0.4582 - val_accuracy: 0.8190\n"
     ]
    }
   ],
   "source": [
    "history_multi = model_multichannel.fit(X_train3, y_train3, epochs=10,batch_size=64, validation_data=(X_test3,y_test3))"
   ]
  },
  {
   "cell_type": "code",
   "execution_count": 45,
   "metadata": {},
   "outputs": [
    {
     "name": "stdout",
     "output_type": "stream",
     "text": [
      "211/211 [==============================] - 25s 118ms/step - loss: 0.4582 - accuracy: 0.8190\n",
      "211/211 [==============================] - 25s 116ms/step\n"
     ]
    }
   ],
   "source": [
    "eval_multi = model_multichannel.evaluate(X_test3, y_test3)\n",
    "y_pred=model_multichannel.predict(X_test3)\n",
    "y_pred=np.argmax(y_pred,axis=1)\n",
    "y_testnp=np.argmax(y_test3,axis=1)\n",
    "cm3 =confusion_matrix(y_testnp,y_pred)\n",
    "acc_multi, recall_multi, preisi_multi, f1_multi = generate_model_report(y_testnp,y_pred)"
   ]
  },
  {
   "cell_type": "code",
   "execution_count": 46,
   "metadata": {},
   "outputs": [
    {
     "name": "stdout",
     "output_type": "stream",
     "text": [
      "Model: \"model_3\"\n",
      "__________________________________________________________________________________________________\n",
      " Layer (type)                   Output Shape         Param #     Connected to                     \n",
      "==================================================================================================\n",
      " input_4 (InputLayer)           [(None, 300)]        0           []                               \n",
      "                                                                                                  \n",
      " embedding_4 (Embedding)        (None, 300, 300)     18081600    ['input_4[0][0]']                \n",
      "                                                                                                  \n",
      " embedding_5 (Embedding)        (None, 300, 4)       241088      ['input_4[0][0]']                \n",
      "                                                                                                  \n",
      " conv1d_6 (Conv1D)              (None, 298, 64)      57664       ['embedding_4[0][0]']            \n",
      "                                                                                                  \n",
      " conv1d_7 (Conv1D)              (None, 298, 128)     115328      ['embedding_4[0][0]']            \n",
      "                                                                                                  \n",
      " conv1d_8 (Conv1D)              (None, 298, 64)      832         ['embedding_5[0][0]']            \n",
      "                                                                                                  \n",
      " conv1d_9 (Conv1D)              (None, 298, 128)     1664        ['embedding_5[0][0]']            \n",
      "                                                                                                  \n",
      " concatenate_1 (Concatenate)    (None, 298, 192)     0           ['conv1d_6[0][0]',               \n",
      "                                                                  'conv1d_7[0][0]']               \n",
      "                                                                                                  \n",
      " concatenate_2 (Concatenate)    (None, 298, 192)     0           ['conv1d_8[0][0]',               \n",
      "                                                                  'conv1d_9[0][0]']               \n",
      "                                                                                                  \n",
      " max_pooling1d_6 (MaxPooling1D)  (None, 149, 192)    0           ['concatenate_1[0][0]']          \n",
      "                                                                                                  \n",
      " max_pooling1d_7 (MaxPooling1D)  (None, 149, 192)    0           ['concatenate_2[0][0]']          \n",
      "                                                                                                  \n",
      " concatenate_3 (Concatenate)    (None, 149, 384)     0           ['max_pooling1d_6[0][0]',        \n",
      "                                                                  'max_pooling1d_7[0][0]']        \n",
      "                                                                                                  \n",
      " dropout_3 (Dropout)            (None, 149, 384)     0           ['concatenate_3[0][0]']          \n",
      "                                                                                                  \n",
      " global_max_pooling1d_3 (Global  (None, 384)         0           ['dropout_3[0][0]']              \n",
      " MaxPooling1D)                                                                                    \n",
      "                                                                                                  \n",
      " dense_3 (Dense)                (None, 2)            770         ['global_max_pooling1d_3[0][0]'] \n",
      "                                                                                                  \n",
      "==================================================================================================\n",
      "Total params: 18,498,946\n",
      "Trainable params: 176,258\n",
      "Non-trainable params: 18,322,688\n",
      "__________________________________________________________________________________________________\n"
     ]
    }
   ],
   "source": [
    "def cnn_separated_conv(embedding_layer,lexicon_layer,input_dim):\n",
    "    input_word = Input(shape=(max_kata,))\n",
    "    # define the embedding layer\n",
    "    embed_word = Embedding(input_dim= input_dim+1, output_dim=embedding_layer.shape[1], weights=[embedding_layer], input_length=max_kata, trainable = False)(input_word)\n",
    "    embed_lex = Embedding(input_dim= input_dim+1, output_dim=lexicon_layer.shape[1], weights=[lexicon_layer], input_length=max_kata, trainable = False)(input_word)\n",
    "\n",
    "    # make conv layer for embed word\n",
    "    x1 = Conv1D(64, kernel_size=3, activation='relu')(embed_word)\n",
    "    x2 = Conv1D(128, kernel_size=3, activation='relu')(embed_word)\n",
    "    concatenated_1 = concatenate([x1, x2], axis=-1)\n",
    "    pool1 = MaxPooling1D(pool_size=2)(concatenated_1)\n",
    "    # make conv layer for embed lex\n",
    "    x3 = Conv1D(64, kernel_size=3, activation='relu')(embed_lex)\n",
    "    x4 = Conv1D(128, kernel_size=3, activation='relu')(embed_lex)\n",
    "    concatenated_2 = concatenate([x3, x4], axis=-1)\n",
    "    pool2 = MaxPooling1D(pool_size=2)(concatenated_2)\n",
    "    # combining all seperated conv\n",
    "    concatenated_3 = concatenate([pool1, pool2], axis=-1)\n",
    "    x = Dropout(0.5)(concatenated_3)\n",
    "    x = GlobalMaxPooling1D()(x)\n",
    "    # x = Dense(128, activation='relu')(x)\n",
    "    output_tensor = Dense(2, activation='sigmoid')(x)\n",
    "    model = Model(input_word, outputs=output_tensor)\n",
    "    model.compile(optimizer='adam',  loss=\"binary_crossentropy\", metrics=['accuracy'])\n",
    "    return model\n",
    "\n",
    "model_separated = cnn_separated_conv(embedding_matrix_ori,lexicon_matrix_ori,vocab_ori)\n",
    "model_separated.summary()"
   ]
  },
  {
   "cell_type": "code",
   "execution_count": 47,
   "metadata": {},
   "outputs": [
    {
     "name": "stdout",
     "output_type": "stream",
     "text": [
      "Epoch 1/10\n",
      "1896/1896 [==============================] - 797s 419ms/step - loss: 0.3688 - accuracy: 0.8669 - val_loss: 0.4038 - val_accuracy: 0.8685\n",
      "Epoch 2/10\n",
      "1896/1896 [==============================] - 795s 419ms/step - loss: 0.3530 - accuracy: 0.8680 - val_loss: 0.3861 - val_accuracy: 0.8680\n",
      "Epoch 3/10\n",
      "1896/1896 [==============================] - 793s 418ms/step - loss: 0.3408 - accuracy: 0.8691 - val_loss: 0.3901 - val_accuracy: 0.8648\n",
      "Epoch 4/10\n",
      "1896/1896 [==============================] - 772s 407ms/step - loss: 0.3249 - accuracy: 0.8722 - val_loss: 0.3579 - val_accuracy: 0.8675\n",
      "Epoch 5/10\n",
      "1896/1896 [==============================] - 760s 401ms/step - loss: 0.3039 - accuracy: 0.8771 - val_loss: 0.3769 - val_accuracy: 0.8605\n",
      "Epoch 6/10\n",
      "1896/1896 [==============================] - 744s 393ms/step - loss: 0.2836 - accuracy: 0.8835 - val_loss: 0.4006 - val_accuracy: 0.8457\n",
      "Epoch 7/10\n",
      "1896/1896 [==============================] - 767s 405ms/step - loss: 0.2628 - accuracy: 0.8911 - val_loss: 0.3798 - val_accuracy: 0.8519\n",
      "Epoch 8/10\n",
      "1896/1896 [==============================] - 766s 404ms/step - loss: 0.2454 - accuracy: 0.8984 - val_loss: 0.3871 - val_accuracy: 0.8467\n",
      "Epoch 9/10\n",
      "1896/1896 [==============================] - 749s 395ms/step - loss: 0.2291 - accuracy: 0.9041 - val_loss: 0.3837 - val_accuracy: 0.8542\n",
      "Epoch 10/10\n",
      "1896/1896 [==============================] - 748s 395ms/step - loss: 0.2153 - accuracy: 0.9097 - val_loss: 0.3907 - val_accuracy: 0.8497\n"
     ]
    }
   ],
   "source": [
    "history_separated = model_separated.fit(X_train3, y_train3, epochs=10,batch_size=32, validation_data=(X_test3,y_test3))"
   ]
  },
  {
   "cell_type": "code",
   "execution_count": 48,
   "metadata": {},
   "outputs": [
    {
     "name": "stdout",
     "output_type": "stream",
     "text": [
      "211/211 [==============================] - 30s 140ms/step - loss: 0.3907 - accuracy: 0.8497\n",
      "211/211 [==============================] - 30s 141ms/step\n"
     ]
    }
   ],
   "source": [
    "eval_seperated = model_separated.evaluate(X_test3, y_test3)\n",
    "y_pred=model_separated.predict(X_test3)\n",
    "y_pred=np.argmax(y_pred,axis=1)\n",
    "y_testnp=np.argmax(y_test3,axis=1)\n",
    "cm4 =confusion_matrix(y_testnp,y_pred)\n",
    "acc_seperated, recall_seperated, preisi_seperated, f1_seperated = generate_model_report(y_testnp,y_pred)"
   ]
  },
  {
   "cell_type": "code",
   "execution_count": 49,
   "metadata": {},
   "outputs": [
    {
     "name": "stdout",
     "output_type": "stream",
     "text": [
      "0.8222551928783383 0.1681614349775785 0.24752475247524752 0.20026702269692925\n",
      "0.8292284866468843 0.1827354260089686 0.27863247863247864 0.22071767095463776\n",
      "0.8189910979228486 0.22085201793721973 0.27285318559556787 0.24411400247831477\n",
      "0.8497032640949554 0.11547085201793722 0.3149847094801223 0.1689909762100082\n"
     ]
    }
   ],
   "source": [
    "print(acc_base, recall_base, preisi_base, f1_base)\n",
    "print(acc_naive, recall_naive, preisi_naive, f1_naive)\n",
    "print(acc_multi, recall_multi, preisi_multi, f1_multi)\n",
    "print(acc_seperated, recall_seperated, preisi_seperated, f1_seperated)"
   ]
  },
  {
   "cell_type": "code",
   "execution_count": 50,
   "metadata": {},
   "outputs": [],
   "source": [
    "# print(acc_base, recall_base, preisi_base, f1_base)\n",
    "# print(acc_naive, recall_naive, preisi_naive, f1_naive)\n",
    "# print(acc_multi, recall_multi, preisi_multi, f1_multi)\n",
    "# print(acc_seperated, recall_seperated, preisi_seperated, f1_seperated)"
   ]
  },
  {
   "cell_type": "code",
   "execution_count": 51,
   "metadata": {},
   "outputs": [
    {
     "data": {
      "image/png": "[encoded data removed]",
      "text/plain": [
       "<Figure size 1000x800 with 4 Axes>"
      ]
     },
     "metadata": {},
     "output_type": "display_data"
    }
   ],
   "source": [
    "# method_name = ['base_line_CNN','Lex_NC_CNN','Lex_Multi_CNN','Lex_SC_CNN']\n",
    "# method_value = [[acc_base,recall_base,preisi_base,f1_base],[acc_naive,recall_naive,preisi_naive,f1_naive],[acc_multi,recall_multi,preisi_multi,f1_multi],\n",
    "#     [acc_seperated,recall_seperated,preisi_seperated,f1_seperated]]\n",
    "method_name = ['Accuracy','Recall','Precision','F1-score','Method','num']\n",
    "method_value = [[acc_base,acc_naive,acc_multi,acc_seperated],[recall_base,recall_naive,recall_multi,recall_seperated],[preisi_base,preisi_naive,preisi_multi,preisi_seperated],\n",
    "    [f1_base,f1_naive,f1_multi,f1_seperated],['base_cnn','+Lex_NC','+Lex_Multi','+Lex_SC'],[1,2,3,4]]\n",
    "\n",
    "method_result= dict(zip(method_name,method_value))\n",
    "method_result= pd.DataFrame(method_result)\n",
    "\n",
    "# Set the style for the plots\n",
    "sns.set(style=\"whitegrid\")\n",
    "\n",
    "# Create a figure with multiple subplots\n",
    "fig, axes = plt.subplots(nrows=2, ncols=2, figsize=(10, 8))\n",
    "\n",
    "# Plot a histogram for each metric\n",
    "sns.barplot(ax=axes[0, 0], data=method_result, y=\"Accuracy\", x=\"Method\")\n",
    "sns.barplot(ax=axes[0, 1], data=method_result, y=\"Recall\", x=\"Method\")\n",
    "sns.barplot(ax=axes[1, 0], data=method_result, y=\"Precision\", x=\"Method\")\n",
    "sns.barplot(ax=axes[1, 1], data=method_result, y=\"F1-score\", x=\"Method\")\n",
    "\n",
    "# Set the title for each plot\n",
    "axes[0, 0].set_title(\"Accuracy\")\n",
    "axes[0, 0].set_ylim(0,1)\n",
    "axes[0, 1].set_title(\"Recall\")\n",
    "axes[0, 1].set_ylim(0,1)\n",
    "axes[1, 0].set_title(\"Precision\")\n",
    "axes[1, 0].set_ylim(0,1)\n",
    "axes[1, 1].set_title(\"F1-score\")\n",
    "axes[1, 1].set_ylim(0,1)\n",
    "\n",
    "# Adjust the spacing between the subplots\n",
    "plt.tight_layout()\n",
    "\n",
    "# Show the plot\n",
    "plt.show()\n",
    "# # plot histogram for each metric\n",
    "# for metric in method_result.columns:\n",
    "#     plt.hist(method_result[metric], alpha=0.5, label=metric)\n",
    "\n",
    "# plt.legend(loc='upper right')\n",
    "# plt.show()"
   ]
  },
  {
   "cell_type": "code",
   "execution_count": 52,
   "metadata": {},
   "outputs": [],
   "source": [
    "def make_plot_hist(m1,m2,m3,m4,train, validation, title):\n",
    "    graph = plt.subplot(2,2,1)\n",
    "    graph = plt.plot(m1.history[train],label='train')\n",
    "    graph = plt.plot(m1.history[validation],label='val')\n",
    "    graph = plt.subplot(2,2,2)\n",
    "    graph = plt.plot(m2.history[train],label='train')\n",
    "    graph = plt.plot(m2.history[validation],label='val')\n",
    "    graph = plt.subplot(2,2,3)\n",
    "    graph = plt.plot(m3.history[train],label='train')\n",
    "    graph = plt.plot(m3.history[validation],label='val')\n",
    "    graph = plt.subplot(2,2,4)\n",
    "    graph = plt.plot(m4.history[train],label='train')\n",
    "    graph = plt.plot(m4.history[validation],label='val')\n",
    "    plt.legend()\n",
    "    graph = plt.show()\n",
    "    return graph"
   ]
  },
  {
   "cell_type": "code",
   "execution_count": 53,
   "metadata": {},
   "outputs": [
    {
     "data": {
      "image/png": "[encoded data removed]",
      "text/plain": [
       "<Figure size 640x480 with 4 Axes>"
      ]
     },
     "metadata": {},
     "output_type": "display_data"
    },
    {
     "data": {
      "image/png": "[encoded data removed]",
      "text/plain": [
       "<Figure size 640x480 with 4 Axes>"
      ]
     },
     "metadata": {},
     "output_type": "display_data"
    }
   ],
   "source": [
    "make_plot_hist(history_base,history_naive,history_multi,history_separated,'loss','val_loss','Perubahan loss pada tiap epochs')\n",
    "make_plot_hist(history_base,history_naive,history_multi,history_separated,'accuracy','val_accuracy','Perubahan akurasi pada tiap epochs')"
   ]
  },
  {
   "cell_type": "code",
   "execution_count": 54,
   "metadata": {},
   "outputs": [
    {
     "data": {
      "image/png": "[encoded data removed]",
      "text/plain": [
       "<Figure size 640x480 with 2 Axes>"
      ]
     },
     "metadata": {},
     "output_type": "display_data"
    }
   ],
   "source": [
    "def out_cm(cm,title):\n",
    "    ax=sns.heatmap(cm,annot=True,cmap='Blues',fmt=' ')\n",
    "    ax.set_title(title)\n",
    "    ax.set_xlabel('y_test')\n",
    "    ax.set_ylabel('y_pred')\n",
    "\n",
    "out_cm(cm1,'Confusion Matrix Model Base + WE')"
   ]
  },
  {
   "cell_type": "code",
   "execution_count": 55,
   "metadata": {},
   "outputs": [
    {
     "data": {
      "image/png": "[encoded data removed]",
      "text/plain": [
       "<Figure size 640x480 with 2 Axes>"
      ]
     },
     "metadata": {},
     "output_type": "display_data"
    }
   ],
   "source": [
    "out_cm(cm2,'Confusion Matrix Model Base + LEX_NC')"
   ]
  },
  {
   "cell_type": "code",
   "execution_count": 56,
   "metadata": {},
   "outputs": [
    {
     "data": {
      "image/png": "[encoded data removed]",
      "text/plain": [
       "<Figure size 640x480 with 2 Axes>"
      ]
     },
     "metadata": {},
     "output_type": "display_data"
    }
   ],
   "source": [
    "out_cm(cm3,'Confusion Matrix Model Base + LEX_MULTI')"
   ]
  },
  {
   "cell_type": "code",
   "execution_count": 57,
   "metadata": {},
   "outputs": [
    {
     "data": {
      "image/png": "[encoded data removed]",
      "text/plain": [
       "<Figure size 640x480 with 2 Axes>"
      ]
     },
     "metadata": {},
     "output_type": "display_data"
    }
   ],
   "source": [
    "out_cm(cm4,'Confusion Matrix Model Base + LEX_SC')"
   ]
  },
  {
   "cell_type": "code",
   "execution_count": 58,
   "metadata": {},
   "outputs": [
    {
     "name": "stdout",
     "output_type": "stream",
     "text": [
      "              precision    recall  f1-score   support\n",
      "\n",
      "           0       0.88      0.96      0.92      5848\n",
      "           1       0.31      0.12      0.17       892\n",
      "\n",
      "    accuracy                           0.85      6740\n",
      "   macro avg       0.60      0.54      0.54      6740\n",
      "weighted avg       0.80      0.85      0.82      6740\n",
      "\n"
     ]
    }
   ],
   "source": [
    "print(classification_report(y_testnp,y_pred))"
   ]
  }
 ],
 "metadata": {
  "kernelspec": {
   "display_name": "Python 3",
   "language": "python",
   "name": "python3"
  },
  "language_info": {
   "codemirror_mode": {
    "name": "ipython",
    "version": 3
   },
   "file_extension": ".py",
   "mimetype": "text/x-python",
   "name": "python",
   "nbconvert_exporter": "python",
   "pygments_lexer": "ipython3",
   "version": "3.10.7"
  },
  "orig_nbformat": 4,
  "vscode": {
   "interpreter": {
    "hash": "bd5508c2ffc7f17f7d31cf4086cc872f89e96996a08987e995649e5fbe85a3a4"
   }
  }
 },
 "nbformat": 4,
 "nbformat_minor": 2
}
