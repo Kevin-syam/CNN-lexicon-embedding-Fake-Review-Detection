{
 "cells": [
  {
   "cell_type": "code",
   "execution_count": 1,
   "metadata": {},
   "outputs": [],
   "source": [
    "import numpy as np\n",
    "import pandas as pd\n",
    "import seaborn as sns\n",
    "import matplotlib.pyplot as plt\n",
    "import warnings\n",
    "warnings.filterwarnings('ignore')\n",
    "import pandas as pd\n",
    "import codecs"
   ]
  },
  {
   "cell_type": "code",
   "execution_count": 2,
   "metadata": {},
   "outputs": [],
   "source": [
    "test_csv_path = '../Data/dataTemp/output_review_yelpHotelData_NRYRcleaned.csv'\n",
    "df_yelpchi1 = pd.read_csv(test_csv_path, sep='delimiter', header=None)"
   ]
  },
  {
   "cell_type": "code",
   "execution_count": 3,
   "metadata": {},
   "outputs": [
    {
     "name": "stdout",
     "output_type": "stream",
     "text": [
      "                                                      0\n",
      "5844  My friend and I, along with our mothers, staye...\n",
      "5845  staff was rude, revolving door was really hard...\n",
      "5846  So Surprising when we arrived, The staff was g...\n",
      "5847  ost things about this hotel were nice. However...\n",
      "5848  I agree with all the complimentary things othe...\n",
      "5849  This hotel is amazing! Granted, I worked here,...\n",
      "5850  \"Short Version: I am very torn about this plac...\n",
      "5851  Sutton Place is a very elegant hotel. The room...\n",
      "5852  \"The only great thing is location. Rest of the...\n",
      "5853  Noise, noise, noise! Unbelievable! Between the...\n"
     ]
    }
   ],
   "source": [
    "print(df_yelpchi1.tail(10))"
   ]
  },
  {
   "cell_type": "code",
   "execution_count": 4,
   "metadata": {},
   "outputs": [],
   "source": [
    "sample = df_yelpchi1[0]"
   ]
  },
  {
   "cell_type": "code",
   "execution_count": 5,
   "metadata": {},
   "outputs": [
    {
     "name": "stderr",
     "output_type": "stream",
     "text": [
      "[nltk_data] Downloading package stopwords to\n",
      "[nltk_data]     C:\\Users\\kevin\\AppData\\Roaming\\nltk_data...\n",
      "[nltk_data]   Package stopwords is already up-to-date!\n"
     ]
    },
    {
     "data": {
      "text/plain": [
       "True"
      ]
     },
     "execution_count": 5,
     "metadata": {},
     "output_type": "execute_result"
    }
   ],
   "source": [
    "import nltk\n",
    "nltk.download('stopwords')"
   ]
  },
  {
   "cell_type": "code",
   "execution_count": 6,
   "metadata": {},
   "outputs": [],
   "source": [
    "import re\n",
    "from nltk.corpus import stopwords\n",
    "from nltk.stem import PorterStemmer\n",
    "swords = set(stopwords.words(\"english\"))\n",
    "stemmer = PorterStemmer()\n",
    "\n",
    "def parse_text(review):\n",
    "    clean_review = []\n",
    "    # text = re.sub(\"[^a-zA-Z]\", ' ', text)\n",
    "    # text = text.lower().split()\n",
    "    # text = [w for w in text if w not in swords]\n",
    "    \n",
    "    # # Stemming\n",
    "    # stems = [stemmer.stem(ss) for ss in text]\n",
    "    for text in review:\n",
    "        text = re.sub(\"[^a-zA-Z]\", ' ', text)\n",
    "        text = text.lower().split()\n",
    "        text = [w for w in text if w not in swords]\n",
    "        \n",
    "        # Stemming\n",
    "        # stems = [stemmer.stem(ss) for ss in text]\n",
    "        text = \" \".join(text)\n",
    "        clean_review.append(text)\n",
    "    \n",
    "    return clean_review\n",
    "\n",
    "sample = parse_text(sample)"
   ]
  },
  {
   "cell_type": "code",
   "execution_count": 8,
   "metadata": {},
   "outputs": [
    {
     "name": "stdout",
     "output_type": "stream",
     "text": [
      "5834    westins definitely nice one issue front desk s...\n",
      "5835    stayed last sunday april friends visiting chic...\n",
      "5836    fantastic place staff consistant definately ba...\n",
      "5837                  great place stay many business near\n",
      "5838    post scriptum earlier less positive review day...\n",
      "5839    boyfriend stayed hotel pretty cheap night grea...\n",
      "5840    choose hotel via hotwire happier mark front de...\n",
      "5841    booked hotel last minute trip chicago moment w...\n",
      "5842    place awesome well except weird order channels...\n",
      "5843    husband enjoyed stay february great value rece...\n",
      "5844    friend along mothers stayed laquinta november ...\n",
      "5845    staff rude revolving door really hard push per...\n",
      "5846    surprising arrived staff great rooms cleaned s...\n",
      "5847    ost things hotel nice however light sleeper al...\n",
      "5848    agree complimentary things others said special...\n",
      "5849    hotel amazing granted worked might biased ever...\n",
      "5850    short version torn place great things things t...\n",
      "5851    sutton place elegant hotel room staff excellen...\n",
      "5852    great thing location rest hotel forgettable la...\n",
      "5853    noise noise noise unbelievable overly loud mus...\n",
      "Name: text, dtype: object\n"
     ]
    }
   ],
   "source": [
    "df_clean = pd.DataFrame(sample,columns = ['text'])\n",
    "print(df_clean['text'].tail(20))"
   ]
  },
  {
   "cell_type": "code",
   "execution_count": 9,
   "metadata": {},
   "outputs": [
    {
     "name": "stdout",
     "output_type": "stream",
     "text": [
      "(5854, 9)\n"
     ]
    },
    {
     "data": {
      "text/html": [
       "<div>\n",
       "<style scoped>\n",
       "    .dataframe tbody tr th:only-of-type {\n",
       "        vertical-align: middle;\n",
       "    }\n",
       "\n",
       "    .dataframe tbody tr th {\n",
       "        vertical-align: top;\n",
       "    }\n",
       "\n",
       "    .dataframe thead th {\n",
       "        text-align: right;\n",
       "    }\n",
       "</style>\n",
       "<table border=\"1\" class=\"dataframe\">\n",
       "  <thead>\n",
       "    <tr style=\"text-align: right;\">\n",
       "      <th></th>\n",
       "      <th>date</th>\n",
       "      <th>review_id</th>\n",
       "      <th>reviewer_id</th>\n",
       "      <th>product_id</th>\n",
       "      <th>label</th>\n",
       "      <th>useful_count</th>\n",
       "      <th>funny_count</th>\n",
       "      <th>cool_count</th>\n",
       "      <th>rate</th>\n",
       "    </tr>\n",
       "  </thead>\n",
       "  <tbody>\n",
       "    <tr>\n",
       "      <th>0</th>\n",
       "      <td>06/08/2011</td>\n",
       "      <td>MyNjnxzZVTPq</td>\n",
       "      <td>IFTr6_6NI4CgCVavIL9k5g</td>\n",
       "      <td>tQfLGoolUMu2J0igcWcoZg</td>\n",
       "      <td>0</td>\n",
       "      <td>28</td>\n",
       "      <td>11</td>\n",
       "      <td>18</td>\n",
       "      <td>5</td>\n",
       "    </tr>\n",
       "    <tr>\n",
       "      <th>1</th>\n",
       "      <td>8/30/2011</td>\n",
       "      <td>BdD7fsPqHQL73hwENEDT-Q</td>\n",
       "      <td>c_-hF15XgNhlyy_TqzmdaA</td>\n",
       "      <td>tQfLGoolUMu2J0igcWcoZg</td>\n",
       "      <td>0</td>\n",
       "      <td>4</td>\n",
       "      <td>3</td>\n",
       "      <td>0</td>\n",
       "      <td>3</td>\n",
       "    </tr>\n",
       "    <tr>\n",
       "      <th>2</th>\n",
       "      <td>6/26/2009</td>\n",
       "      <td>BfhqiyfC</td>\n",
       "      <td>CiwZ6S5ZizAFL5gypf8tLA</td>\n",
       "      <td>tQfLGoolUMu2J0igcWcoZg</td>\n",
       "      <td>0</td>\n",
       "      <td>23</td>\n",
       "      <td>14</td>\n",
       "      <td>12</td>\n",
       "      <td>5</td>\n",
       "    </tr>\n",
       "    <tr>\n",
       "      <th>3</th>\n",
       "      <td>9/16/2010</td>\n",
       "      <td>Ol</td>\n",
       "      <td>nf3q2h-kSQoZK2jBY92FOg</td>\n",
       "      <td>tQfLGoolUMu2J0igcWcoZg</td>\n",
       "      <td>0</td>\n",
       "      <td>6</td>\n",
       "      <td>2</td>\n",
       "      <td>8</td>\n",
       "      <td>1</td>\n",
       "    </tr>\n",
       "    <tr>\n",
       "      <th>4</th>\n",
       "      <td>02/05/2010</td>\n",
       "      <td>i4HIAcNTjabdpG1K4F5Q2g</td>\n",
       "      <td>Sb3DJGdZ4Rq__CqxPbae-g</td>\n",
       "      <td>tQfLGoolUMu2J0igcWcoZg</td>\n",
       "      <td>0</td>\n",
       "      <td>9</td>\n",
       "      <td>4</td>\n",
       "      <td>11</td>\n",
       "      <td>3</td>\n",
       "    </tr>\n",
       "    <tr>\n",
       "      <th>...</th>\n",
       "      <td>...</td>\n",
       "      <td>...</td>\n",
       "      <td>...</td>\n",
       "      <td>...</td>\n",
       "      <td>...</td>\n",
       "      <td>...</td>\n",
       "      <td>...</td>\n",
       "      <td>...</td>\n",
       "      <td>...</td>\n",
       "    </tr>\n",
       "    <tr>\n",
       "      <th>5849</th>\n",
       "      <td>10/15/2008</td>\n",
       "      <td>4d3lJEG5RgDDS_PimakHDw</td>\n",
       "      <td>eIOn-m017t7nu3FGpasPTg</td>\n",
       "      <td>gCdjyQeE0uRKCh7mVmnZzQ</td>\n",
       "      <td>1</td>\n",
       "      <td>0</td>\n",
       "      <td>0</td>\n",
       "      <td>0</td>\n",
       "      <td>5</td>\n",
       "    </tr>\n",
       "    <tr>\n",
       "      <th>5850</th>\n",
       "      <td>8/22/2011</td>\n",
       "      <td>M9sPYJENivJyWYuLwy7SCw</td>\n",
       "      <td>oVzvotuHA5u5Ob0E7i58Cw</td>\n",
       "      <td>rpP9iZsT3NC-Z4pUtQGoiA</td>\n",
       "      <td>1</td>\n",
       "      <td>0</td>\n",
       "      <td>0</td>\n",
       "      <td>0</td>\n",
       "      <td>3</td>\n",
       "    </tr>\n",
       "    <tr>\n",
       "      <th>5851</th>\n",
       "      <td>05/02/2011</td>\n",
       "      <td>IErE0ydkkLfAoePgqrVdUQ</td>\n",
       "      <td>wKPzlSO-Vyrzk8JlXr0cyQ</td>\n",
       "      <td>rpP9iZsT3NC-Z4pUtQGoiA</td>\n",
       "      <td>1</td>\n",
       "      <td>0</td>\n",
       "      <td>0</td>\n",
       "      <td>0</td>\n",
       "      <td>4</td>\n",
       "    </tr>\n",
       "    <tr>\n",
       "      <th>5852</th>\n",
       "      <td>12/19/2010</td>\n",
       "      <td>NnkA6YT9xo_IaZ5xZI_5zQ</td>\n",
       "      <td>SL4aEwrM2q0HAXHpduMQ1Q</td>\n",
       "      <td>rpP9iZsT3NC-Z4pUtQGoiA</td>\n",
       "      <td>1</td>\n",
       "      <td>0</td>\n",
       "      <td>0</td>\n",
       "      <td>0</td>\n",
       "      <td>1</td>\n",
       "    </tr>\n",
       "    <tr>\n",
       "      <th>5853</th>\n",
       "      <td>08/05/2010</td>\n",
       "      <td>xwPMoEzuvpn3J32IvTcsiQ</td>\n",
       "      <td>MdYbNl_9Hm1CybsuC6UnkQ</td>\n",
       "      <td>rpP9iZsT3NC-Z4pUtQGoiA</td>\n",
       "      <td>1</td>\n",
       "      <td>0</td>\n",
       "      <td>0</td>\n",
       "      <td>0</td>\n",
       "      <td>1</td>\n",
       "    </tr>\n",
       "  </tbody>\n",
       "</table>\n",
       "<p>5854 rows × 9 columns</p>\n",
       "</div>"
      ],
      "text/plain": [
       "            date               review_id             reviewer_id  \\\n",
       "0     06/08/2011            MyNjnxzZVTPq  IFTr6_6NI4CgCVavIL9k5g   \n",
       "1      8/30/2011  BdD7fsPqHQL73hwENEDT-Q  c_-hF15XgNhlyy_TqzmdaA   \n",
       "2      6/26/2009                BfhqiyfC  CiwZ6S5ZizAFL5gypf8tLA   \n",
       "3      9/16/2010                      Ol  nf3q2h-kSQoZK2jBY92FOg   \n",
       "4     02/05/2010  i4HIAcNTjabdpG1K4F5Q2g  Sb3DJGdZ4Rq__CqxPbae-g   \n",
       "...          ...                     ...                     ...   \n",
       "5849  10/15/2008  4d3lJEG5RgDDS_PimakHDw  eIOn-m017t7nu3FGpasPTg   \n",
       "5850   8/22/2011  M9sPYJENivJyWYuLwy7SCw  oVzvotuHA5u5Ob0E7i58Cw   \n",
       "5851  05/02/2011  IErE0ydkkLfAoePgqrVdUQ  wKPzlSO-Vyrzk8JlXr0cyQ   \n",
       "5852  12/19/2010  NnkA6YT9xo_IaZ5xZI_5zQ  SL4aEwrM2q0HAXHpduMQ1Q   \n",
       "5853  08/05/2010  xwPMoEzuvpn3J32IvTcsiQ  MdYbNl_9Hm1CybsuC6UnkQ   \n",
       "\n",
       "                  product_id  label  useful_count  funny_count  cool_count  \\\n",
       "0     tQfLGoolUMu2J0igcWcoZg      0            28           11          18   \n",
       "1     tQfLGoolUMu2J0igcWcoZg      0             4            3           0   \n",
       "2     tQfLGoolUMu2J0igcWcoZg      0            23           14          12   \n",
       "3     tQfLGoolUMu2J0igcWcoZg      0             6            2           8   \n",
       "4     tQfLGoolUMu2J0igcWcoZg      0             9            4          11   \n",
       "...                      ...    ...           ...          ...         ...   \n",
       "5849  gCdjyQeE0uRKCh7mVmnZzQ      1             0            0           0   \n",
       "5850  rpP9iZsT3NC-Z4pUtQGoiA      1             0            0           0   \n",
       "5851  rpP9iZsT3NC-Z4pUtQGoiA      1             0            0           0   \n",
       "5852  rpP9iZsT3NC-Z4pUtQGoiA      1             0            0           0   \n",
       "5853  rpP9iZsT3NC-Z4pUtQGoiA      1             0            0           0   \n",
       "\n",
       "      rate  \n",
       "0        5  \n",
       "1        3  \n",
       "2        5  \n",
       "3        1  \n",
       "4        3  \n",
       "...    ...  \n",
       "5849     5  \n",
       "5850     3  \n",
       "5851     4  \n",
       "5852     1  \n",
       "5853     1  \n",
       "\n",
       "[5854 rows x 9 columns]"
      ]
     },
     "execution_count": 9,
     "metadata": {},
     "output_type": "execute_result"
    }
   ],
   "source": [
    "### MENGINPUT METADATA\n",
    "\n",
    "df_meta = pd.read_csv(\"../output_meta_yelpHotelData_NRYRcleaned.csv\", sep=';')\n",
    "print(df_meta.shape)\n",
    "\n",
    "df_meta['label'] = df_meta['label'].replace({'N': 0, 'Y': 1})\n",
    "df_meta\n"
   ]
  },
  {
   "cell_type": "code",
   "execution_count": 10,
   "metadata": {},
   "outputs": [],
   "source": [
    "import tensorflow\n",
    "from tensorflow.keras.utils import to_categorical\n",
    "from keras.models import Model\n",
    "from tensorflow.keras.models import Sequential\n",
    "from tensorflow.keras.layers import Dense, Embedding, Activation, Dropout, LSTM, Flatten, Input, concatenate\n",
    "from tensorflow.keras.layers import Conv1D, MaxPooling1D, GlobalMaxPooling1D, BatchNormalization\n",
    "\n",
    "from sklearn.model_selection import train_test_split\n"
   ]
  },
  {
   "cell_type": "code",
   "execution_count": 11,
   "metadata": {},
   "outputs": [
    {
     "data": {
      "text/plain": [
       "0    5076\n",
       "1     778\n",
       "Name: label, dtype: int64"
      ]
     },
     "execution_count": 11,
     "metadata": {},
     "output_type": "execute_result"
    },
    {
     "data": {
      "image/png": "[encoded data removed]",
      "text/plain": [
       "<Figure size 640x480 with 1 Axes>"
      ]
     },
     "metadata": {},
     "output_type": "display_data"
    }
   ],
   "source": [
    "#variable of genuine (o) or fake (1)\n",
    "sns.countplot(x='label', data=df_meta)\n",
    "df_meta['label'].value_counts()\n",
    "# df_label_merged.tail(10)"
   ]
  },
  {
   "cell_type": "code",
   "execution_count": 12,
   "metadata": {},
   "outputs": [],
   "source": [
    "### PRE-PROCESS TAHAP 3-TOKENISASI\n",
    "from tensorflow.keras.preprocessing.text import Tokenizer\n",
    "from tensorflow.keras. preprocessing.sequence import pad_sequences\n",
    "review_text_ori = df_clean['text'].to_list()\n",
    "tokenizer_dict = {}\n",
    "tokenizer_dict['ori'] = Tokenizer()\n",
    "tokenizer_dict['ori'].fit_on_texts(review_text_ori)"
   ]
  },
  {
   "cell_type": "code",
   "execution_count": 13,
   "metadata": {},
   "outputs": [],
   "source": [
    "encode_text_ori = tokenizer_dict['ori'].texts_to_sequences(review_text_ori)"
   ]
  },
  {
   "cell_type": "code",
   "execution_count": 14,
   "metadata": {},
   "outputs": [
    {
     "name": "stdout",
     "output_type": "stream",
     "text": [
      "[[1. 0.]\n",
      " [1. 0.]\n",
      " [1. 0.]\n",
      " ...\n",
      " [0. 1.]\n",
      " [0. 1.]\n",
      " [0. 1.]]\n"
     ]
    }
   ],
   "source": [
    "genuine_fake_ori = to_categorical(df_meta['label'])\n",
    "# genuine_fake2 = df_meta2['label']\n",
    "# genuine_fake = pd.concat([genuine_fake1,genuine_fake2],axis= 0)\n",
    "print(genuine_fake_ori)"
   ]
  },
  {
   "cell_type": "code",
   "execution_count": 15,
   "metadata": {},
   "outputs": [],
   "source": [
    "X_train3, X_test3, y_train3, y_test3 = train_test_split(encode_text_ori,genuine_fake_ori, random_state=0, test_size=0.10, stratify=genuine_fake_ori)\n",
    "X_train3, X_val3, y_train3, y_val3 = train_test_split(X_train3,y_train3, random_state=0, test_size=0.10)"
   ]
  },
  {
   "cell_type": "code",
   "execution_count": 16,
   "metadata": {},
   "outputs": [],
   "source": [
    "vocab_ori = len(tokenizer_dict['ori'].index_word)+1\n",
    "max_kata = 131\n",
    "X_train3 = pad_sequences(X_train3, maxlen=max_kata, padding='post' )\n",
    "X_test3 = pad_sequences(X_test3, maxlen=max_kata, padding='post' )\n",
    "X_val3 = pad_sequences(X_val3, maxlen=max_kata, padding='post')"
   ]
  },
  {
   "cell_type": "code",
   "execution_count": 17,
   "metadata": {},
   "outputs": [
    {
     "name": "stdout",
     "output_type": "stream",
     "text": [
      "19147\n"
     ]
    }
   ],
   "source": [
    "\n",
    "print(vocab_ori)"
   ]
  },
  {
   "cell_type": "code",
   "execution_count": 18,
   "metadata": {},
   "outputs": [
    {
     "name": "stdout",
     "output_type": "stream",
     "text": [
      "(4741, 131) (586, 131) (527, 131) (4741, 2) (586, 2) (527, 2)\n"
     ]
    }
   ],
   "source": [
    "print(X_train3.shape,X_test3.shape,X_val3.shape,y_train3.shape,y_test3.shape,y_val3.shape)"
   ]
  },
  {
   "cell_type": "code",
   "execution_count": 23,
   "metadata": {},
   "outputs": [],
   "source": [
    "from gensim.models import KeyedVectors"
   ]
  },
  {
   "cell_type": "code",
   "execution_count": 26,
   "metadata": {},
   "outputs": [],
   "source": [
    "word2vec = KeyedVectors.load_word2vec_format(\"../Data/GoogleNews-vectors-negative300.bin\", binary=True)"
   ]
  },
  {
   "cell_type": "code",
   "execution_count": 27,
   "metadata": {},
   "outputs": [],
   "source": [
    "# # Testing Some Simliarities \n",
    "# w2 = 'love'\n",
    "# word2vec.most_similar_cosmul(positive=w2)"
   ]
  },
  {
   "cell_type": "code",
   "execution_count": 27,
   "metadata": {},
   "outputs": [
    {
     "name": "stdout",
     "output_type": "stream",
     "text": [
      "Null word embeddings: 2011\n"
     ]
    }
   ],
   "source": [
    "# Word Embedding\n",
    "def make_embedding(unique_word,text):\n",
    "    embedding_dim = 300\n",
    "    matrix = np.zeros((unique_word+1, embedding_dim)) \n",
    "    for word, i in text:\n",
    "        if word in word2vec.index_to_key:\n",
    "            matrix[i] = word2vec[word]\n",
    "    \n",
    "    print('Null word embeddings: %d' % np.sum(np.sum(matrix, axis=1) == 0))\n",
    "    return matrix\n",
    "\n",
    "# embedding_matrix_few = make_embedding(vocab_few,tokenizer_dict['few'].word_index.items())\n",
    "# embedding_matrix_many = make_embedding(vocab_many,tokenizer_dict['many'].word_index.items())\n",
    "embedding_matrix_ori = make_embedding(vocab_ori,tokenizer_dict['ori'].word_index.items())"
   ]
  },
  {
   "cell_type": "code",
   "execution_count": 28,
   "metadata": {},
   "outputs": [
    {
     "name": "stdout",
     "output_type": "stream",
     "text": [
      "Unexpected exception formatting exception. Falling back to standard exception\n"
     ]
    },
    {
     "name": "stderr",
     "output_type": "stream",
     "text": [
      "Traceback (most recent call last):\n",
      "  File \"C:\\Users\\kevin\\AppData\\Roaming\\Python\\Python310\\site-packages\\IPython\\core\\interactiveshell.py\", line 3378, in run_code\n",
      "    exec(code_obj, self.user_global_ns, self.user_ns)\n",
      "  File \"C:\\Users\\kevin\\AppData\\Local\\Temp\\ipykernel_7792\\2458567254.py\", line 1, in <module>\n",
      "    embedding_matrix.shape\n",
      "NameError: name 'embedding_matrix' is not defined\n",
      "\n",
      "During handling of the above exception, another exception occurred:\n",
      "\n",
      "Traceback (most recent call last):\n",
      "  File \"C:\\Users\\kevin\\AppData\\Roaming\\Python\\Python310\\site-packages\\IPython\\core\\interactiveshell.py\", line 1997, in showtraceback\n",
      "    stb = self.InteractiveTB.structured_traceback(\n",
      "  File \"C:\\Users\\kevin\\AppData\\Roaming\\Python\\Python310\\site-packages\\IPython\\core\\ultratb.py\", line 1112, in structured_traceback\n",
      "    return FormattedTB.structured_traceback(\n",
      "  File \"C:\\Users\\kevin\\AppData\\Roaming\\Python\\Python310\\site-packages\\IPython\\core\\ultratb.py\", line 1006, in structured_traceback\n",
      "    return VerboseTB.structured_traceback(\n",
      "  File \"C:\\Users\\kevin\\AppData\\Roaming\\Python\\Python310\\site-packages\\IPython\\core\\ultratb.py\", line 859, in structured_traceback\n",
      "    formatted_exception = self.format_exception_as_a_whole(etype, evalue, etb, number_of_lines_of_context,\n",
      "  File \"C:\\Users\\kevin\\AppData\\Roaming\\Python\\Python310\\site-packages\\IPython\\core\\ultratb.py\", line 793, in format_exception_as_a_whole\n",
      "    self.get_records(etb, number_of_lines_of_context, tb_offset) if etb else []\n",
      "  File \"C:\\Users\\kevin\\AppData\\Roaming\\Python\\Python310\\site-packages\\IPython\\core\\ultratb.py\", line 848, in get_records\n",
      "    return list(stack_data.FrameInfo.stack_data(etb, options=options))[tb_offset:]\n",
      "  File \"C:\\Users\\kevin\\AppData\\Roaming\\Python\\Python310\\site-packages\\stack_data\\core.py\", line 597, in stack_data\n",
      "    yield from collapse_repeated(\n",
      "  File \"C:\\Users\\kevin\\AppData\\Roaming\\Python\\Python310\\site-packages\\stack_data\\utils.py\", line 84, in collapse_repeated\n",
      "    yield from map(mapper, original_group)\n",
      "  File \"C:\\Users\\kevin\\AppData\\Roaming\\Python\\Python310\\site-packages\\stack_data\\core.py\", line 587, in mapper\n",
      "    return cls(f, options)\n",
      "  File \"C:\\Users\\kevin\\AppData\\Roaming\\Python\\Python310\\site-packages\\stack_data\\core.py\", line 551, in __init__\n",
      "    self.executing = Source.executing(frame_or_tb)\n",
      "  File \"C:\\Users\\kevin\\AppData\\Roaming\\Python\\Python310\\site-packages\\executing\\executing.py\", line 328, in executing\n",
      "    source = cls.for_frame(frame)\n",
      "  File \"C:\\Users\\kevin\\AppData\\Roaming\\Python\\Python310\\site-packages\\executing\\executing.py\", line 250, in for_frame\n",
      "    return cls.for_filename(frame.f_code.co_filename, frame.f_globals or {}, use_cache)\n",
      "  File \"C:\\Users\\kevin\\AppData\\Roaming\\Python\\Python310\\site-packages\\executing\\executing.py\", line 278, in for_filename\n",
      "    return cls._for_filename_and_lines(filename, lines)\n",
      "  File \"C:\\Users\\kevin\\AppData\\Roaming\\Python\\Python310\\site-packages\\executing\\executing.py\", line 288, in _for_filename_and_lines\n",
      "    result = source_cache[(filename, lines)] = cls(filename, lines)\n",
      "  File \"C:\\Users\\kevin\\AppData\\Roaming\\Python\\Python310\\site-packages\\stack_data\\core.py\", line 97, in __init__\n",
      "    self.asttokens()\n",
      "  File \"C:\\Users\\kevin\\AppData\\Roaming\\Python\\Python310\\site-packages\\executing\\executing.py\", line 392, in asttokens\n",
      "    return ASTTokens(\n",
      "  File \"C:\\Users\\kevin\\AppData\\Roaming\\Python\\Python310\\site-packages\\asttokens\\asttokens.py\", line 61, in __init__\n",
      "    source_text = six.ensure_text(source_text)\n",
      "AttributeError: module 'six' has no attribute 'ensure_text'\n"
     ]
    }
   ],
   "source": [
    "embedding_matrix.shape"
   ]
  },
  {
   "cell_type": "code",
   "execution_count": 30,
   "metadata": {},
   "outputs": [],
   "source": [
    "# #cleansing lexicon\n",
    "# def clean_key(key):\n",
    "#     cleaned_key = key.strip().lower()  # remove whitespace and convert to lowercase\n",
    "#     cleaned_key = re.sub('[^a-z0-9]+', '', cleaned_key)  # remove non-alphanumeric characters\n",
    "#     return cleaned_key\n",
    "\n",
    "# for key in list(senticnet.keys()):\n",
    "#     cleaned_key = clean_key(key)\n",
    "#     if cleaned_key != key:\n",
    "#         senticnet[cleaned_key] = senticnet.pop(key)"
   ]
  },
  {
   "cell_type": "code",
   "execution_count": 29,
   "metadata": {},
   "outputs": [],
   "source": [
    "from senticnet4 import senticnet4\n",
    "\n",
    "senticnet = senticnet4.senticnet\n",
    "#mengambil hanya nilai polaritinya saja\n",
    "for key in senticnet:\n",
    "    senticnet[key] = senticnet[key][:4]"
   ]
  },
  {
   "cell_type": "code",
   "execution_count": 31,
   "metadata": {},
   "outputs": [],
   "source": [
    "# lexicon_matrix = np.zeros((vocab+1, 4))\n",
    "\n",
    "# for word, i in token.word_index.items():      \n",
    "#     if word in senticnet:\n",
    "#         lexicon_matrix[i] = senticnet.get(word)\n",
    "        \n",
    "# print('Null word embeddings: %d' % np.sum(np.sum(lexicon_matrix, axis=1) == 0))"
   ]
  },
  {
   "cell_type": "code",
   "execution_count": 30,
   "metadata": {},
   "outputs": [
    {
     "name": "stdout",
     "output_type": "stream",
     "text": [
      "Null word embeddings: 12282\n"
     ]
    }
   ],
   "source": [
    "def make_lex_embedding(unique_word,text):\n",
    "    embedding_dim = 4\n",
    "    matrix = np.zeros((unique_word+1, embedding_dim)) \n",
    "    for word, i in text:\n",
    "        if word in senticnet:\n",
    "            matrix[i] = senticnet.get(word)\n",
    "    \n",
    "    print('Null word embeddings: %d' % np.sum(np.sum(matrix, axis=1) == 0))\n",
    "    return matrix\n",
    "\n",
    "\n",
    "# lexicon_matrix_few = make_lex_embedding(vocab_few,tokenizer_dict['few'].word_index.items())\n",
    "# lexicon_matrix_many = make_lex_embedding(vocab_many,tokenizer_dict['many'].word_index.items())\n",
    "lexicon_matrix_ori = make_lex_embedding(vocab_ori,tokenizer_dict['ori'].word_index.items())"
   ]
  },
  {
   "cell_type": "code",
   "execution_count": 36,
   "metadata": {},
   "outputs": [
    {
     "name": "stdout",
     "output_type": "stream",
     "text": [
      "(10238, 300)\n",
      "(10238, 4)\n"
     ]
    }
   ],
   "source": [
    "print(embedding_matrix.shape)\n",
    "print(lexicon_matrix.shape)"
   ]
  },
  {
   "cell_type": "code",
   "execution_count": 32,
   "metadata": {},
   "outputs": [],
   "source": [
    "#naive concatenation, mengkonkat kedua feature tanpa prerlakuan khusus\n",
    "def naive_concatenation(word2vec_features, lexicon_features):\n",
    "    return np.concatenate((word2vec_features, lexicon_features), axis=1)\n",
    "\n",
    "# concatenated_few = naive_concatenation(embedding_matrix_few,lexicon_matrix_few)\n",
    "# concatenated_many = naive_concatenation(embedding_matrix_many,lexicon_matrix_many)\n",
    "concatenated_ori = naive_concatenation(embedding_matrix_ori,lexicon_matrix_ori)"
   ]
  },
  {
   "cell_type": "code",
   "execution_count": 33,
   "metadata": {},
   "outputs": [],
   "source": [
    "#multichannel dimana feature dengan dimensi terkecil(lexicon) akan mempadding dirinya agar bisa seimbang dalam pemisahan di channel model\n",
    "def concatenate_features(x, x_lex):\n",
    "    w2vdim = x.shape[1]\n",
    "    lexdim = x_lex.shape[1]\n",
    "    npad = ((0, 0), (0, w2vdim - lexdim))\n",
    "\n",
    "    x_lex_padded = np.pad(x_lex, pad_width=npad, mode='constant', constant_values=0)\n",
    "    x_fat = np.concatenate((x[..., np.newaxis], x_lex_padded[..., np.newaxis]), axis=2)\n",
    "\n",
    "    return x_lex_padded\n",
    "\n",
    "# multichannel_few = concatenate_features(embedding_matrix_few,lexicon_matrix_few)\n",
    "# multichannel_many = concatenate_features(embedding_matrix_many,lexicon_matrix_many)\n",
    "multichannel_ori = concatenate_features(embedding_matrix_ori,lexicon_matrix_ori)"
   ]
  },
  {
   "cell_type": "markdown",
   "metadata": {},
   "source": [
    "#seleksi fitur word embedding glove\n",
    "embedding_dictionary = dict()\n",
    "#glove_file = open('C:\\Users\\Sayang\\Documents\\code skripsi\\dataTemp\\Glove.6B.100d.txt', encoding='utf8')\n",
    "glove_file = open('C:\\glove.6B.100d.txt', encoding='utf8')\n",
    "\n",
    "for line in glove_file:\n",
    "    records = line.split()\n",
    "    word = records[0]\n",
    "    vector_dimensions = np.asarray(records[1:], dtype='float32')\n",
    "    embedding_dictionary [word] = vector_dimensions\n",
    "glove_file.close()"
   ]
  },
  {
   "cell_type": "markdown",
   "metadata": {},
   "source": [
    "from numpy import zeros\n",
    "\n",
    "embedding_matrix = zeros((vocab, 100))\n",
    "for word, index in token.word_index.items(): #index_word\n",
    "    embedding_vector = embedding_dictionary.get(word)\n",
    "    if embedding_vector is not None:\n",
    "        embedding_matrix[index] = embedding_vector"
   ]
  },
  {
   "cell_type": "code",
   "execution_count": 34,
   "metadata": {},
   "outputs": [],
   "source": [
    "from sklearn.metrics import accuracy_score, precision_score, recall_score, f1_score, roc_auc_score\n",
    "def generate_model_report(y_actual,y_prediction):\n",
    "    akurasi = accuracy_score(y_actual,y_prediction)\n",
    "    recall = recall_score(y_actual,y_prediction)\n",
    "    presisi = precision_score(y_actual,y_prediction)\n",
    "    f1 = f1_score(y_actual,y_prediction)\n",
    "    auc = roc_auc_score(y_actual,y_prediction)\n",
    "    # print(\"Akurasi : \", akurasi)\n",
    "    # print(\"Recall : \", recall)\n",
    "    # print(\"Presisi : \", presisi)\n",
    "    # print(\"F1-Score : \",f1)\n",
    "    return akurasi, recall, presisi, f1, auc"
   ]
  },
  {
   "cell_type": "code",
   "execution_count": 35,
   "metadata": {},
   "outputs": [
    {
     "name": "stdout",
     "output_type": "stream",
     "text": [
      "Model: \"model\"\n",
      "_________________________________________________________________\n",
      " Layer (type)                Output Shape              Param #   \n",
      "=================================================================\n",
      " input_1 (InputLayer)        [(None, 131)]             0         \n",
      "                                                                 \n",
      " embedding (Embedding)       (None, 131, 300)          5744100   \n",
      "                                                                 \n",
      " conv1d (Conv1D)             (None, 129, 64)           57664     \n",
      "                                                                 \n",
      " max_pooling1d (MaxPooling1D  (None, 64, 64)           0         \n",
      " )                                                               \n",
      "                                                                 \n",
      " conv1d_1 (Conv1D)           (None, 62, 128)           24704     \n",
      "                                                                 \n",
      " max_pooling1d_1 (MaxPooling  (None, 31, 128)          0         \n",
      " 1D)                                                             \n",
      "                                                                 \n",
      " dropout (Dropout)           (None, 31, 128)           0         \n",
      "                                                                 \n",
      " global_max_pooling1d (Globa  (None, 128)              0         \n",
      " lMaxPooling1D)                                                  \n",
      "                                                                 \n",
      " dense (Dense)               (None, 2)                 258       \n",
      "                                                                 \n",
      "=================================================================\n",
      "Total params: 5,826,726\n",
      "Trainable params: 82,626\n",
      "Non-trainable params: 5,744,100\n",
      "_________________________________________________________________\n"
     ]
    }
   ],
   "source": [
    "def cnn_base(embedding_layer,output_dim,input_dim):\n",
    "    input_word = Input(shape=(max_kata,))\n",
    "    embed_word = Embedding(input_dim= input_dim, output_dim=output_dim, weights=embedding_layer, input_length=max_kata, trainable = False)(input_word)\n",
    "    # define the convolution layer\n",
    "    # concatenated = concatenate([embed_word, embed_lex], axis=-1)\n",
    "    x = Conv1D(64, kernel_size=3, activation='relu')(embed_word)\n",
    "    x = MaxPooling1D(pool_size=2)(x)\n",
    "    x = Conv1D(128, kernel_size=3, activation='relu')(x)\n",
    "    x = MaxPooling1D(pool_size=2)(x)\n",
    "    x = Dropout(0.5)(x)\n",
    "    # flatten the output\n",
    "    x = GlobalMaxPooling1D()(x)\n",
    "    # define the output layer\n",
    "    output_tensor = Dense(2, activation='sigmoid')(x)\n",
    "    model = Model(input_word, outputs=output_tensor)\n",
    "    model.compile(optimizer='adam',  loss=\"binary_crossentropy\", metrics=['accuracy'])\n",
    "    return model\n",
    "\n",
    "model_base = cnn_base(None,300,vocab_ori)\n",
    "model_base.summary()"
   ]
  },
  {
   "cell_type": "code",
   "execution_count": 36,
   "metadata": {},
   "outputs": [
    {
     "name": "stdout",
     "output_type": "stream",
     "text": [
      "Epoch 1/10\n",
      "297/297 [==============================] - 37s 108ms/step - loss: 0.3943 - accuracy: 0.8648 - val_loss: 0.4147 - val_accuracy: 0.8748\n",
      "Epoch 2/10\n",
      "297/297 [==============================] - 24s 81ms/step - loss: 0.3720 - accuracy: 0.8663 - val_loss: 0.3994 - val_accuracy: 0.8748\n",
      "Epoch 3/10\n",
      "297/297 [==============================] - 23s 79ms/step - loss: 0.3530 - accuracy: 0.8663 - val_loss: 0.4241 - val_accuracy: 0.8748\n",
      "Epoch 4/10\n",
      "297/297 [==============================] - 23s 76ms/step - loss: 0.3212 - accuracy: 0.8692 - val_loss: 0.4142 - val_accuracy: 0.8748\n",
      "Epoch 5/10\n",
      "297/297 [==============================] - 23s 78ms/step - loss: 0.2673 - accuracy: 0.8893 - val_loss: 0.4467 - val_accuracy: 0.8349\n",
      "Epoch 6/10\n",
      "297/297 [==============================] - 24s 81ms/step - loss: 0.1823 - accuracy: 0.9308 - val_loss: 0.4275 - val_accuracy: 0.8463\n",
      "Epoch 7/10\n",
      "297/297 [==============================] - 23s 79ms/step - loss: 0.0938 - accuracy: 0.9711 - val_loss: 0.4614 - val_accuracy: 0.8121\n",
      "Epoch 8/10\n",
      "297/297 [==============================] - 23s 79ms/step - loss: 0.0416 - accuracy: 0.9909 - val_loss: 0.4914 - val_accuracy: 0.8425\n",
      "Epoch 9/10\n",
      "297/297 [==============================] - 23s 78ms/step - loss: 0.0174 - accuracy: 0.9983 - val_loss: 0.5294 - val_accuracy: 0.8425\n",
      "Epoch 10/10\n",
      "297/297 [==============================] - 23s 77ms/step - loss: 0.0083 - accuracy: 0.9989 - val_loss: 0.5674 - val_accuracy: 0.8520\n"
     ]
    }
   ],
   "source": [
    "# model_base.compile(optimizer='adam',  loss=\"binary_crossentropy\", metrics=['accuracy'])\n",
    "history_base = model_base.fit(X_train3, y_train3, epochs=10,batch_size=16, validation_data=(X_val3,y_val3))"
   ]
  },
  {
   "cell_type": "code",
   "execution_count": 37,
   "metadata": {},
   "outputs": [
    {
     "name": "stdout",
     "output_type": "stream",
     "text": [
      "19/19 [==============================] - 1s 40ms/step - loss: 0.5588 - accuracy: 0.8430\n",
      "19/19 [==============================] - 1s 41ms/step\n"
     ]
    }
   ],
   "source": [
    "from sklearn.metrics import confusion_matrix,classification_report\n",
    "import seaborn as sns\n",
    "\n",
    "eval_base = model_base.evaluate(X_test3, y_test3)\n",
    "y_pred=model_base.predict(X_test3)\n",
    "y_pred=np.argmax(y_pred,axis=1)\n",
    "y_testnp=np.argmax(y_test3,axis=1)\n",
    "cm1 =confusion_matrix(y_testnp,y_pred)\n",
    "acc_base, recall_base, preisi_base, f1_base, auc_base = generate_model_report(y_testnp,y_pred)"
   ]
  },
  {
   "cell_type": "code",
   "execution_count": 38,
   "metadata": {},
   "outputs": [
    {
     "name": "stdout",
     "output_type": "stream",
     "text": [
      "0.8430034129692833 0.11538461538461539 0.28125 0.16363636363636364 0.5350545124167171\n"
     ]
    }
   ],
   "source": [
    "print(acc_base, recall_base, preisi_base, f1_base,auc_base)"
   ]
  },
  {
   "cell_type": "code",
   "execution_count": 39,
   "metadata": {},
   "outputs": [
    {
     "name": "stdout",
     "output_type": "stream",
     "text": [
      "Model: \"model_1\"\n",
      "_________________________________________________________________\n",
      " Layer (type)                Output Shape              Param #   \n",
      "=================================================================\n",
      " input_2 (InputLayer)        [(None, 131)]             0         \n",
      "                                                                 \n",
      " embedding_1 (Embedding)     (None, 131, 304)          5820992   \n",
      "                                                                 \n",
      " conv1d_2 (Conv1D)           (None, 129, 64)           58432     \n",
      "                                                                 \n",
      " max_pooling1d_2 (MaxPooling  (None, 64, 64)           0         \n",
      " 1D)                                                             \n",
      "                                                                 \n",
      " conv1d_3 (Conv1D)           (None, 62, 128)           24704     \n",
      "                                                                 \n",
      " max_pooling1d_3 (MaxPooling  (None, 31, 128)          0         \n",
      " 1D)                                                             \n",
      "                                                                 \n",
      " dropout_1 (Dropout)         (None, 31, 128)           0         \n",
      "                                                                 \n",
      " global_max_pooling1d_1 (Glo  (None, 128)              0         \n",
      " balMaxPooling1D)                                                \n",
      "                                                                 \n",
      " dense_1 (Dense)             (None, 2)                 258       \n",
      "                                                                 \n",
      "=================================================================\n",
      "Total params: 5,904,386\n",
      "Trainable params: 83,394\n",
      "Non-trainable params: 5,820,992\n",
      "_________________________________________________________________\n"
     ]
    }
   ],
   "source": [
    "model_naive_c = cnn_base([concatenated_ori],concatenated_ori.shape[1],vocab_ori+1)\n",
    "model_naive_c.summary()"
   ]
  },
  {
   "cell_type": "markdown",
   "metadata": {},
   "source": []
  },
  {
   "cell_type": "code",
   "execution_count": 40,
   "metadata": {},
   "outputs": [
    {
     "name": "stdout",
     "output_type": "stream",
     "text": [
      "Epoch 1/10\n",
      "75/75 [==============================] - 24s 266ms/step - loss: 0.4050 - accuracy: 0.8561 - val_loss: 0.4047 - val_accuracy: 0.8748\n",
      "Epoch 2/10\n",
      "75/75 [==============================] - 23s 313ms/step - loss: 0.3731 - accuracy: 0.8663 - val_loss: 0.4192 - val_accuracy: 0.8748\n",
      "Epoch 3/10\n",
      "75/75 [==============================] - 20s 262ms/step - loss: 0.3595 - accuracy: 0.8663 - val_loss: 0.3976 - val_accuracy: 0.8748\n",
      "Epoch 4/10\n",
      "75/75 [==============================] - 18s 236ms/step - loss: 0.3424 - accuracy: 0.8671 - val_loss: 0.3938 - val_accuracy: 0.8729\n",
      "Epoch 5/10\n",
      "75/75 [==============================] - 16s 219ms/step - loss: 0.3228 - accuracy: 0.8718 - val_loss: 0.3489 - val_accuracy: 0.8748\n",
      "Epoch 6/10\n",
      "75/75 [==============================] - 17s 233ms/step - loss: 0.2991 - accuracy: 0.8787 - val_loss: 0.3481 - val_accuracy: 0.8748\n",
      "Epoch 7/10\n",
      "75/75 [==============================] - 17s 227ms/step - loss: 0.2762 - accuracy: 0.8886 - val_loss: 0.4131 - val_accuracy: 0.8710\n",
      "Epoch 8/10\n",
      "75/75 [==============================] - 17s 222ms/step - loss: 0.2484 - accuracy: 0.9002 - val_loss: 0.4173 - val_accuracy: 0.8615\n",
      "Epoch 9/10\n",
      "75/75 [==============================] - 16s 219ms/step - loss: 0.2019 - accuracy: 0.9179 - val_loss: 0.3589 - val_accuracy: 0.8748\n",
      "Epoch 10/10\n",
      "75/75 [==============================] - 17s 226ms/step - loss: 0.1816 - accuracy: 0.9327 - val_loss: 0.3759 - val_accuracy: 0.8710\n"
     ]
    }
   ],
   "source": [
    "history_naive = model_naive_c.fit(X_train3, y_train3, epochs=10,batch_size=64, validation_data=(X_val3,y_val3))"
   ]
  },
  {
   "cell_type": "code",
   "execution_count": 41,
   "metadata": {},
   "outputs": [
    {
     "name": "stdout",
     "output_type": "stream",
     "text": [
      "19/19 [==============================] - 1s 39ms/step - loss: 0.3910 - accuracy: 0.8498\n",
      "19/19 [==============================] - 1s 45ms/step\n",
      "0.8498293515358362 0.08974358974358974 0.2916666666666667 0.1372549019607843 0.5281395114072278\n"
     ]
    }
   ],
   "source": [
    "eval_naive = model_naive_c.evaluate(X_test3, y_test3)\n",
    "y_pred=model_naive_c.predict(X_test3)\n",
    "y_pred=np.argmax(y_pred,axis=1)\n",
    "y_testnp=np.argmax(y_test3,axis=1)\n",
    "cm2 =confusion_matrix(y_testnp,y_pred)\n",
    "acc_naive, recall_naive, preisi_naive, f1_naive, auc_naive = generate_model_report(y_testnp,y_pred)\n",
    "print(acc_naive, recall_naive, preisi_naive, f1_naive, auc_naive)"
   ]
  },
  {
   "cell_type": "code",
   "execution_count": 42,
   "metadata": {},
   "outputs": [
    {
     "name": "stdout",
     "output_type": "stream",
     "text": [
      "Model: \"model_2\"\n",
      "__________________________________________________________________________________________________\n",
      " Layer (type)                   Output Shape         Param #     Connected to                     \n",
      "==================================================================================================\n",
      " input_3 (InputLayer)           [(None, 131)]        0           []                               \n",
      "                                                                                                  \n",
      " embedding_2 (Embedding)        (None, 131, 300)     5744400     ['input_3[0][0]']                \n",
      "                                                                                                  \n",
      " embedding_3 (Embedding)        (None, 131, 300)     5744400     ['input_3[0][0]']                \n",
      "                                                                                                  \n",
      " concatenate (Concatenate)      (None, 131, 600)     0           ['embedding_2[0][0]',            \n",
      "                                                                  'embedding_3[0][0]']            \n",
      "                                                                                                  \n",
      " conv1d_4 (Conv1D)              (None, 129, 64)      115264      ['concatenate[0][0]']            \n",
      "                                                                                                  \n",
      " max_pooling1d_4 (MaxPooling1D)  (None, 64, 64)      0           ['conv1d_4[0][0]']               \n",
      "                                                                                                  \n",
      " conv1d_5 (Conv1D)              (None, 62, 128)      24704       ['max_pooling1d_4[0][0]']        \n",
      "                                                                                                  \n",
      " max_pooling1d_5 (MaxPooling1D)  (None, 31, 128)     0           ['conv1d_5[0][0]']               \n",
      "                                                                                                  \n",
      " dropout_2 (Dropout)            (None, 31, 128)      0           ['max_pooling1d_5[0][0]']        \n",
      "                                                                                                  \n",
      " global_max_pooling1d_2 (Global  (None, 128)         0           ['dropout_2[0][0]']              \n",
      " MaxPooling1D)                                                                                    \n",
      "                                                                                                  \n",
      " dense_2 (Dense)                (None, 2)            258         ['global_max_pooling1d_2[0][0]'] \n",
      "                                                                                                  \n",
      "==================================================================================================\n",
      "Total params: 11,629,026\n",
      "Trainable params: 140,226\n",
      "Non-trainable params: 11,488,800\n",
      "__________________________________________________________________________________________________\n"
     ]
    }
   ],
   "source": [
    "def cnn_multichannel(embedding_layer,lexicon_layer,input_dim):\n",
    "    input_word = Input(shape=(max_kata,))\n",
    "    embed_word = Embedding(input_dim= input_dim+1, output_dim=embedding_layer.shape[1], weights=[embedding_layer], input_length=max_kata, trainable = False)(input_word)\n",
    "    embed_lex = Embedding(input_dim= input_dim+1, output_dim=lexicon_layer.shape[1], weights=[lexicon_layer], input_length=max_kata, trainable = False)(input_word)\n",
    "    # define the convolution layer\n",
    "    # concatenated = concatenate([embed_word, embed_lex], axis=-1)\n",
    "    concatenated = concatenate([embed_word, embed_lex], axis=-1)\n",
    "    x = Conv1D(64, kernel_size=3, activation='relu')(concatenated)\n",
    "    x = MaxPooling1D(pool_size=2)(x)\n",
    "    x = Conv1D(128, kernel_size=3, activation='relu')(x)\n",
    "    x = MaxPooling1D(pool_size=2)(x)\n",
    "    x = Dropout(0.5)(x)\n",
    "    # flatten the output\n",
    "    x = GlobalMaxPooling1D()(x)\n",
    "    # define the output layer\n",
    "    output_tensor = Dense(2, activation='sigmoid')(x)\n",
    "    model = Model(input_word, outputs=output_tensor)\n",
    "    model.compile(optimizer='adam',  loss=\"binary_crossentropy\", metrics=['accuracy'])\n",
    "    return model\n",
    "\n",
    "model_multichannel = cnn_multichannel(embedding_matrix_ori,multichannel_ori,vocab_ori)\n",
    "model_multichannel.summary()"
   ]
  },
  {
   "cell_type": "code",
   "execution_count": 43,
   "metadata": {},
   "outputs": [
    {
     "name": "stdout",
     "output_type": "stream",
     "text": [
      "Epoch 1/10\n",
      "75/75 [==============================] - 45s 525ms/step - loss: 0.3973 - accuracy: 0.8663 - val_loss: 0.4172 - val_accuracy: 0.8748\n",
      "Epoch 2/10\n",
      "75/75 [==============================] - 28s 368ms/step - loss: 0.3733 - accuracy: 0.8663 - val_loss: 0.4073 - val_accuracy: 0.8748\n",
      "Epoch 3/10\n",
      "75/75 [==============================] - 26s 345ms/step - loss: 0.3586 - accuracy: 0.8663 - val_loss: 0.3925 - val_accuracy: 0.8748\n",
      "Epoch 4/10\n",
      "75/75 [==============================] - 27s 359ms/step - loss: 0.3424 - accuracy: 0.8663 - val_loss: 0.3951 - val_accuracy: 0.8748\n",
      "Epoch 5/10\n",
      "75/75 [==============================] - 28s 369ms/step - loss: 0.3167 - accuracy: 0.8705 - val_loss: 0.4185 - val_accuracy: 0.8786\n",
      "Epoch 6/10\n",
      "75/75 [==============================] - 28s 370ms/step - loss: 0.2956 - accuracy: 0.8796 - val_loss: 0.3482 - val_accuracy: 0.8748\n",
      "Epoch 7/10\n",
      "75/75 [==============================] - 28s 369ms/step - loss: 0.2476 - accuracy: 0.9007 - val_loss: 0.3538 - val_accuracy: 0.8767\n",
      "Epoch 8/10\n",
      "75/75 [==============================] - 27s 354ms/step - loss: 0.2140 - accuracy: 0.9175 - val_loss: 0.4265 - val_accuracy: 0.8387\n",
      "Epoch 9/10\n",
      "75/75 [==============================] - 27s 358ms/step - loss: 0.1471 - accuracy: 0.9504 - val_loss: 0.3851 - val_accuracy: 0.8672\n",
      "Epoch 10/10\n",
      "75/75 [==============================] - 28s 371ms/step - loss: 0.1105 - accuracy: 0.9648 - val_loss: 0.4871 - val_accuracy: 0.7799\n"
     ]
    }
   ],
   "source": [
    "history_multi = model_multichannel.fit(X_train3, y_train3, epochs=10,batch_size=64, validation_data=(X_val3,y_val3))"
   ]
  },
  {
   "cell_type": "code",
   "execution_count": 44,
   "metadata": {},
   "outputs": [
    {
     "name": "stdout",
     "output_type": "stream",
     "text": [
      "19/19 [==============================] - 2s 80ms/step - loss: 0.4842 - accuracy: 0.7901\n",
      "19/19 [==============================] - 2s 91ms/step\n",
      "0.7901023890784983 0.38461538461538464 0.2857142857142857 0.32786885245901637 0.618488794669897\n"
     ]
    }
   ],
   "source": [
    "eval_multi = model_multichannel.evaluate(X_test3, y_test3)\n",
    "y_pred=model_multichannel.predict(X_test3)\n",
    "y_pred=np.argmax(y_pred,axis=1)\n",
    "y_testnp=np.argmax(y_test3,axis=1)\n",
    "cm3 =confusion_matrix(y_testnp,y_pred)\n",
    "acc_multi, recall_multi, preisi_multi, f1_multi, auc_multi = generate_model_report(y_testnp,y_pred)\n",
    "print(acc_multi, recall_multi, preisi_multi, f1_multi, auc_multi)"
   ]
  },
  {
   "cell_type": "code",
   "execution_count": 45,
   "metadata": {},
   "outputs": [
    {
     "name": "stdout",
     "output_type": "stream",
     "text": [
      "Model: \"model_3\"\n",
      "__________________________________________________________________________________________________\n",
      " Layer (type)                   Output Shape         Param #     Connected to                     \n",
      "==================================================================================================\n",
      " input_4 (InputLayer)           [(None, 131)]        0           []                               \n",
      "                                                                                                  \n",
      " embedding_4 (Embedding)        (None, 131, 300)     5744400     ['input_4[0][0]']                \n",
      "                                                                                                  \n",
      " embedding_5 (Embedding)        (None, 131, 4)       76592       ['input_4[0][0]']                \n",
      "                                                                                                  \n",
      " conv1d_6 (Conv1D)              (None, 129, 64)      57664       ['embedding_4[0][0]']            \n",
      "                                                                                                  \n",
      " conv1d_7 (Conv1D)              (None, 129, 128)     115328      ['embedding_4[0][0]']            \n",
      "                                                                                                  \n",
      " conv1d_8 (Conv1D)              (None, 129, 64)      832         ['embedding_5[0][0]']            \n",
      "                                                                                                  \n",
      " conv1d_9 (Conv1D)              (None, 129, 128)     1664        ['embedding_5[0][0]']            \n",
      "                                                                                                  \n",
      " concatenate_1 (Concatenate)    (None, 129, 192)     0           ['conv1d_6[0][0]',               \n",
      "                                                                  'conv1d_7[0][0]']               \n",
      "                                                                                                  \n",
      " concatenate_2 (Concatenate)    (None, 129, 192)     0           ['conv1d_8[0][0]',               \n",
      "                                                                  'conv1d_9[0][0]']               \n",
      "                                                                                                  \n",
      " max_pooling1d_6 (MaxPooling1D)  (None, 64, 192)     0           ['concatenate_1[0][0]']          \n",
      "                                                                                                  \n",
      " max_pooling1d_7 (MaxPooling1D)  (None, 64, 192)     0           ['concatenate_2[0][0]']          \n",
      "                                                                                                  \n",
      " concatenate_3 (Concatenate)    (None, 64, 384)      0           ['max_pooling1d_6[0][0]',        \n",
      "                                                                  'max_pooling1d_7[0][0]']        \n",
      "                                                                                                  \n",
      " dropout_3 (Dropout)            (None, 64, 384)      0           ['concatenate_3[0][0]']          \n",
      "                                                                                                  \n",
      " global_max_pooling1d_3 (Global  (None, 384)         0           ['dropout_3[0][0]']              \n",
      " MaxPooling1D)                                                                                    \n",
      "                                                                                                  \n",
      " dense_3 (Dense)                (None, 2)            770         ['global_max_pooling1d_3[0][0]'] \n",
      "                                                                                                  \n",
      "==================================================================================================\n",
      "Total params: 5,997,250\n",
      "Trainable params: 176,258\n",
      "Non-trainable params: 5,820,992\n",
      "__________________________________________________________________________________________________\n"
     ]
    }
   ],
   "source": [
    "def cnn_separated_conv(embedding_layer,lexicon_layer,input_dim):\n",
    "    input_word = Input(shape=(max_kata,))\n",
    "    # define the embedding layer\n",
    "    embed_word = Embedding(input_dim= input_dim+1, output_dim=embedding_layer.shape[1], weights=[embedding_layer], input_length=max_kata, trainable = False)(input_word)\n",
    "    embed_lex = Embedding(input_dim= input_dim+1, output_dim=lexicon_layer.shape[1], weights=[lexicon_layer], input_length=max_kata, trainable = False)(input_word)\n",
    "\n",
    "    # make conv layer for embed word\n",
    "    x1 = Conv1D(64, kernel_size=3, activation='relu')(embed_word)\n",
    "    x2 = Conv1D(128, kernel_size=3, activation='relu')(embed_word)\n",
    "    concatenated_1 = concatenate([x1, x2], axis=-1)\n",
    "    pool1 = MaxPooling1D(pool_size=2)(concatenated_1)\n",
    "    # make conv layer for embed lex\n",
    "    x3 = Conv1D(64, kernel_size=3, activation='relu')(embed_lex)\n",
    "    x4 = Conv1D(128, kernel_size=3, activation='relu')(embed_lex)\n",
    "    concatenated_2 = concatenate([x3, x4], axis=-1)\n",
    "    pool2 = MaxPooling1D(pool_size=2)(concatenated_2)\n",
    "    # combining all seperated conv\n",
    "    concatenated_3 = concatenate([pool1, pool2], axis=-1)\n",
    "    x = Dropout(0.5)(concatenated_3)\n",
    "    x = GlobalMaxPooling1D()(x)\n",
    "    # x = Dense(128, activation='relu')(x)\n",
    "    output_tensor = Dense(2, activation='sigmoid')(x)\n",
    "    model = Model(input_word, outputs=output_tensor)\n",
    "    model.compile(optimizer='adam',  loss=\"binary_crossentropy\", metrics=['accuracy'])\n",
    "    return model\n",
    "\n",
    "model_separated = cnn_separated_conv(embedding_matrix_ori,lexicon_matrix_ori,vocab_ori)\n",
    "model_separated.summary()"
   ]
  },
  {
   "cell_type": "code",
   "execution_count": 46,
   "metadata": {},
   "outputs": [
    {
     "name": "stdout",
     "output_type": "stream",
     "text": [
      "Epoch 1/10\n",
      "149/149 [==============================] - 60s 372ms/step - loss: 0.4051 - accuracy: 0.8574 - val_loss: 0.4235 - val_accuracy: 0.8748\n",
      "Epoch 2/10\n",
      "149/149 [==============================] - 42s 280ms/step - loss: 0.3487 - accuracy: 0.8667 - val_loss: 0.3946 - val_accuracy: 0.8729\n",
      "Epoch 3/10\n",
      "149/149 [==============================] - 46s 311ms/step - loss: 0.3204 - accuracy: 0.8715 - val_loss: 0.3661 - val_accuracy: 0.8748\n",
      "Epoch 4/10\n",
      "149/149 [==============================] - 41s 276ms/step - loss: 0.2791 - accuracy: 0.8848 - val_loss: 0.4280 - val_accuracy: 0.8729\n",
      "Epoch 5/10\n",
      "149/149 [==============================] - 42s 284ms/step - loss: 0.2366 - accuracy: 0.9028 - val_loss: 0.4372 - val_accuracy: 0.8615\n",
      "Epoch 6/10\n",
      "149/149 [==============================] - 43s 288ms/step - loss: 0.1996 - accuracy: 0.9266 - val_loss: 0.3721 - val_accuracy: 0.8653\n",
      "Epoch 7/10\n",
      "149/149 [==============================] - 43s 289ms/step - loss: 0.1489 - accuracy: 0.9502 - val_loss: 0.4222 - val_accuracy: 0.8539\n",
      "Epoch 8/10\n",
      "149/149 [==============================] - 43s 288ms/step - loss: 0.1129 - accuracy: 0.9707 - val_loss: 0.3701 - val_accuracy: 0.8691\n",
      "Epoch 9/10\n",
      "149/149 [==============================] - 43s 291ms/step - loss: 0.0864 - accuracy: 0.9804 - val_loss: 0.3625 - val_accuracy: 0.8691\n",
      "Epoch 10/10\n",
      "149/149 [==============================] - 45s 300ms/step - loss: 0.0676 - accuracy: 0.9867 - val_loss: 0.4166 - val_accuracy: 0.8387\n"
     ]
    }
   ],
   "source": [
    "history_separated = model_separated.fit(X_train3, y_train3, epochs=10,batch_size=32, validation_data=(X_val3,y_val3))"
   ]
  },
  {
   "cell_type": "code",
   "execution_count": 47,
   "metadata": {},
   "outputs": [
    {
     "name": "stdout",
     "output_type": "stream",
     "text": [
      "19/19 [==============================] - 2s 108ms/step - loss: 0.4084 - accuracy: 0.8311\n",
      "19/19 [==============================] - 2s 104ms/step\n",
      "0.8310580204778157 0.32051282051282054 0.352112676056338 0.3355704697986578 0.6149808197052291\n"
     ]
    }
   ],
   "source": [
    "eval_seperated = model_separated.evaluate(X_test3, y_test3)\n",
    "y_pred=model_separated.predict(X_test3)\n",
    "y_pred=np.argmax(y_pred,axis=1)\n",
    "y_testnp=np.argmax(y_test3,axis=1)\n",
    "cm4 =confusion_matrix(y_testnp,y_pred)\n",
    "acc_seperated, recall_seperated, preisi_seperated, f1_seperated, auc_seperated = generate_model_report(y_testnp,y_pred)\n",
    "print(acc_seperated, recall_seperated, preisi_seperated, f1_seperated, auc_seperated)"
   ]
  },
  {
   "cell_type": "code",
   "execution_count": 49,
   "metadata": {},
   "outputs": [
    {
     "name": "stdout",
     "output_type": "stream",
     "text": [
      "0.8430034129692833 0.11538461538461539 0.28125 0.16363636363636364 0.5350545124167171\n",
      "0.8498293515358362 0.08974358974358974 0.2916666666666667 0.1372549019607843 0.5281395114072278\n",
      "0.7901023890784983 0.38461538461538464 0.2857142857142857 0.32786885245901637 0.618488794669897\n",
      "0.8310580204778157 0.32051282051282054 0.352112676056338 0.3355704697986578 0.6149808197052291\n"
     ]
    }
   ],
   "source": [
    "print(acc_base, recall_base, preisi_base, f1_base, auc_base)\n",
    "print(acc_naive, recall_naive, preisi_naive, f1_naive, auc_naive)\n",
    "print(acc_multi, recall_multi, preisi_multi, f1_multi, auc_multi)\n",
    "print(acc_seperated, recall_seperated, preisi_seperated, f1_seperated, auc_seperated)"
   ]
  },
  {
   "cell_type": "code",
   "execution_count": 60,
   "metadata": {},
   "outputs": [
    {
     "name": "stdout",
     "output_type": "stream",
     "text": [
      "0.8020477815699659 0.3076923076923077 0.27906976744186046 0.2926829268292683\n",
      "0.8515358361774744 0.15384615384615385 0.36363636363636365 0.21621621621621623\n",
      "0.8447098976109215 0.11538461538461539 0.2903225806451613 0.1651376146788991\n",
      "0.8447098976109215 0.11538461538461539 0.2903225806451613 0.1651376146788991\n"
     ]
    }
   ],
   "source": [
    "# print(acc_base, recall_base, preisi_base, f1_base)\n",
    "# print(acc_naive, recall_naive, preisi_naive, f1_naive)\n",
    "# print(acc_multi, recall_multi, preisi_multi, f1_multi)\n",
    "# print(acc_seperated, recall_seperated, preisi_seperated, f1_seperated)"
   ]
  },
  {
   "cell_type": "code",
   "execution_count": 50,
   "metadata": {},
   "outputs": [
    {
     "data": {
      "image/png": "[encoded data removed]",
      "text/plain": [
       "<Figure size 1000x800 with 4 Axes>"
      ]
     },
     "metadata": {},
     "output_type": "display_data"
    }
   ],
   "source": [
    "# method_name = ['base_line_CNN','Lex_NC_CNN','Lex_Multi_CNN','Lex_SC_CNN']\n",
    "# method_value = [[acc_base,recall_base,preisi_base,f1_base],[acc_naive,recall_naive,preisi_naive,f1_naive],[acc_multi,recall_multi,preisi_multi,f1_multi],\n",
    "#     [acc_seperated,recall_seperated,preisi_seperated,f1_seperated]]\n",
    "method_name = ['Accuracy','Recall','Precision','F1-score','Method','num']\n",
    "method_value = [[acc_base,acc_naive,acc_multi,acc_seperated],[recall_base,recall_naive,recall_multi,recall_seperated],[preisi_base,preisi_naive,preisi_multi,preisi_seperated],\n",
    "    [f1_base,f1_naive,f1_multi,f1_seperated],['base_cnn','+Lex_NC','+Lex_Multi','+Lex_SC'],[1,2,3,4]]\n",
    "\n",
    "method_result= dict(zip(method_name,method_value))\n",
    "method_result= pd.DataFrame(method_result)\n",
    "\n",
    "# Set the style for the plots\n",
    "sns.set(style=\"whitegrid\")\n",
    "\n",
    "# Create a figure with multiple subplots\n",
    "fig, axes = plt.subplots(nrows=2, ncols=2, figsize=(10, 8))\n",
    "\n",
    "# Plot a histogram for each metric\n",
    "sns.barplot(ax=axes[0, 0], data=method_result, y=\"Accuracy\", x=\"Method\")\n",
    "sns.barplot(ax=axes[0, 1], data=method_result, y=\"Recall\", x=\"Method\")\n",
    "sns.barplot(ax=axes[1, 0], data=method_result, y=\"Precision\", x=\"Method\")\n",
    "sns.barplot(ax=axes[1, 1], data=method_result, y=\"F1-score\", x=\"Method\")\n",
    "\n",
    "# Set the title for each plot\n",
    "axes[0, 0].set_title(\"Accuracy\")\n",
    "axes[0, 0].set_ylim(0,1)\n",
    "axes[0, 1].set_title(\"Recall\")\n",
    "axes[0, 1].set_ylim(0,1)\n",
    "axes[1, 0].set_title(\"Precision\")\n",
    "axes[1, 0].set_ylim(0,1)\n",
    "axes[1, 1].set_title(\"F1-score\")\n",
    "axes[1, 1].set_ylim(0,1)\n",
    "\n",
    "# Adjust the spacing between the subplots\n",
    "plt.tight_layout()\n",
    "\n",
    "# Show the plot\n",
    "plt.show()\n",
    "# # plot histogram for each metric\n",
    "# for metric in method_result.columns:\n",
    "#     plt.hist(method_result[metric], alpha=0.5, label=metric)\n",
    "\n",
    "# plt.legend(loc='upper right')\n",
    "# plt.show()"
   ]
  },
  {
   "cell_type": "code",
   "execution_count": 56,
   "metadata": {},
   "outputs": [],
   "source": [
    "def make_plot_hist(m1,m2,m3,m4,train, validation, title):\n",
    "    graph = plt.subplot(2,2,1)\n",
    "    graph = plt.plot(m1.history[train],label='train')\n",
    "    graph = plt.plot(m1.history[validation],label='val')\n",
    "    graph = plt.subplot(2,2,2)\n",
    "    graph = plt.plot(m2.history[train],label='train')\n",
    "    graph = plt.plot(m2.history[validation],label='val')\n",
    "    graph = plt.subplot(2,2,3)\n",
    "    graph = plt.plot(m3.history[train],label='train')\n",
    "    graph = plt.plot(m3.history[validation],label='val')\n",
    "    graph = plt.subplot(2,2,4)\n",
    "    graph = plt.plot(m4.history[train],label='train')\n",
    "    graph = plt.plot(m4.history[validation],label='val')\n",
    "    plt.legend()\n",
    "    graph = plt.show()\n",
    "    return graph"
   ]
  },
  {
   "cell_type": "code",
   "execution_count": 57,
   "metadata": {},
   "outputs": [
    {
     "data": {
      "image/png": "[encoded data removed]",
      "text/plain": [
       "<Figure size 640x480 with 4 Axes>"
      ]
     },
     "metadata": {},
     "output_type": "display_data"
    },
    {
     "data": {
      "image/png": "[encoded data removed]",
      "text/plain": [
       "<Figure size 640x480 with 4 Axes>"
      ]
     },
     "metadata": {},
     "output_type": "display_data"
    }
   ],
   "source": [
    "make_plot_hist(history_base,history_naive,history_multi,history_separated,'loss','val_loss','Perubahan loss pada tiap epochs')\n",
    "make_plot_hist(history_base,history_naive,history_multi,history_separated,'accuracy','val_accuracy','Perubahan akurasi pada tiap epochs')"
   ]
  },
  {
   "cell_type": "code",
   "execution_count": 58,
   "metadata": {},
   "outputs": [
    {
     "data": {
      "image/png": "[encoded data removed]",
      "text/plain": [
       "<Figure size 640x480 with 2 Axes>"
      ]
     },
     "metadata": {},
     "output_type": "display_data"
    }
   ],
   "source": [
    "def out_cm(cm,title):\n",
    "    ax=sns.heatmap(cm,annot=True,cmap='Blues',fmt=' ')\n",
    "    ax.set_title(title)\n",
    "    ax.set_xlabel('y_test')\n",
    "    ax.set_ylabel('y_pred')\n",
    "\n",
    "out_cm(cm1,'Confusion Matrix Model Base + WE')"
   ]
  },
  {
   "cell_type": "code",
   "execution_count": 59,
   "metadata": {},
   "outputs": [
    {
     "data": {
      "image/png": "[encoded data removed]",
      "text/plain": [
       "<Figure size 640x480 with 2 Axes>"
      ]
     },
     "metadata": {},
     "output_type": "display_data"
    }
   ],
   "source": [
    "out_cm(cm2,'Confusion Matrix Model Base + LEX_NC')"
   ]
  },
  {
   "cell_type": "code",
   "execution_count": 60,
   "metadata": {},
   "outputs": [
    {
     "data": {
      "image/png": "[encoded data removed]",
      "text/plain": [
       "<Figure size 640x480 with 2 Axes>"
      ]
     },
     "metadata": {},
     "output_type": "display_data"
    }
   ],
   "source": [
    "out_cm(cm3,'Confusion Matrix Model Base + LEX_MULTI')"
   ]
  },
  {
   "cell_type": "code",
   "execution_count": 61,
   "metadata": {},
   "outputs": [
    {
     "data": {
      "image/png": "[encoded data removed]",
      "text/plain": [
       "<Figure size 640x480 with 2 Axes>"
      ]
     },
     "metadata": {},
     "output_type": "display_data"
    }
   ],
   "source": [
    "out_cm(cm4,'Confusion Matrix Model Base + LEX_SC')"
   ]
  },
  {
   "cell_type": "code",
   "execution_count": 141,
   "metadata": {},
   "outputs": [
    {
     "name": "stdout",
     "output_type": "stream",
     "text": [
      "              precision    recall  f1-score   support\n",
      "\n",
      "           0       0.74      0.82      0.78        78\n",
      "           1       0.80      0.71      0.75        78\n",
      "\n",
      "    accuracy                           0.76       156\n",
      "   macro avg       0.77      0.76      0.76       156\n",
      "weighted avg       0.77      0.76      0.76       156\n",
      "\n"
     ]
    }
   ],
   "source": [
    "print(classification_report(y_testnp,y_pred))"
   ]
  }
 ],
 "metadata": {
  "kernelspec": {
   "display_name": "Python 3",
   "language": "python",
   "name": "python3"
  },
  "language_info": {
   "codemirror_mode": {
    "name": "ipython",
    "version": 3
   },
   "file_extension": ".py",
   "mimetype": "text/x-python",
   "name": "python",
   "nbconvert_exporter": "python",
   "pygments_lexer": "ipython3",
   "version": "3.10.7"
  },
  "orig_nbformat": 4,
  "vscode": {
   "interpreter": {
    "hash": "bd5508c2ffc7f17f7d31cf4086cc872f89e96996a08987e995649e5fbe85a3a4"
   }
  }
 },
 "nbformat": 4,
 "nbformat_minor": 2
}
