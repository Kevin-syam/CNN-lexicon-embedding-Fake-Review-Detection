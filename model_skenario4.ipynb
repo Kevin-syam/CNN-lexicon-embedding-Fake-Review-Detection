{
 "cells": [
  {
   "cell_type": "code",
   "execution_count": 1,
   "metadata": {},
   "outputs": [],
   "source": [
    "import numpy as np\n",
    "import pandas as pd\n",
    "import seaborn as sns\n",
    "import matplotlib.pyplot as plt\n",
    "import warnings\n",
    "warnings.filterwarnings('ignore')\n",
    "import pandas as pd\n",
    "import codecs"
   ]
  },
  {
   "cell_type": "code",
   "execution_count": 3,
   "metadata": {},
   "outputs": [],
   "source": [
    "#test_csv_path = 'Data/dataTemp/output_review_yelpHotelData_NRYRcleaned.csv'\n",
    "test_csv_path2 = '../Data/YelpChi/output_review_yelpResData_NRYRcleaned.txt'\n",
    "#df_yelpchi1 = pd.read_csv(test_csv_path, sep='delimiter', header=None)\n",
    "df_yelpchi2 = pd.read_csv(test_csv_path2, sep='delimiter', header=None)"
   ]
  },
  {
   "cell_type": "code",
   "execution_count": 5,
   "metadata": {},
   "outputs": [
    {
     "name": "stdout",
     "output_type": "stream",
     "text": [
      "                                                       0\n",
      "61531  I went to a party at this bar & grill yesterda...\n",
      "61532  I love me some Cafezazzo! I come here a few ti...\n",
      "61533  So after all these years I decided to check ou...\n",
      "61534  I truly love this place! Just like everyone st...\n",
      "61535  If you want seafood this is place to go. It is...\n",
      "61536  I've passed this place a bunch of times on my ...\n",
      "61537  Rubino's is not really setup as a retail opera...\n",
      "61538  This place is amazing. The food is great and y...\n",
      "61539  OK went back the next day as I was driving by ...\n",
      "61540  Delicious, rather authentic Mexican food, must...\n"
     ]
    }
   ],
   "source": [
    "print(df_yelpchi2.tail(10))"
   ]
  },
  {
   "cell_type": "code",
   "execution_count": 7,
   "metadata": {},
   "outputs": [],
   "source": [
    "sample = df_yelpchi2[0]"
   ]
  },
  {
   "cell_type": "code",
   "execution_count": 8,
   "metadata": {},
   "outputs": [
    {
     "name": "stderr",
     "output_type": "stream",
     "text": [
      "[nltk_data] Downloading package stopwords to\n",
      "[nltk_data]     C:\\Users\\kevin\\AppData\\Roaming\\nltk_data...\n",
      "[nltk_data]   Package stopwords is already up-to-date!\n"
     ]
    },
    {
     "data": {
      "text/plain": [
       "True"
      ]
     },
     "execution_count": 8,
     "metadata": {},
     "output_type": "execute_result"
    }
   ],
   "source": [
    "import nltk\n",
    "nltk.download('stopwords')"
   ]
  },
  {
   "cell_type": "code",
   "execution_count": 9,
   "metadata": {},
   "outputs": [],
   "source": [
    "import re\n",
    "from nltk.corpus import stopwords\n",
    "from nltk.stem import PorterStemmer\n",
    "swords = set(stopwords.words(\"english\"))\n",
    "stemmer = PorterStemmer()\n",
    "\n",
    "def parse_text(review):\n",
    "    clean_review = []\n",
    "    # text = re.sub(\"[^a-zA-Z]\", ' ', text)\n",
    "    # text = text.lower().split()\n",
    "    # text = [w for w in text if w not in swords]\n",
    "    \n",
    "    # # Stemming\n",
    "    # stems = [stemmer.stem(ss) for ss in text]\n",
    "    for text in review:\n",
    "        text = re.sub(\"[^a-zA-Z]\", ' ', text)\n",
    "        text = text.lower().split()\n",
    "        text = [w for w in text if w not in swords]\n",
    "        \n",
    "        # Stemming\n",
    "        # stems = [stemmer.stem(ss) for ss in text]\n",
    "        text = \" \".join(text)\n",
    "        clean_review.append(text)\n",
    "    \n",
    "    return clean_review\n",
    "\n",
    "sample = parse_text(sample)"
   ]
  },
  {
   "cell_type": "code",
   "execution_count": 10,
   "metadata": {},
   "outputs": [
    {
     "name": "stdout",
     "output_type": "stream",
     "text": [
      "61521                 man place good even matter get chips\n",
      "61522    ok get ready totally biased review give el mil...\n",
      "61523    quite possibly favorite mexican food chicago o...\n",
      "61524    give place star damn good food damn good price...\n",
      "61525    lately everything tried menu quite good partic...\n",
      "61526    problem face every time certain friends visit ...\n",
      "61527    like san luis speciality alambres kind mexican...\n",
      "61528    hmmmm ok much white sox land cobblestones gets...\n",
      "61529    came pm pm start drink alone studying one look...\n",
      "61530    surprised eagerly roped pop trivia game upon w...\n",
      "61531    went party bar grill yesterday pleasant surpri...\n",
      "61532    love cafezazzo come times around year kids som...\n",
      "61533    years decided check cafezazzo neighborhood gla...\n",
      "61534    truly love place like everyone states reviews ...\n",
      "61535    want seafood place go warehouse man help nice ...\n",
      "61536    passed place bunch times way olympic northwest...\n",
      "61537    rubino really setup retail operation prices in...\n",
      "61538    place amazing food great cannot beat price unf...\n",
      "61539    ok went back next day driving lunchtime steak ...\n",
      "61540    delicious rather authentic mexican food must t...\n",
      "Name: text, dtype: object\n"
     ]
    }
   ],
   "source": [
    "df_clean_big = pd.DataFrame(sample,columns = ['text'])\n",
    "print(df_clean_big['text'].tail(20))"
   ]
  },
  {
   "cell_type": "code",
   "execution_count": 12,
   "metadata": {},
   "outputs": [
    {
     "name": "stdout",
     "output_type": "stream",
     "text": [
      "(61541, 9)\n"
     ]
    },
    {
     "data": {
      "text/html": [
       "<div>\n",
       "<style scoped>\n",
       "    .dataframe tbody tr th:only-of-type {\n",
       "        vertical-align: middle;\n",
       "    }\n",
       "\n",
       "    .dataframe tbody tr th {\n",
       "        vertical-align: top;\n",
       "    }\n",
       "\n",
       "    .dataframe thead th {\n",
       "        text-align: right;\n",
       "    }\n",
       "</style>\n",
       "<table border=\"1\" class=\"dataframe\">\n",
       "  <thead>\n",
       "    <tr style=\"text-align: right;\">\n",
       "      <th></th>\n",
       "      <th>date</th>\n",
       "      <th>review_id</th>\n",
       "      <th>reviewer_id</th>\n",
       "      <th>product_id</th>\n",
       "      <th>label</th>\n",
       "      <th>useful_count</th>\n",
       "      <th>funny_count</th>\n",
       "      <th>cool_count</th>\n",
       "      <th>star_rating</th>\n",
       "    </tr>\n",
       "  </thead>\n",
       "  <tbody>\n",
       "    <tr>\n",
       "      <th>0</th>\n",
       "      <td>9/22/2012</td>\n",
       "      <td>GtwU21YOQn-wf4vWRUIx6w</td>\n",
       "      <td>bNYesZ944s6IJVowOnB0iA</td>\n",
       "      <td>pbEiXam9YJL3neCYHGwLUA</td>\n",
       "      <td>0</td>\n",
       "      <td>0</td>\n",
       "      <td>0</td>\n",
       "      <td>0</td>\n",
       "      <td>5</td>\n",
       "    </tr>\n",
       "    <tr>\n",
       "      <th>1</th>\n",
       "      <td>9/22/2012</td>\n",
       "      <td>0LpVTc3</td>\n",
       "      <td>TRKxLC3y-ZvP45e5iilMtw</td>\n",
       "      <td>pbEiXam9YJL3neCYHGwLUA</td>\n",
       "      <td>0</td>\n",
       "      <td>0</td>\n",
       "      <td>0</td>\n",
       "      <td>0</td>\n",
       "      <td>5</td>\n",
       "    </tr>\n",
       "    <tr>\n",
       "      <th>2</th>\n",
       "      <td>9/19/2012</td>\n",
       "      <td>tljtLzf68Fkwf</td>\n",
       "      <td>0EMm8umAqXZzyhxNpL4M9g</td>\n",
       "      <td>pbEiXam9YJL3neCYHGwLUA</td>\n",
       "      <td>0</td>\n",
       "      <td>0</td>\n",
       "      <td>0</td>\n",
       "      <td>2</td>\n",
       "      <td>3</td>\n",
       "    </tr>\n",
       "    <tr>\n",
       "      <th>3</th>\n",
       "      <td>9/6/2012</td>\n",
       "      <td>iSN</td>\n",
       "      <td>DlwexC7z88ymAzu45skODw</td>\n",
       "      <td>pbEiXam9YJL3neCYHGwLUA</td>\n",
       "      <td>0</td>\n",
       "      <td>3</td>\n",
       "      <td>0</td>\n",
       "      <td>8</td>\n",
       "      <td>3</td>\n",
       "    </tr>\n",
       "    <tr>\n",
       "      <th>4</th>\n",
       "      <td>9/9/2012</td>\n",
       "      <td>Jmwrh7</td>\n",
       "      <td>kW2dk1CWihmh3g7k9N2G8A</td>\n",
       "      <td>pbEiXam9YJL3neCYHGwLUA</td>\n",
       "      <td>0</td>\n",
       "      <td>0</td>\n",
       "      <td>2</td>\n",
       "      <td>1</td>\n",
       "      <td>5</td>\n",
       "    </tr>\n",
       "    <tr>\n",
       "      <th>...</th>\n",
       "      <td>...</td>\n",
       "      <td>...</td>\n",
       "      <td>...</td>\n",
       "      <td>...</td>\n",
       "      <td>...</td>\n",
       "      <td>...</td>\n",
       "      <td>...</td>\n",
       "      <td>...</td>\n",
       "      <td>...</td>\n",
       "    </tr>\n",
       "    <tr>\n",
       "      <th>61536</th>\n",
       "      <td>4/7/2012</td>\n",
       "      <td>I6pazvTPUqRtU</td>\n",
       "      <td>fUXNHG4x1AN9oPpBSpCtUw</td>\n",
       "      <td>_KI0Y2UO68kJuTFUKucaXQ</td>\n",
       "      <td>0</td>\n",
       "      <td>1</td>\n",
       "      <td>0</td>\n",
       "      <td>0</td>\n",
       "      <td>5</td>\n",
       "    </tr>\n",
       "    <tr>\n",
       "      <th>61537</th>\n",
       "      <td>6/5/2009</td>\n",
       "      <td>gu7FbL</td>\n",
       "      <td>QQCm2oqSnnz24Z-yHeMtxQ</td>\n",
       "      <td>_KI0Y2UO68kJuTFUKucaXQ</td>\n",
       "      <td>0</td>\n",
       "      <td>0</td>\n",
       "      <td>1</td>\n",
       "      <td>1</td>\n",
       "      <td>4</td>\n",
       "    </tr>\n",
       "    <tr>\n",
       "      <th>61538</th>\n",
       "      <td>5/6/2012</td>\n",
       "      <td>hLwn6zw</td>\n",
       "      <td>OXRKydSyzC35n2fNUnbopg</td>\n",
       "      <td>XvP-kanjF6SpchosRk0N5g</td>\n",
       "      <td>0</td>\n",
       "      <td>0</td>\n",
       "      <td>0</td>\n",
       "      <td>0</td>\n",
       "      <td>5</td>\n",
       "    </tr>\n",
       "    <tr>\n",
       "      <th>61539</th>\n",
       "      <td>1/8/2011</td>\n",
       "      <td>KEkOzeO9YJ</td>\n",
       "      <td>NE8ULc362aFvnkTDgvZbcA</td>\n",
       "      <td>XvP-kanjF6SpchosRk0N5g</td>\n",
       "      <td>0</td>\n",
       "      <td>0</td>\n",
       "      <td>1</td>\n",
       "      <td>2</td>\n",
       "      <td>2</td>\n",
       "    </tr>\n",
       "    <tr>\n",
       "      <th>61540</th>\n",
       "      <td>1/25/2010</td>\n",
       "      <td>xYkvLLWMyyYO3JEX68H</td>\n",
       "      <td>VaPi2-eXcgIpRF_LGSJ_cA</td>\n",
       "      <td>XvP-kanjF6SpchosRk0N5g</td>\n",
       "      <td>0</td>\n",
       "      <td>0</td>\n",
       "      <td>0</td>\n",
       "      <td>0</td>\n",
       "      <td>5</td>\n",
       "    </tr>\n",
       "  </tbody>\n",
       "</table>\n",
       "<p>61541 rows × 9 columns</p>\n",
       "</div>"
      ],
      "text/plain": [
       "            date               review_id             reviewer_id  \\\n",
       "0      9/22/2012  GtwU21YOQn-wf4vWRUIx6w  bNYesZ944s6IJVowOnB0iA   \n",
       "1      9/22/2012                 0LpVTc3  TRKxLC3y-ZvP45e5iilMtw   \n",
       "2      9/19/2012           tljtLzf68Fkwf  0EMm8umAqXZzyhxNpL4M9g   \n",
       "3       9/6/2012                     iSN  DlwexC7z88ymAzu45skODw   \n",
       "4       9/9/2012                  Jmwrh7  kW2dk1CWihmh3g7k9N2G8A   \n",
       "...          ...                     ...                     ...   \n",
       "61536   4/7/2012           I6pazvTPUqRtU  fUXNHG4x1AN9oPpBSpCtUw   \n",
       "61537   6/5/2009                  gu7FbL  QQCm2oqSnnz24Z-yHeMtxQ   \n",
       "61538   5/6/2012                 hLwn6zw  OXRKydSyzC35n2fNUnbopg   \n",
       "61539   1/8/2011              KEkOzeO9YJ  NE8ULc362aFvnkTDgvZbcA   \n",
       "61540  1/25/2010     xYkvLLWMyyYO3JEX68H  VaPi2-eXcgIpRF_LGSJ_cA   \n",
       "\n",
       "                   product_id  label  useful_count  funny_count  cool_count  \\\n",
       "0      pbEiXam9YJL3neCYHGwLUA      0             0            0           0   \n",
       "1      pbEiXam9YJL3neCYHGwLUA      0             0            0           0   \n",
       "2      pbEiXam9YJL3neCYHGwLUA      0             0            0           2   \n",
       "3      pbEiXam9YJL3neCYHGwLUA      0             3            0           8   \n",
       "4      pbEiXam9YJL3neCYHGwLUA      0             0            2           1   \n",
       "...                       ...    ...           ...          ...         ...   \n",
       "61536  _KI0Y2UO68kJuTFUKucaXQ      0             1            0           0   \n",
       "61537  _KI0Y2UO68kJuTFUKucaXQ      0             0            1           1   \n",
       "61538  XvP-kanjF6SpchosRk0N5g      0             0            0           0   \n",
       "61539  XvP-kanjF6SpchosRk0N5g      0             0            1           2   \n",
       "61540  XvP-kanjF6SpchosRk0N5g      0             0            0           0   \n",
       "\n",
       "       star_rating  \n",
       "0                5  \n",
       "1                5  \n",
       "2                3  \n",
       "3                3  \n",
       "4                5  \n",
       "...            ...  \n",
       "61536            5  \n",
       "61537            4  \n",
       "61538            5  \n",
       "61539            2  \n",
       "61540            5  \n",
       "\n",
       "[61541 rows x 9 columns]"
      ]
     },
     "execution_count": 12,
     "metadata": {},
     "output_type": "execute_result"
    }
   ],
   "source": [
    "### MENGINPUT METADATA\n",
    "\n",
    "df_meta2 = pd.read_csv(\"../Data/YelpChi/output_meta_yelpResData_NRYRcleaned.txt\", sep=' ', header=None\n",
    "    , names=['date','review_id','reviewer_id','product_id','label','useful_count','funny_count','cool_count'\n",
    "    ,'star_rating'])\n",
    "print(df_meta2.shape)\n",
    "\n",
    "df_meta2['label'] = df_meta2['label'].replace({'N': 0, 'Y': 1})\n",
    "df_meta2\n",
    "# df_meta['label'] = df_meta['label'].replace({'N': 0, 'Y': 1})\n"
   ]
  },
  {
   "cell_type": "code",
   "execution_count": 13,
   "metadata": {},
   "outputs": [],
   "source": [
    "import tensorflow\n",
    "from tensorflow.keras.utils import to_categorical\n",
    "from keras.models import Model\n",
    "from tensorflow.keras.models import Sequential\n",
    "from tensorflow.keras.layers import Dense, Embedding, Activation, Dropout, LSTM, Flatten, Input, concatenate\n",
    "from tensorflow.keras.layers import Conv1D, MaxPooling1D, GlobalMaxPooling1D, BatchNormalization\n",
    "\n",
    "from sklearn.model_selection import train_test_split\n"
   ]
  },
  {
   "cell_type": "code",
   "execution_count": 15,
   "metadata": {},
   "outputs": [
    {
     "data": {
      "text/plain": [
       "0    53400\n",
       "1     8141\n",
       "Name: label, dtype: int64"
      ]
     },
     "execution_count": 15,
     "metadata": {},
     "output_type": "execute_result"
    },
    {
     "data": {
      "image/png": "[encoded data removed]",
      "text/plain": [
       "<Figure size 640x480 with 1 Axes>"
      ]
     },
     "metadata": {},
     "output_type": "display_data"
    }
   ],
   "source": [
    "#variable of genuine (o) or fake (1)\n",
    "sns.countplot(x='label', data=df_meta2)\n",
    "df_meta2['label'].value_counts()\n",
    "# df_label_merged.tail(10)"
   ]
  },
  {
   "cell_type": "code",
   "execution_count": 17,
   "metadata": {},
   "outputs": [
    {
     "name": "stdout",
     "output_type": "stream",
     "text": [
      "1    8141\n",
      "0    8141\n",
      "Name: label, dtype: int64\n"
     ]
    }
   ],
   "source": [
    "# RANDOM UNDERSAMPLING\n",
    "def sampling(text,label):\n",
    "    df_temp = text\n",
    "    df_temp['label'] = label #df_meta['label']\n",
    "    minority_class = len(df_temp[df_temp['label'] == 1])\n",
    "    minority_class_idx = df_temp[df_temp['label'] == 1].index\n",
    "    mayority_class_idx = df_temp[df_temp['label'] == 0].index\n",
    "    random_majority_idx = np.random.choice(mayority_class_idx,minority_class,replace=False)\n",
    "    under_sample_idx = np.concatenate([minority_class_idx,random_majority_idx])\n",
    "    under_sample = df_temp.loc[under_sample_idx]\n",
    "    print(under_sample['label'].value_counts())\n",
    "    return under_sample\n",
    "\n",
    "# original_sample = df_clean df_meta['label']\n",
    "#under_sampling_small = sampling(df_clean,df_meta['label'])\n",
    "under_sampling_res = sampling(df_clean_big,df_meta2['label'])"
   ]
  },
  {
   "cell_type": "code",
   "execution_count": 21,
   "metadata": {},
   "outputs": [
    {
     "data": {
      "text/plain": [
       "<AxesSubplot: xlabel='label', ylabel='count'>"
      ]
     },
     "execution_count": 21,
     "metadata": {},
     "output_type": "execute_result"
    },
    {
     "data": {
      "image/png": "[encoded data removed]",
      "text/plain": [
       "<Figure size 640x480 with 1 Axes>"
      ]
     },
     "metadata": {},
     "output_type": "display_data"
    }
   ],
   "source": [
    "sns.countplot(x='label', data=under_sampling_res)"
   ]
  },
  {
   "cell_type": "code",
   "execution_count": 14,
   "metadata": {},
   "outputs": [],
   "source": [
    "# # Sampling method experiment\n",
    "# from imblearn.over_sampling import RandomOverSampler, SMOTE\n",
    "# from imblearn.under_sampling import RandomUnderSampler, NearMiss\n",
    "# from sklearn.feature_extraction.text import CountVectorizer, TfidfVectorizer"
   ]
  },
  {
   "cell_type": "code",
   "execution_count": 15,
   "metadata": {},
   "outputs": [],
   "source": [
    "# ### PRE-PROCESS TAHAP 3-TOKENISASI\n",
    "\n",
    "# tfidf_vectorizer = TfidfVectorizer(tokenizer=parse_text)\n",
    "# # tf_len = len(tfidf_vectorizer.vocabulary_)\n",
    "# X_review_tfidf = tfidf_vectorizer.fit_transform(sample)\n",
    "# # X_review_tfidf.reshape(X_review_tfidf.shape[0], X_review_tfidf.shape[1],1)\n",
    "# # test_tweets_tfidf = tfidf_vectorizer.transform(test['tweet'])\n",
    "# print(X_review_tfidf.shape)"
   ]
  },
  {
   "cell_type": "code",
   "execution_count": 23,
   "metadata": {},
   "outputs": [],
   "source": [
    "### PRE-PROCESS TAHAP 3-TOKENISASI\n",
    "from tensorflow.keras.preprocessing.text import Tokenizer\n",
    "from tensorflow.keras. preprocessing.sequence import pad_sequences\n",
    "review_text_many = under_sampling_res['text'].to_list()\n",
    "review_text_ori = df_clean_big['text'].to_list()\n",
    "tokenizer_dict = {}\n",
    "tokenizer_dict['many'] = Tokenizer()\n",
    "tokenizer_dict['many'].fit_on_texts(review_text_many)\n",
    "tokenizer_dict['ori'] = Tokenizer()\n",
    "tokenizer_dict['ori'].fit_on_texts(review_text_ori)"
   ]
  },
  {
   "cell_type": "code",
   "execution_count": 24,
   "metadata": {},
   "outputs": [],
   "source": [
    "encode_text_many = tokenizer_dict['many'].texts_to_sequences(review_text_many)\n",
    "encode_text_ori = tokenizer_dict['ori'].texts_to_sequences(review_text_ori)"
   ]
  },
  {
   "cell_type": "code",
   "execution_count": 31,
   "metadata": {},
   "outputs": [
    {
     "name": "stdout",
     "output_type": "stream",
     "text": [
      "[59, 370, 15, 375, 15, 584, 5, 2873, 1341, 222, 368, 9635, 902, 142, 380, 1703, 138, 713, 7985, 2332, 15, 403, 455, 7986, 1025, 1261, 2332, 177, 916, 705, 1851, 1497, 4101, 829, 1599, 294, 145, 116, 153, 1313, 808, 1055, 689, 17038, 866, 434, 1382, 9636, 2043, 17039, 17040, 4641, 4211, 17041, 2970, 402, 4971, 25, 103, 423, 610, 4972, 17042, 10941, 5, 4972, 10942, 1574, 17043, 1342, 2393, 1342, 2921, 219, 705, 5, 817, 1342, 1343, 2709, 51, 50, 6, 462, 3526, 453, 22, 540, 152, 104, 4211, 185, 169, 558, 492, 105, 195, 41, 289, 1281, 2557, 219, 5, 423, 2557, 466, 331, 644, 825, 745, 165, 32, 92, 10943, 4358, 219, 5, 282, 1654, 1971, 13045, 2971, 1481, 299, 3457, 8716, 64, 412, 535, 2970, 208, 74, 99, 219, 5, 262, 872, 3769, 1600, 6497, 100, 578, 74, 457, 949, 469, 206, 1629, 493, 29, 3185, 821, 15, 8717, 412, 1013, 139, 435, 3186, 940, 100, 24, 92, 53, 3876, 2777, 17044, 4642, 4359, 4, 745, 77, 927, 593, 8718, 1093, 555, 92, 724, 29, 284, 458, 139, 13046, 17045, 363, 4102, 520, 1616, 1440, 363, 1733, 760, 242, 6896, 2672, 219, 745, 441, 5815, 5, 551, 412, 17046, 11, 817, 867, 4643, 2243, 72, 264, 92, 195, 809, 507, 17047, 1128, 4793, 585, 29, 10944, 158, 2301, 1415, 74, 95, 108, 144, 6498, 2026, 158, 166, 763, 1294, 9637, 1094, 140, 720, 5, 2874, 720, 17048, 7391, 6897, 5, 407, 36, 92, 53, 144, 2777, 144, 565, 17049, 664, 605, 5358, 7987, 867, 92, 6898, 581, 735, 2970, 2629, 581, 313, 92, 4505, 2972, 195, 585, 740, 6899, 4505, 2972, 4212, 195, 4102, 3681, 861, 2778, 4505, 2972, 1416, 2213, 1600, 3258, 310, 1253, 92, 174, 53, 1575, 174, 1294, 301, 2213, 10945, 1540, 319, 13047, 5, 1520, 174, 277, 377, 665, 15, 318, 14, 1971, 174, 2588, 331, 2244, 3, 174, 17050, 91, 53, 2672, 4103, 412, 2673, 4644, 5, 641, 97, 872, 3980, 1601, 3682, 330, 2672, 4103, 1830, 5359, 1716, 255, 36, 123, 296, 81, 247, 866, 42, 71, 1955, 359, 276, 129, 706, 6900, 291, 2922, 60, 53, 9, 4645, 22, 4646, 6901, 277, 48, 7988, 179, 606, 646, 36, 15, 1865, 6, 134, 160, 400, 361, 1469, 21, 332, 400, 12, 152, 813, 1818, 165, 407, 9, 268, 8, 5, 1498, 1576, 17051, 1, 169, 567, 3, 23, 2751, 15, 252, 2630, 120, 251, 2460, 408, 1772]\n"
     ]
    }
   ],
   "source": [
    "print(encode_text_many[1])"
   ]
  },
  {
   "cell_type": "code",
   "execution_count": 18,
   "metadata": {},
   "outputs": [],
   "source": [
    "# # Near-Miss Under Sampling\n",
    "# nmiss = RandomOverSampler(random_state=42)\n",
    "# under_text, under_label = nmiss.fit_resample(X_review_tfidf,df_meta['label'])"
   ]
  },
  {
   "cell_type": "code",
   "execution_count": 34,
   "metadata": {},
   "outputs": [
    {
     "name": "stdout",
     "output_type": "stream",
     "text": [
      "[[1. 0.]\n",
      " [1. 0.]\n",
      " [1. 0.]\n",
      " ...\n",
      " [1. 0.]\n",
      " [1. 0.]\n",
      " [1. 0.]]\n"
     ]
    }
   ],
   "source": [
    "genuine_fake_many = to_categorical(under_sampling_res['label'])\n",
    "genuine_fake_ori = to_categorical(df_meta2['label'])\n",
    "# genuine_fake2 = df_meta2['label']\n",
    "# genuine_fake = pd.concat([genuine_fake1,genuine_fake2],axis= 0)\n",
    "print(genuine_fake_ori)"
   ]
  },
  {
   "cell_type": "code",
   "execution_count": 38,
   "metadata": {},
   "outputs": [],
   "source": [
    "X_train2, X_test2, y_train2, y_test2 = train_test_split(encode_text_many,genuine_fake_many, random_state=0, test_size=0.10, stratify=genuine_fake_many)\n",
    "X_train2, X_val2, y_train2, y_val2 = train_test_split(X_train2,y_train2, random_state=0, test_size=0.10)"
   ]
  },
  {
   "cell_type": "code",
   "execution_count": 39,
   "metadata": {},
   "outputs": [],
   "source": [
    "vocab_many = len(tokenizer_dict['many'].index_word)+1\n",
    "# vocab_ori = len(tokenizer_dict['ori'].index_word)+1\n",
    "max_kata = 131\n",
    "X_train2 = pad_sequences(X_train2, maxlen=max_kata, padding='post' )\n",
    "X_test2 = pad_sequences(X_test2, maxlen=max_kata, padding='post' )\n",
    "X_val2 = pad_sequences(X_val2, maxlen=max_kata, padding='post' )\n",
    "# X_train3 = pad_sequences(X_train3, maxlen=max_kata, padding='post' )\n",
    "# X_test3 = pad_sequences(X_test3, maxlen=max_kata, padding='post' )"
   ]
  },
  {
   "cell_type": "code",
   "execution_count": 41,
   "metadata": {},
   "outputs": [
    {
     "name": "stdout",
     "output_type": "stream",
     "text": [
      "30350\n"
     ]
    }
   ],
   "source": [
    "print(vocab_many)"
   ]
  },
  {
   "cell_type": "code",
   "execution_count": 42,
   "metadata": {},
   "outputs": [
    {
     "name": "stdout",
     "output_type": "stream",
     "text": [
      "(13187, 131) (1629, 131) (13187, 2) (1629, 2)\n"
     ]
    }
   ],
   "source": [
    "print(X_train2.shape,X_test2.shape,y_train2.shape,y_test2.shape)"
   ]
  },
  {
   "cell_type": "code",
   "execution_count": 43,
   "metadata": {},
   "outputs": [],
   "source": [
    "from gensim.models import KeyedVectors"
   ]
  },
  {
   "cell_type": "code",
   "execution_count": 45,
   "metadata": {},
   "outputs": [],
   "source": [
    "word2vec = KeyedVectors.load_word2vec_format(\"../Data/GoogleNews-vectors-negative300.bin\", binary=True)"
   ]
  },
  {
   "cell_type": "code",
   "execution_count": 26,
   "metadata": {},
   "outputs": [],
   "source": [
    "# # Testing Some Simliarities \n",
    "# w2 = 'love'\n",
    "# word2vec.most_similar_cosmul(positive=w2)"
   ]
  },
  {
   "cell_type": "code",
   "execution_count": 46,
   "metadata": {},
   "outputs": [
    {
     "name": "stdout",
     "output_type": "stream",
     "text": [
      "Null word embeddings: 6243\n"
     ]
    }
   ],
   "source": [
    "# Word Embedding\n",
    "def make_embedding(unique_word,text):\n",
    "    embedding_dim = 300\n",
    "    matrix = np.zeros((unique_word+1, embedding_dim)) \n",
    "    for word, i in text:\n",
    "        if word in word2vec.index_to_key:\n",
    "            matrix[i] = word2vec[word]\n",
    "    \n",
    "    print('Null word embeddings: %d' % np.sum(np.sum(matrix, axis=1) == 0))\n",
    "    return matrix\n",
    "\n",
    "#embedding_matrix_few = make_embedding(vocab_few,tokenizer_dict['few'].word_index.items())\n",
    "embedding_matrix_many = make_embedding(vocab_many,tokenizer_dict['many'].word_index.items())\n",
    "# embedding_matrix_ori = make_embedding(vocab_ori,tokenizer_dict['ori'].word_index.items())"
   ]
  },
  {
   "cell_type": "code",
   "execution_count": 30,
   "metadata": {},
   "outputs": [],
   "source": [
    "# #cleansing lexicon\n",
    "# def clean_key(key):\n",
    "#     cleaned_key = key.strip().lower()  # remove whitespace and convert to lowercase\n",
    "#     cleaned_key = re.sub('[^a-z0-9]+', '', cleaned_key)  # remove non-alphanumeric characters\n",
    "#     return cleaned_key\n",
    "\n",
    "# for key in list(senticnet.keys()):\n",
    "#     cleaned_key = clean_key(key)\n",
    "#     if cleaned_key != key:\n",
    "#         senticnet[cleaned_key] = senticnet.pop(key)"
   ]
  },
  {
   "cell_type": "code",
   "execution_count": 47,
   "metadata": {},
   "outputs": [],
   "source": [
    "from senticnet4 import senticnet4\n",
    "\n",
    "senticnet = senticnet4.senticnet\n",
    "#mengambil hanya nilai polaritinya saja\n",
    "for key in senticnet:\n",
    "    senticnet[key] = senticnet[key][:4]"
   ]
  },
  {
   "cell_type": "code",
   "execution_count": 33,
   "metadata": {},
   "outputs": [],
   "source": [
    "# lexicon_matrix = np.zeros((vocab+1, 4))\n",
    "\n",
    "# for word, i in token.word_index.items():      \n",
    "#     if word in senticnet:\n",
    "#         lexicon_matrix[i] = senticnet.get(word)\n",
    "        \n",
    "# print('Null word embeddings: %d' % np.sum(np.sum(lexicon_matrix, axis=1) == 0))"
   ]
  },
  {
   "cell_type": "code",
   "execution_count": 48,
   "metadata": {},
   "outputs": [
    {
     "name": "stdout",
     "output_type": "stream",
     "text": [
      "Null word embeddings: 21706\n"
     ]
    }
   ],
   "source": [
    "def make_lex_embedding(unique_word,text):\n",
    "    embedding_dim = 4\n",
    "    matrix = np.zeros((unique_word+1, embedding_dim)) \n",
    "    for word, i in text:\n",
    "        if word in senticnet:\n",
    "            matrix[i] = senticnet.get(word)\n",
    "    \n",
    "    print('Null word embeddings: %d' % np.sum(np.sum(matrix, axis=1) == 0))\n",
    "    return matrix\n",
    "\n",
    "\n",
    "# lexicon_matrix_few = make_lex_embedding(vocab_few,tokenizer_dict['few'].word_index.items())\n",
    "lexicon_matrix_many = make_lex_embedding(vocab_many,tokenizer_dict['many'].word_index.items())\n",
    "# lexicon_matrix_ori = make_lex_embedding(vocab_ori,tokenizer_dict['ori'].word_index.items())"
   ]
  },
  {
   "cell_type": "code",
   "execution_count": 50,
   "metadata": {},
   "outputs": [
    {
     "data": {
      "text/html": [
       "<div>\n",
       "<style scoped>\n",
       "    .dataframe tbody tr th:only-of-type {\n",
       "        vertical-align: middle;\n",
       "    }\n",
       "\n",
       "    .dataframe tbody tr th {\n",
       "        vertical-align: top;\n",
       "    }\n",
       "\n",
       "    .dataframe thead th {\n",
       "        text-align: right;\n",
       "    }\n",
       "</style>\n",
       "<table border=\"1\" class=\"dataframe\">\n",
       "  <thead>\n",
       "    <tr style=\"text-align: right;\">\n",
       "      <th></th>\n",
       "      <th>0</th>\n",
       "      <th>1</th>\n",
       "      <th>2</th>\n",
       "      <th>3</th>\n",
       "    </tr>\n",
       "  </thead>\n",
       "  <tbody>\n",
       "    <tr>\n",
       "      <th>0</th>\n",
       "      <td>0.000</td>\n",
       "      <td>0.000</td>\n",
       "      <td>0.000</td>\n",
       "      <td>0.000</td>\n",
       "    </tr>\n",
       "    <tr>\n",
       "      <th>1</th>\n",
       "      <td>0.040</td>\n",
       "      <td>0.000</td>\n",
       "      <td>0.000</td>\n",
       "      <td>0.067</td>\n",
       "    </tr>\n",
       "    <tr>\n",
       "      <th>2</th>\n",
       "      <td>0.035</td>\n",
       "      <td>0.000</td>\n",
       "      <td>0.000</td>\n",
       "      <td>0.092</td>\n",
       "    </tr>\n",
       "    <tr>\n",
       "      <th>3</th>\n",
       "      <td>0.526</td>\n",
       "      <td>-0.560</td>\n",
       "      <td>0.000</td>\n",
       "      <td>0.903</td>\n",
       "    </tr>\n",
       "    <tr>\n",
       "      <th>4</th>\n",
       "      <td>0.905</td>\n",
       "      <td>0.773</td>\n",
       "      <td>0.000</td>\n",
       "      <td>0.892</td>\n",
       "    </tr>\n",
       "    <tr>\n",
       "      <th>5</th>\n",
       "      <td>0.000</td>\n",
       "      <td>0.000</td>\n",
       "      <td>0.000</td>\n",
       "      <td>0.000</td>\n",
       "    </tr>\n",
       "    <tr>\n",
       "      <th>6</th>\n",
       "      <td>-0.610</td>\n",
       "      <td>0.000</td>\n",
       "      <td>0.856</td>\n",
       "      <td>-0.820</td>\n",
       "    </tr>\n",
       "    <tr>\n",
       "      <th>7</th>\n",
       "      <td>-0.780</td>\n",
       "      <td>0.000</td>\n",
       "      <td>0.000</td>\n",
       "      <td>-0.880</td>\n",
       "    </tr>\n",
       "    <tr>\n",
       "      <th>8</th>\n",
       "      <td>0.805</td>\n",
       "      <td>-0.920</td>\n",
       "      <td>0.000</td>\n",
       "      <td>0.794</td>\n",
       "    </tr>\n",
       "    <tr>\n",
       "      <th>9</th>\n",
       "      <td>0.920</td>\n",
       "      <td>-0.880</td>\n",
       "      <td>0.000</td>\n",
       "      <td>0.695</td>\n",
       "    </tr>\n",
       "    <tr>\n",
       "      <th>10</th>\n",
       "      <td>0.860</td>\n",
       "      <td>-0.790</td>\n",
       "      <td>0.000</td>\n",
       "      <td>0.930</td>\n",
       "    </tr>\n",
       "    <tr>\n",
       "      <th>11</th>\n",
       "      <td>0.000</td>\n",
       "      <td>0.995</td>\n",
       "      <td>0.000</td>\n",
       "      <td>0.742</td>\n",
       "    </tr>\n",
       "    <tr>\n",
       "      <th>12</th>\n",
       "      <td>0.000</td>\n",
       "      <td>0.000</td>\n",
       "      <td>0.000</td>\n",
       "      <td>0.000</td>\n",
       "    </tr>\n",
       "    <tr>\n",
       "      <th>13</th>\n",
       "      <td>0.854</td>\n",
       "      <td>-0.700</td>\n",
       "      <td>0.000</td>\n",
       "      <td>0.912</td>\n",
       "    </tr>\n",
       "    <tr>\n",
       "      <th>14</th>\n",
       "      <td>0.884</td>\n",
       "      <td>0.739</td>\n",
       "      <td>0.000</td>\n",
       "      <td>0.000</td>\n",
       "    </tr>\n",
       "    <tr>\n",
       "      <th>15</th>\n",
       "      <td>0.060</td>\n",
       "      <td>-0.010</td>\n",
       "      <td>0.000</td>\n",
       "      <td>0.000</td>\n",
       "    </tr>\n",
       "    <tr>\n",
       "      <th>16</th>\n",
       "      <td>0.135</td>\n",
       "      <td>0.225</td>\n",
       "      <td>-0.120</td>\n",
       "      <td>0.432</td>\n",
       "    </tr>\n",
       "    <tr>\n",
       "      <th>17</th>\n",
       "      <td>0.703</td>\n",
       "      <td>-0.600</td>\n",
       "      <td>0.000</td>\n",
       "      <td>0.654</td>\n",
       "    </tr>\n",
       "    <tr>\n",
       "      <th>18</th>\n",
       "      <td>0.000</td>\n",
       "      <td>0.000</td>\n",
       "      <td>0.000</td>\n",
       "      <td>0.000</td>\n",
       "    </tr>\n",
       "    <tr>\n",
       "      <th>19</th>\n",
       "      <td>0.000</td>\n",
       "      <td>0.000</td>\n",
       "      <td>0.000</td>\n",
       "      <td>0.000</td>\n",
       "    </tr>\n",
       "    <tr>\n",
       "      <th>20</th>\n",
       "      <td>-0.020</td>\n",
       "      <td>0.000</td>\n",
       "      <td>0.000</td>\n",
       "      <td>-0.080</td>\n",
       "    </tr>\n",
       "    <tr>\n",
       "      <th>21</th>\n",
       "      <td>0.000</td>\n",
       "      <td>0.000</td>\n",
       "      <td>0.000</td>\n",
       "      <td>0.000</td>\n",
       "    </tr>\n",
       "    <tr>\n",
       "      <th>22</th>\n",
       "      <td>0.146</td>\n",
       "      <td>0.095</td>\n",
       "      <td>-0.040</td>\n",
       "      <td>0.000</td>\n",
       "    </tr>\n",
       "    <tr>\n",
       "      <th>23</th>\n",
       "      <td>0.728</td>\n",
       "      <td>0.713</td>\n",
       "      <td>0.000</td>\n",
       "      <td>0.715</td>\n",
       "    </tr>\n",
       "    <tr>\n",
       "      <th>24</th>\n",
       "      <td>0.075</td>\n",
       "      <td>0.076</td>\n",
       "      <td>0.000</td>\n",
       "      <td>0.166</td>\n",
       "    </tr>\n",
       "    <tr>\n",
       "      <th>25</th>\n",
       "      <td>0.036</td>\n",
       "      <td>-0.050</td>\n",
       "      <td>0.000</td>\n",
       "      <td>0.000</td>\n",
       "    </tr>\n",
       "    <tr>\n",
       "      <th>26</th>\n",
       "      <td>0.000</td>\n",
       "      <td>0.000</td>\n",
       "      <td>0.000</td>\n",
       "      <td>0.000</td>\n",
       "    </tr>\n",
       "    <tr>\n",
       "      <th>27</th>\n",
       "      <td>-0.100</td>\n",
       "      <td>0.171</td>\n",
       "      <td>-0.100</td>\n",
       "      <td>0.170</td>\n",
       "    </tr>\n",
       "    <tr>\n",
       "      <th>28</th>\n",
       "      <td>0.000</td>\n",
       "      <td>0.000</td>\n",
       "      <td>0.000</td>\n",
       "      <td>0.000</td>\n",
       "    </tr>\n",
       "    <tr>\n",
       "      <th>29</th>\n",
       "      <td>-0.990</td>\n",
       "      <td>0.000</td>\n",
       "      <td>0.000</td>\n",
       "      <td>-0.700</td>\n",
       "    </tr>\n",
       "  </tbody>\n",
       "</table>\n",
       "</div>"
      ],
      "text/plain": [
       "        0      1      2      3\n",
       "0   0.000  0.000  0.000  0.000\n",
       "1   0.040  0.000  0.000  0.067\n",
       "2   0.035  0.000  0.000  0.092\n",
       "3   0.526 -0.560  0.000  0.903\n",
       "4   0.905  0.773  0.000  0.892\n",
       "5   0.000  0.000  0.000  0.000\n",
       "6  -0.610  0.000  0.856 -0.820\n",
       "7  -0.780  0.000  0.000 -0.880\n",
       "8   0.805 -0.920  0.000  0.794\n",
       "9   0.920 -0.880  0.000  0.695\n",
       "10  0.860 -0.790  0.000  0.930\n",
       "11  0.000  0.995  0.000  0.742\n",
       "12  0.000  0.000  0.000  0.000\n",
       "13  0.854 -0.700  0.000  0.912\n",
       "14  0.884  0.739  0.000  0.000\n",
       "15  0.060 -0.010  0.000  0.000\n",
       "16  0.135  0.225 -0.120  0.432\n",
       "17  0.703 -0.600  0.000  0.654\n",
       "18  0.000  0.000  0.000  0.000\n",
       "19  0.000  0.000  0.000  0.000\n",
       "20 -0.020  0.000  0.000 -0.080\n",
       "21  0.000  0.000  0.000  0.000\n",
       "22  0.146  0.095 -0.040  0.000\n",
       "23  0.728  0.713  0.000  0.715\n",
       "24  0.075  0.076  0.000  0.166\n",
       "25  0.036 -0.050  0.000  0.000\n",
       "26  0.000  0.000  0.000  0.000\n",
       "27 -0.100  0.171 -0.100  0.170\n",
       "28  0.000  0.000  0.000  0.000\n",
       "29 -0.990  0.000  0.000 -0.700"
      ]
     },
     "execution_count": 50,
     "metadata": {},
     "output_type": "execute_result"
    }
   ],
   "source": [
    "dfae = pd.DataFrame(lexicon_matrix_many)\n",
    "dfae.head(30)"
   ]
  },
  {
   "cell_type": "code",
   "execution_count": 51,
   "metadata": {},
   "outputs": [
    {
     "name": "stdout",
     "output_type": "stream",
     "text": [
      "(30351, 300)\n",
      "(30351, 4)\n"
     ]
    }
   ],
   "source": [
    "print(embedding_matrix_many.shape)\n",
    "print(lexicon_matrix_many.shape)"
   ]
  },
  {
   "cell_type": "code",
   "execution_count": 52,
   "metadata": {},
   "outputs": [],
   "source": [
    "#naive concatenation, mengkonkat kedua feature tanpa prerlakuan khusus\n",
    "def naive_concatenation(word2vec_features, lexicon_features):\n",
    "    return np.concatenate((word2vec_features, lexicon_features), axis=1)\n",
    "\n",
    "# concatenated_few = naive_concatenation(embedding_matrix_few,lexicon_matrix_few)\n",
    "concatenated_many = naive_concatenation(embedding_matrix_many,lexicon_matrix_many)\n",
    "# concatenated_ori = naive_concatenation(embedding_matrix_ori,lexicon_matrix_ori)"
   ]
  },
  {
   "cell_type": "code",
   "execution_count": 53,
   "metadata": {},
   "outputs": [],
   "source": [
    "#multichannel dimana feature dengan dimensi terkecil(lexicon) akan mempadding dirinya agar bisa seimbang dalam pemisahan di channel model\n",
    "def concatenate_features(x, x_lex):\n",
    "    w2vdim = x.shape[1]\n",
    "    lexdim = x_lex.shape[1]\n",
    "    npad = ((0, 0), (0, w2vdim - lexdim))\n",
    "\n",
    "    x_lex_padded = np.pad(x_lex, pad_width=npad, mode='constant', constant_values=0)\n",
    "    x_fat = np.concatenate((x[..., np.newaxis], x_lex_padded[..., np.newaxis]), axis=2)\n",
    "\n",
    "    return x_lex_padded\n",
    "\n",
    "# multichannel_few = concatenate_features(embedding_matrix_few,lexicon_matrix_few)\n",
    "multichannel_many = concatenate_features(embedding_matrix_many,lexicon_matrix_many)\n",
    "# multichannel_ori = concatenate_features(embedding_matrix_ori,lexicon_matrix_ori)"
   ]
  },
  {
   "attachments": {},
   "cell_type": "markdown",
   "metadata": {},
   "source": [
    "#seleksi fitur word embedding glove\n",
    "embedding_dictionary = dict()\n",
    "#glove_file = open('C:\\Users\\Sayang\\Documents\\code skripsi\\dataTemp\\Glove.6B.100d.txt', encoding='utf8')\n",
    "glove_file = open('C:\\glove.6B.100d.txt', encoding='utf8')\n",
    "\n",
    "for line in glove_file:\n",
    "    records = line.split()\n",
    "    word = records[0]\n",
    "    vector_dimensions = np.asarray(records[1:], dtype='float32')\n",
    "    embedding_dictionary [word] = vector_dimensions\n",
    "glove_file.close()"
   ]
  },
  {
   "attachments": {},
   "cell_type": "markdown",
   "metadata": {},
   "source": [
    "from numpy import zeros\n",
    "\n",
    "embedding_matrix = zeros((vocab, 100))\n",
    "for word, index in token.word_index.items(): #index_word\n",
    "    embedding_vector = embedding_dictionary.get(word)\n",
    "    if embedding_vector is not None:\n",
    "        embedding_matrix[index] = embedding_vector"
   ]
  },
  {
   "cell_type": "code",
   "execution_count": 56,
   "metadata": {},
   "outputs": [],
   "source": [
    "from sklearn.metrics import accuracy_score, precision_score, recall_score, f1_score, roc_auc_score\n",
    "def generate_model_report(y_actual,y_prediction):\n",
    "    akurasi = accuracy_score(y_actual,y_prediction)\n",
    "    recall = recall_score(y_actual,y_prediction)\n",
    "    presisi = precision_score(y_actual,y_prediction)\n",
    "    f1 = f1_score(y_actual,y_prediction)\n",
    "    auc = roc_auc_score(y_actual, y_prediction)\n",
    "    # print(\"Akurasi : \", akurasi)\n",
    "    # print(\"Recall : \", recall)\n",
    "    # print(\"Presisi : \", presisi)\n",
    "    # print(\"F1-Score : \",f1)\n",
    "    return akurasi, recall, presisi, f1, auc"
   ]
  },
  {
   "cell_type": "code",
   "execution_count": 61,
   "metadata": {},
   "outputs": [
    {
     "name": "stdout",
     "output_type": "stream",
     "text": [
      "Model: \"model_1\"\n",
      "_________________________________________________________________\n",
      " Layer (type)                Output Shape              Param #   \n",
      "=================================================================\n",
      " input_2 (InputLayer)        [(None, 131)]             0         \n",
      "                                                                 \n",
      " embedding_1 (Embedding)     (None, 131, 300)          9105000   \n",
      "                                                                 \n",
      " conv1d_2 (Conv1D)           (None, 129, 64)           57664     \n",
      "                                                                 \n",
      " max_pooling1d_2 (MaxPooling  (None, 64, 64)           0         \n",
      " 1D)                                                             \n",
      "                                                                 \n",
      " conv1d_3 (Conv1D)           (None, 62, 128)           24704     \n",
      "                                                                 \n",
      " max_pooling1d_3 (MaxPooling  (None, 31, 128)          0         \n",
      " 1D)                                                             \n",
      "                                                                 \n",
      " dropout_1 (Dropout)         (None, 31, 128)           0         \n",
      "                                                                 \n",
      " global_max_pooling1d_1 (Glo  (None, 128)              0         \n",
      " balMaxPooling1D)                                                \n",
      "                                                                 \n",
      " dense_1 (Dense)             (None, 2)                 258       \n",
      "                                                                 \n",
      "=================================================================\n",
      "Total params: 9,187,626\n",
      "Trainable params: 82,626\n",
      "Non-trainable params: 9,105,000\n",
      "_________________________________________________________________\n"
     ]
    }
   ],
   "source": [
    "def cnn_base(embedding_layer,output_dim,input_dim):\n",
    "    input_word = Input(shape=(max_kata,))\n",
    "    embed_word = Embedding(input_dim= input_dim, output_dim=output_dim, weights=embedding_layer, input_length=max_kata, trainable = False)(input_word)\n",
    "    # define the convolution layer\n",
    "    # concatenated = concatenate([embed_word, embed_lex], axis=-1)\n",
    "    x = Conv1D(64, kernel_size=3, activation='relu')(embed_word)\n",
    "    x = MaxPooling1D(pool_size=2)(x)\n",
    "    x = Conv1D(128, kernel_size=3, activation='relu')(x)\n",
    "    x = MaxPooling1D(pool_size=2)(x)\n",
    "    x = Dropout(0.5)(x)\n",
    "    # flatten the output\n",
    "    x = GlobalMaxPooling1D()(x)\n",
    "    # define the output layer\n",
    "    output_tensor = Dense(2, activation='sigmoid')(x)\n",
    "    model = Model(input_word, outputs=output_tensor)\n",
    "    model.compile(optimizer='adam',  loss=\"binary_crossentropy\", metrics=['accuracy'])\n",
    "    return model\n",
    "\n",
    "model_base = cnn_base(None,300,vocab_many)\n",
    "model_base.summary()"
   ]
  },
  {
   "cell_type": "code",
   "execution_count": 59,
   "metadata": {},
   "outputs": [],
   "source": [
    "X_val2 = pad_sequences(X_val2, maxlen=max_kata, padding='post' )"
   ]
  },
  {
   "cell_type": "code",
   "execution_count": 62,
   "metadata": {},
   "outputs": [
    {
     "name": "stdout",
     "output_type": "stream",
     "text": [
      "Epoch 1/10\n",
      "825/825 [==============================] - 46s 54ms/step - loss: 0.6641 - accuracy: 0.6019 - val_loss: 0.6621 - val_accuracy: 0.6085\n",
      "Epoch 2/10\n",
      "825/825 [==============================] - 44s 54ms/step - loss: 0.6279 - accuracy: 0.6566 - val_loss: 0.6546 - val_accuracy: 0.6146\n",
      "Epoch 3/10\n",
      "825/825 [==============================] - 42s 51ms/step - loss: 0.5920 - accuracy: 0.6900 - val_loss: 0.6397 - val_accuracy: 0.6378\n",
      "Epoch 4/10\n",
      "825/825 [==============================] - 66s 80ms/step - loss: 0.5361 - accuracy: 0.7427 - val_loss: 0.6816 - val_accuracy: 0.5982\n",
      "Epoch 5/10\n",
      "825/825 [==============================] - 56s 67ms/step - loss: 0.4484 - accuracy: 0.8000 - val_loss: 0.6593 - val_accuracy: 0.6323\n",
      "Epoch 6/10\n",
      "825/825 [==============================] - 52s 62ms/step - loss: 0.3232 - accuracy: 0.8681 - val_loss: 0.7421 - val_accuracy: 0.6160\n",
      "Epoch 7/10\n",
      "825/825 [==============================] - 48s 58ms/step - loss: 0.2064 - accuracy: 0.9255 - val_loss: 0.8295 - val_accuracy: 0.6146\n",
      "Epoch 8/10\n",
      "825/825 [==============================] - 49s 59ms/step - loss: 0.1251 - accuracy: 0.9602 - val_loss: 0.9114 - val_accuracy: 0.6194\n",
      "Epoch 9/10\n",
      "825/825 [==============================] - 46s 56ms/step - loss: 0.0799 - accuracy: 0.9751 - val_loss: 1.0993 - val_accuracy: 0.6064\n",
      "Epoch 10/10\n",
      "825/825 [==============================] - 49s 59ms/step - loss: 0.0685 - accuracy: 0.9780 - val_loss: 1.2003 - val_accuracy: 0.6105\n"
     ]
    }
   ],
   "source": [
    "# model_base.compile(optimizer='adam',  loss=\"binary_crossentropy\", metrics=['accuracy'])\n",
    "history_base = model_base.fit(X_train2, y_train2, epochs=10,batch_size=16, validation_data=(X_val2,y_val2))"
   ]
  },
  {
   "cell_type": "code",
   "execution_count": 68,
   "metadata": {},
   "outputs": [
    {
     "name": "stdout",
     "output_type": "stream",
     "text": [
      "51/51 [==============================] - 1s 28ms/step - loss: 1.2514 - accuracy: 0.6041\n",
      "51/51 [==============================] - 2s 29ms/step\n"
     ]
    }
   ],
   "source": [
    "from sklearn.metrics import confusion_matrix,classification_report\n",
    "import seaborn as sns\n",
    "\n",
    "eval_base = model_base.evaluate(X_test2, y_test2)\n",
    "y_pred=model_base.predict(X_test2)\n",
    "y_pred=np.argmax(y_pred,axis=1)\n",
    "y_testnp=np.argmax(y_test2,axis=1)\n",
    "cm1 =confusion_matrix(y_testnp,y_pred)\n",
    "acc_base, recall_base, preisi_base, f1_base, auc_base = generate_model_report(y_testnp,y_pred)"
   ]
  },
  {
   "cell_type": "code",
   "execution_count": 64,
   "metadata": {},
   "outputs": [
    {
     "name": "stdout",
     "output_type": "stream",
     "text": [
      "Model: \"model_2\"\n",
      "_________________________________________________________________\n",
      " Layer (type)                Output Shape              Param #   \n",
      "=================================================================\n",
      " input_3 (InputLayer)        [(None, 131)]             0         \n",
      "                                                                 \n",
      " embedding_2 (Embedding)     (None, 131, 304)          9226704   \n",
      "                                                                 \n",
      " conv1d_4 (Conv1D)           (None, 129, 64)           58432     \n",
      "                                                                 \n",
      " max_pooling1d_4 (MaxPooling  (None, 64, 64)           0         \n",
      " 1D)                                                             \n",
      "                                                                 \n",
      " conv1d_5 (Conv1D)           (None, 62, 128)           24704     \n",
      "                                                                 \n",
      " max_pooling1d_5 (MaxPooling  (None, 31, 128)          0         \n",
      " 1D)                                                             \n",
      "                                                                 \n",
      " dropout_2 (Dropout)         (None, 31, 128)           0         \n",
      "                                                                 \n",
      " global_max_pooling1d_2 (Glo  (None, 128)              0         \n",
      " balMaxPooling1D)                                                \n",
      "                                                                 \n",
      " dense_2 (Dense)             (None, 2)                 258       \n",
      "                                                                 \n",
      "=================================================================\n",
      "Total params: 9,310,098\n",
      "Trainable params: 83,394\n",
      "Non-trainable params: 9,226,704\n",
      "_________________________________________________________________\n"
     ]
    }
   ],
   "source": [
    "model_naive_c = cnn_base([concatenated_many],concatenated_many.shape[1],vocab_many+1)\n",
    "model_naive_c.summary()"
   ]
  },
  {
   "attachments": {},
   "cell_type": "markdown",
   "metadata": {},
   "source": []
  },
  {
   "cell_type": "code",
   "execution_count": 65,
   "metadata": {},
   "outputs": [
    {
     "name": "stdout",
     "output_type": "stream",
     "text": [
      "Epoch 1/10\n",
      "207/207 [==============================] - 28s 127ms/step - loss: 0.6559 - accuracy: 0.6195 - val_loss: 0.6584 - val_accuracy: 0.6085\n",
      "Epoch 2/10\n",
      "207/207 [==============================] - 30s 146ms/step - loss: 0.6256 - accuracy: 0.6597 - val_loss: 0.6402 - val_accuracy: 0.6514\n",
      "Epoch 3/10\n",
      "207/207 [==============================] - 32s 153ms/step - loss: 0.6073 - accuracy: 0.6734 - val_loss: 0.6366 - val_accuracy: 0.6583\n",
      "Epoch 4/10\n",
      "207/207 [==============================] - 32s 157ms/step - loss: 0.5846 - accuracy: 0.6976 - val_loss: 0.6351 - val_accuracy: 0.6473\n",
      "Epoch 5/10\n",
      "207/207 [==============================] - 34s 163ms/step - loss: 0.5556 - accuracy: 0.7193 - val_loss: 0.6327 - val_accuracy: 0.6453\n",
      "Epoch 6/10\n",
      "207/207 [==============================] - 34s 165ms/step - loss: 0.5295 - accuracy: 0.7361 - val_loss: 0.6407 - val_accuracy: 0.6385\n",
      "Epoch 7/10\n",
      "207/207 [==============================] - 35s 171ms/step - loss: 0.4871 - accuracy: 0.7695 - val_loss: 0.6320 - val_accuracy: 0.6460\n",
      "Epoch 8/10\n",
      "207/207 [==============================] - 34s 165ms/step - loss: 0.4368 - accuracy: 0.8074 - val_loss: 0.7153 - val_accuracy: 0.6057\n",
      "Epoch 9/10\n",
      "207/207 [==============================] - 36s 172ms/step - loss: 0.3828 - accuracy: 0.8357 - val_loss: 0.6761 - val_accuracy: 0.6337\n",
      "Epoch 10/10\n",
      "207/207 [==============================] - 33s 161ms/step - loss: 0.3325 - accuracy: 0.8665 - val_loss: 0.8294 - val_accuracy: 0.5859\n"
     ]
    }
   ],
   "source": [
    "history_naive = model_naive_c.fit(X_train2, y_train2, epochs=10,batch_size=64, validation_data=(X_val2,y_val2))"
   ]
  },
  {
   "cell_type": "code",
   "execution_count": 69,
   "metadata": {},
   "outputs": [
    {
     "name": "stdout",
     "output_type": "stream",
     "text": [
      "51/51 [==============================] - 1s 25ms/step - loss: 0.8170 - accuracy: 0.5930\n",
      "51/51 [==============================] - 2s 31ms/step\n"
     ]
    }
   ],
   "source": [
    "eval_naive = model_naive_c.evaluate(X_test2, y_test2)\n",
    "y_pred=model_naive_c.predict(X_test2)\n",
    "y_pred=np.argmax(y_pred,axis=1)\n",
    "y_testnp=np.argmax(y_test2,axis=1)\n",
    "cm2 =confusion_matrix(y_testnp,y_pred)\n",
    "acc_naive, recall_naive, preisi_naive, f1_naive , auc_naive = generate_model_report(y_testnp,y_pred)"
   ]
  },
  {
   "cell_type": "code",
   "execution_count": 70,
   "metadata": {},
   "outputs": [
    {
     "name": "stdout",
     "output_type": "stream",
     "text": [
      "0.5930018416206262 0.2907975460122699 0.7360248447204969 0.4168865435356201 0.5931874707948328\n"
     ]
    }
   ],
   "source": [
    "print(acc_naive, recall_naive, preisi_naive, f1_naive , auc_naive)"
   ]
  },
  {
   "cell_type": "code",
   "execution_count": 71,
   "metadata": {},
   "outputs": [
    {
     "name": "stdout",
     "output_type": "stream",
     "text": [
      "Model: \"model_3\"\n",
      "__________________________________________________________________________________________________\n",
      " Layer (type)                   Output Shape         Param #     Connected to                     \n",
      "==================================================================================================\n",
      " input_4 (InputLayer)           [(None, 131)]        0           []                               \n",
      "                                                                                                  \n",
      " embedding_3 (Embedding)        (None, 131, 300)     9105300     ['input_4[0][0]']                \n",
      "                                                                                                  \n",
      " embedding_4 (Embedding)        (None, 131, 300)     9105300     ['input_4[0][0]']                \n",
      "                                                                                                  \n",
      " concatenate (Concatenate)      (None, 131, 600)     0           ['embedding_3[0][0]',            \n",
      "                                                                  'embedding_4[0][0]']            \n",
      "                                                                                                  \n",
      " conv1d_6 (Conv1D)              (None, 129, 64)      115264      ['concatenate[0][0]']            \n",
      "                                                                                                  \n",
      " max_pooling1d_6 (MaxPooling1D)  (None, 64, 64)      0           ['conv1d_6[0][0]']               \n",
      "                                                                                                  \n",
      " conv1d_7 (Conv1D)              (None, 62, 128)      24704       ['max_pooling1d_6[0][0]']        \n",
      "                                                                                                  \n",
      " max_pooling1d_7 (MaxPooling1D)  (None, 31, 128)     0           ['conv1d_7[0][0]']               \n",
      "                                                                                                  \n",
      " dropout_3 (Dropout)            (None, 31, 128)      0           ['max_pooling1d_7[0][0]']        \n",
      "                                                                                                  \n",
      " global_max_pooling1d_3 (Global  (None, 128)         0           ['dropout_3[0][0]']              \n",
      " MaxPooling1D)                                                                                    \n",
      "                                                                                                  \n",
      " dense_3 (Dense)                (None, 2)            258         ['global_max_pooling1d_3[0][0]'] \n",
      "                                                                                                  \n",
      "==================================================================================================\n",
      "Total params: 18,350,826\n",
      "Trainable params: 140,226\n",
      "Non-trainable params: 18,210,600\n",
      "__________________________________________________________________________________________________\n"
     ]
    }
   ],
   "source": [
    "def cnn_multichannel(embedding_layer,lexicon_layer,input_dim):\n",
    "    input_word = Input(shape=(max_kata,))\n",
    "    embed_word = Embedding(input_dim= input_dim+1, output_dim=embedding_layer.shape[1], weights=[embedding_layer], input_length=max_kata, trainable = False)(input_word)\n",
    "    embed_lex = Embedding(input_dim= input_dim+1, output_dim=lexicon_layer.shape[1], weights=[lexicon_layer], input_length=max_kata, trainable = False)(input_word)\n",
    "    # define the convolution layer\n",
    "    # concatenated = concatenate([embed_word, embed_lex], axis=-1)\n",
    "    concatenated = concatenate([embed_word, embed_lex], axis=-1)\n",
    "    x = Conv1D(64, kernel_size=3, activation='relu')(concatenated)\n",
    "    x = MaxPooling1D(pool_size=2)(x)\n",
    "    x = Conv1D(128, kernel_size=3, activation='relu')(x)\n",
    "    x = MaxPooling1D(pool_size=2)(x)\n",
    "    x = Dropout(0.5)(x)\n",
    "    # flatten the output\n",
    "    x = GlobalMaxPooling1D()(x)\n",
    "    # define the output layer\n",
    "    output_tensor = Dense(2, activation='sigmoid')(x)\n",
    "    model = Model(input_word, outputs=output_tensor)\n",
    "    model.compile(optimizer='adam',  loss=\"binary_crossentropy\", metrics=['accuracy'])\n",
    "    return model\n",
    "\n",
    "model_multichannel = cnn_multichannel(embedding_matrix_many,multichannel_many,vocab_many)\n",
    "model_multichannel.summary()"
   ]
  },
  {
   "cell_type": "code",
   "execution_count": 72,
   "metadata": {},
   "outputs": [
    {
     "name": "stdout",
     "output_type": "stream",
     "text": [
      "Epoch 1/10\n",
      "207/207 [==============================] - 54s 254ms/step - loss: 0.6582 - accuracy: 0.6161 - val_loss: 0.6598 - val_accuracy: 0.6078\n",
      "Epoch 2/10\n",
      "207/207 [==============================] - 55s 266ms/step - loss: 0.6257 - accuracy: 0.6573 - val_loss: 0.6459 - val_accuracy: 0.6303\n",
      "Epoch 3/10\n",
      "207/207 [==============================] - 55s 265ms/step - loss: 0.6015 - accuracy: 0.6842 - val_loss: 0.6394 - val_accuracy: 0.6453\n",
      "Epoch 4/10\n",
      "207/207 [==============================] - 58s 279ms/step - loss: 0.5851 - accuracy: 0.6954 - val_loss: 0.6526 - val_accuracy: 0.6330\n",
      "Epoch 5/10\n",
      "207/207 [==============================] - 56s 270ms/step - loss: 0.5568 - accuracy: 0.7216 - val_loss: 0.6314 - val_accuracy: 0.6508\n",
      "Epoch 6/10\n",
      "207/207 [==============================] - 71s 343ms/step - loss: 0.5225 - accuracy: 0.7447 - val_loss: 0.6449 - val_accuracy: 0.6364\n",
      "Epoch 7/10\n",
      "207/207 [==============================] - 75s 361ms/step - loss: 0.4856 - accuracy: 0.7709 - val_loss: 0.6484 - val_accuracy: 0.6351\n",
      "Epoch 8/10\n",
      "207/207 [==============================] - 72s 346ms/step - loss: 0.4290 - accuracy: 0.8103 - val_loss: 0.6899 - val_accuracy: 0.6132\n",
      "Epoch 9/10\n",
      "207/207 [==============================] - 69s 333ms/step - loss: 0.3764 - accuracy: 0.8368 - val_loss: 0.6741 - val_accuracy: 0.6282\n",
      "Epoch 10/10\n",
      "207/207 [==============================] - 69s 333ms/step - loss: 0.3203 - accuracy: 0.8693 - val_loss: 0.7132 - val_accuracy: 0.6160\n"
     ]
    }
   ],
   "source": [
    "history_multi = model_multichannel.fit(X_train2, y_train2, epochs=10,batch_size=64, validation_data=(X_val2,y_val2))"
   ]
  },
  {
   "cell_type": "code",
   "execution_count": 73,
   "metadata": {},
   "outputs": [
    {
     "name": "stdout",
     "output_type": "stream",
     "text": [
      "51/51 [==============================] - 4s 74ms/step - loss: 0.6832 - accuracy: 0.6286\n",
      "51/51 [==============================] - 4s 72ms/step\n"
     ]
    }
   ],
   "source": [
    "eval_multi = model_multichannel.evaluate(X_test2, y_test2)\n",
    "y_pred=model_multichannel.predict(X_test2)\n",
    "y_pred=np.argmax(y_pred,axis=1)\n",
    "y_testnp=np.argmax(y_test2,axis=1)\n",
    "cm3 =confusion_matrix(y_testnp,y_pred)\n",
    "acc_multi, recall_multi, preisi_multi, f1_multi, auc_multi = generate_model_report(y_testnp,y_pred)"
   ]
  },
  {
   "cell_type": "code",
   "execution_count": 74,
   "metadata": {},
   "outputs": [
    {
     "name": "stdout",
     "output_type": "stream",
     "text": [
      "Model: \"model_4\"\n",
      "__________________________________________________________________________________________________\n",
      " Layer (type)                   Output Shape         Param #     Connected to                     \n",
      "==================================================================================================\n",
      " input_5 (InputLayer)           [(None, 131)]        0           []                               \n",
      "                                                                                                  \n",
      " embedding_5 (Embedding)        (None, 131, 300)     9105300     ['input_5[0][0]']                \n",
      "                                                                                                  \n",
      " embedding_6 (Embedding)        (None, 131, 4)       121404      ['input_5[0][0]']                \n",
      "                                                                                                  \n",
      " conv1d_8 (Conv1D)              (None, 129, 64)      57664       ['embedding_5[0][0]']            \n",
      "                                                                                                  \n",
      " conv1d_9 (Conv1D)              (None, 129, 128)     115328      ['embedding_5[0][0]']            \n",
      "                                                                                                  \n",
      " conv1d_10 (Conv1D)             (None, 129, 64)      832         ['embedding_6[0][0]']            \n",
      "                                                                                                  \n",
      " conv1d_11 (Conv1D)             (None, 129, 128)     1664        ['embedding_6[0][0]']            \n",
      "                                                                                                  \n",
      " concatenate_1 (Concatenate)    (None, 129, 192)     0           ['conv1d_8[0][0]',               \n",
      "                                                                  'conv1d_9[0][0]']               \n",
      "                                                                                                  \n",
      " concatenate_2 (Concatenate)    (None, 129, 192)     0           ['conv1d_10[0][0]',              \n",
      "                                                                  'conv1d_11[0][0]']              \n",
      "                                                                                                  \n",
      " max_pooling1d_8 (MaxPooling1D)  (None, 64, 192)     0           ['concatenate_1[0][0]']          \n",
      "                                                                                                  \n",
      " max_pooling1d_9 (MaxPooling1D)  (None, 64, 192)     0           ['concatenate_2[0][0]']          \n",
      "                                                                                                  \n",
      " concatenate_3 (Concatenate)    (None, 64, 384)      0           ['max_pooling1d_8[0][0]',        \n",
      "                                                                  'max_pooling1d_9[0][0]']        \n",
      "                                                                                                  \n",
      " dropout_4 (Dropout)            (None, 64, 384)      0           ['concatenate_3[0][0]']          \n",
      "                                                                                                  \n",
      " global_max_pooling1d_4 (Global  (None, 384)         0           ['dropout_4[0][0]']              \n",
      " MaxPooling1D)                                                                                    \n",
      "                                                                                                  \n",
      " dense_4 (Dense)                (None, 2)            770         ['global_max_pooling1d_4[0][0]'] \n",
      "                                                                                                  \n",
      "==================================================================================================\n",
      "Total params: 9,402,962\n",
      "Trainable params: 176,258\n",
      "Non-trainable params: 9,226,704\n",
      "__________________________________________________________________________________________________\n"
     ]
    }
   ],
   "source": [
    "def cnn_separated_conv(embedding_layer,lexicon_layer,input_dim):\n",
    "    input_word = Input(shape=(max_kata,))\n",
    "    # define the embedding layer\n",
    "    embed_word = Embedding(input_dim= input_dim+1, output_dim=embedding_layer.shape[1], weights=[embedding_layer], input_length=max_kata, trainable = False)(input_word)\n",
    "    embed_lex = Embedding(input_dim= input_dim+1, output_dim=lexicon_layer.shape[1], weights=[lexicon_layer], input_length=max_kata, trainable = False)(input_word)\n",
    "\n",
    "    # make conv layer for embed word\n",
    "    x1 = Conv1D(64, kernel_size=3, activation='relu')(embed_word)\n",
    "    x2 = Conv1D(128, kernel_size=3, activation='relu')(embed_word)\n",
    "    concatenated_1 = concatenate([x1, x2], axis=-1)\n",
    "    pool1 = MaxPooling1D(pool_size=2)(concatenated_1)\n",
    "    # make conv layer for embed lex\n",
    "    x3 = Conv1D(64, kernel_size=3, activation='relu')(embed_lex)\n",
    "    x4 = Conv1D(128, kernel_size=3, activation='relu')(embed_lex)\n",
    "    concatenated_2 = concatenate([x3, x4], axis=-1)\n",
    "    pool2 = MaxPooling1D(pool_size=2)(concatenated_2)\n",
    "    # combining all seperated conv\n",
    "    concatenated_3 = concatenate([pool1, pool2], axis=-1)\n",
    "    x = Dropout(0.5)(concatenated_3)\n",
    "    x = GlobalMaxPooling1D()(x)\n",
    "    # x = Dense(128, activation='relu')(x)\n",
    "    output_tensor = Dense(2, activation='sigmoid')(x)\n",
    "    model = Model(input_word, outputs=output_tensor)\n",
    "    model.compile(optimizer='adam',  loss=\"binary_crossentropy\", metrics=['accuracy'])\n",
    "    return model\n",
    "\n",
    "model_separated = cnn_separated_conv(embedding_matrix_many,lexicon_matrix_many,vocab_many)\n",
    "model_separated.summary()"
   ]
  },
  {
   "cell_type": "code",
   "execution_count": 75,
   "metadata": {},
   "outputs": [
    {
     "name": "stdout",
     "output_type": "stream",
     "text": [
      "Epoch 1/10\n",
      "413/413 [==============================] - 113s 264ms/step - loss: 0.6532 - accuracy: 0.6250 - val_loss: 0.6422 - val_accuracy: 0.6487\n",
      "Epoch 2/10\n",
      "413/413 [==============================] - 106s 257ms/step - loss: 0.6093 - accuracy: 0.6735 - val_loss: 0.6386 - val_accuracy: 0.6446\n",
      "Epoch 3/10\n",
      "413/413 [==============================] - 109s 264ms/step - loss: 0.5765 - accuracy: 0.6999 - val_loss: 0.6371 - val_accuracy: 0.6385\n",
      "Epoch 4/10\n",
      "413/413 [==============================] - 106s 257ms/step - loss: 0.5368 - accuracy: 0.7404 - val_loss: 0.6387 - val_accuracy: 0.6439\n",
      "Epoch 5/10\n",
      "413/413 [==============================] - 106s 258ms/step - loss: 0.4862 - accuracy: 0.7730 - val_loss: 0.6589 - val_accuracy: 0.6289\n",
      "Epoch 6/10\n",
      "413/413 [==============================] - 108s 261ms/step - loss: 0.4363 - accuracy: 0.8029 - val_loss: 0.6550 - val_accuracy: 0.6317\n",
      "Epoch 7/10\n",
      "413/413 [==============================] - 108s 261ms/step - loss: 0.3888 - accuracy: 0.8371 - val_loss: 0.6625 - val_accuracy: 0.6378\n",
      "Epoch 8/10\n",
      "413/413 [==============================] - 110s 266ms/step - loss: 0.3470 - accuracy: 0.8540 - val_loss: 0.6723 - val_accuracy: 0.6269\n",
      "Epoch 9/10\n",
      "413/413 [==============================] - 106s 257ms/step - loss: 0.2975 - accuracy: 0.8818 - val_loss: 0.7004 - val_accuracy: 0.6269\n",
      "Epoch 10/10\n",
      "413/413 [==============================] - 105s 254ms/step - loss: 0.2684 - accuracy: 0.8958 - val_loss: 0.6875 - val_accuracy: 0.6412\n"
     ]
    }
   ],
   "source": [
    "history_separated = model_separated.fit(X_train2, y_train2, epochs=10,batch_size=32, validation_data=(X_val2,y_val2))"
   ]
  },
  {
   "cell_type": "code",
   "execution_count": 76,
   "metadata": {},
   "outputs": [
    {
     "name": "stdout",
     "output_type": "stream",
     "text": [
      "51/51 [==============================] - 6s 106ms/step - loss: 0.6657 - accuracy: 0.6483\n",
      "51/51 [==============================] - 6s 117ms/step\n"
     ]
    }
   ],
   "source": [
    "from sklearn.metrics import confusion_matrix,classification_report\n",
    "import seaborn as sns\n",
    "eval_seperated = model_separated.evaluate(X_test2, y_test2)\n",
    "y_pred=model_separated.predict(X_test2)\n",
    "y_pred=np.argmax(y_pred,axis=1)\n",
    "y_testnp=np.argmax(y_test2,axis=1)\n",
    "cm4 =confusion_matrix(y_testnp,y_pred)\n",
    "acc_seperated, recall_seperated, preisi_seperated, f1_seperated, auc_seperated = generate_model_report(y_testnp,y_pred)"
   ]
  },
  {
   "cell_type": "code",
   "execution_count": 77,
   "metadata": {},
   "outputs": [
    {
     "name": "stdout",
     "output_type": "stream",
     "text": [
      "0.6040515653775322 0.49079754601226994 0.6349206349206349 0.5536332179930795 0.6041211317284937\n",
      "0.5930018416206262 0.2907975460122699 0.7360248447204969 0.4168865435356201 0.5931874707948328\n",
      "0.6286065070595457 0.4785276073619632 0.6842105263157895 0.5631768953068592 0.628698693115871\n",
      "0.6482504604051565 0.603680981595092 0.6630727762803235 0.6319845857418113 0.6482778372348925\n"
     ]
    }
   ],
   "source": [
    "print(acc_base, recall_base, preisi_base, f1_base, auc_base)\n",
    "print(acc_naive, recall_naive, preisi_naive, f1_naive, auc_naive)\n",
    "print(acc_multi, recall_multi, preisi_multi, f1_multi, auc_multi)\n",
    "print(acc_seperated, recall_seperated, preisi_seperated, f1_seperated, auc_seperated)"
   ]
  },
  {
   "cell_type": "code",
   "execution_count": 78,
   "metadata": {},
   "outputs": [
    {
     "data": {
      "image/png": "[encoded data removed]",
      "text/plain": [
       "<Figure size 1000x800 with 4 Axes>"
      ]
     },
     "metadata": {},
     "output_type": "display_data"
    }
   ],
   "source": [
    "# method_name = ['base_line_CNN','Lex_NC_CNN','Lex_Multi_CNN','Lex_SC_CNN']\n",
    "# method_value = [[acc_base,recall_base,preisi_base,f1_base],[acc_naive,recall_naive,preisi_naive,f1_naive],[acc_multi,recall_multi,preisi_multi,f1_multi],\n",
    "#     [acc_seperated,recall_seperated,preisi_seperated,f1_seperated]]\n",
    "method_name = ['Accuracy','Recall','Precision','F1-score','Method','num']\n",
    "method_value = [[acc_base,acc_naive,acc_multi,acc_seperated],[recall_base,recall_naive,recall_multi,recall_seperated],[preisi_base,preisi_naive,preisi_multi,preisi_seperated],\n",
    "    [f1_base,f1_naive,f1_multi,f1_seperated],['base_cnn','+Lex_NC','+Lex_Multi','+Lex_SC'],[1,2,3,4]]\n",
    "\n",
    "method_result= dict(zip(method_name,method_value))\n",
    "method_result= pd.DataFrame(method_result)\n",
    "\n",
    "# Set the style for the plots\n",
    "sns.set(style=\"whitegrid\")\n",
    "\n",
    "# Create a figure with multiple subplots\n",
    "fig, axes = plt.subplots(nrows=2, ncols=2, figsize=(10, 8))\n",
    "\n",
    "# Plot a histogram for each metric\n",
    "sns.barplot(ax=axes[0, 0], data=method_result, y=\"Accuracy\", x=\"Method\")\n",
    "sns.barplot(ax=axes[0, 1], data=method_result, y=\"Recall\", x=\"Method\")\n",
    "sns.barplot(ax=axes[1, 0], data=method_result, y=\"Precision\", x=\"Method\")\n",
    "sns.barplot(ax=axes[1, 1], data=method_result, y=\"F1-score\", x=\"Method\")\n",
    "\n",
    "# Set the title for each plot\n",
    "axes[0, 0].set_title(\"Accuracy\")\n",
    "axes[0, 0].set_ylim(0,1)\n",
    "axes[0, 1].set_title(\"Recall\")\n",
    "axes[0, 1].set_ylim(0,1)\n",
    "axes[1, 0].set_title(\"Precision\")\n",
    "axes[1, 0].set_ylim(0,1)\n",
    "axes[1, 1].set_title(\"F1-score\")\n",
    "axes[1, 1].set_ylim(0,1)\n",
    "\n",
    "# Adjust the spacing between the subplots\n",
    "plt.tight_layout()\n",
    "\n",
    "# Show the plot\n",
    "plt.show()\n",
    "# # plot histogram for each metric\n",
    "# for metric in method_result.columns:\n",
    "#     plt.hist(method_result[metric], alpha=0.5, label=metric)\n",
    "\n",
    "# plt.legend(loc='upper right')\n",
    "# plt.show()"
   ]
  },
  {
   "cell_type": "code",
   "execution_count": 79,
   "metadata": {},
   "outputs": [],
   "source": [
    "def make_plot_hist(m1,m2,m3,m4,train, validation, title):\n",
    "    graph = plt.subplot(2,2,1)\n",
    "    graph = plt.plot(m1.history[train],label='train')\n",
    "    graph = plt.plot(m1.history[validation],label='val')\n",
    "    graph = plt.subplot(2,2,2)\n",
    "    graph = plt.plot(m2.history[train],label='train')\n",
    "    graph = plt.plot(m2.history[validation],label='val')\n",
    "    graph = plt.subplot(2,2,3)\n",
    "    graph = plt.plot(m3.history[train],label='train')\n",
    "    graph = plt.plot(m3.history[validation],label='val')\n",
    "    graph = plt.subplot(2,2,4)\n",
    "    graph = plt.plot(m4.history[train],label='train')\n",
    "    graph = plt.plot(m4.history[validation],label='val')\n",
    "    plt.legend()\n",
    "    graph = plt.show()\n",
    "    return graph"
   ]
  },
  {
   "cell_type": "code",
   "execution_count": 80,
   "metadata": {},
   "outputs": [
    {
     "data": {
      "image/png": "[encoded data removed]",
      "text/plain": [
       "<Figure size 640x480 with 4 Axes>"
      ]
     },
     "metadata": {},
     "output_type": "display_data"
    },
    {
     "data": {
      "image/png": "[encoded data removed]",
      "text/plain": [
       "<Figure size 640x480 with 4 Axes>"
      ]
     },
     "metadata": {},
     "output_type": "display_data"
    }
   ],
   "source": [
    "make_plot_hist(history_base,history_naive,history_multi,history_separated,'loss','val_loss','Perubahan loss pada tiap epochs')\n",
    "make_plot_hist(history_base,history_naive,history_multi,history_separated,'accuracy','val_accuracy','Perubahan akurasi pada tiap epochs')"
   ]
  },
  {
   "cell_type": "code",
   "execution_count": 81,
   "metadata": {},
   "outputs": [
    {
     "data": {
      "image/png": "[encoded data removed]",
      "text/plain": [
       "<Figure size 640x480 with 2 Axes>"
      ]
     },
     "metadata": {},
     "output_type": "display_data"
    }
   ],
   "source": [
    "def out_cm(cm,title):\n",
    "    ax=sns.heatmap(cm,annot=True,cmap='Blues',fmt=' ')\n",
    "    ax.set_title(title)\n",
    "    ax.set_xlabel('y_test')\n",
    "    ax.set_ylabel('y_pred')\n",
    "\n",
    "out_cm(cm1,'Confusion Matrix Model Base + WE')"
   ]
  },
  {
   "cell_type": "code",
   "execution_count": 82,
   "metadata": {},
   "outputs": [
    {
     "data": {
      "image/png": "[encoded data removed]",
      "text/plain": [
       "<Figure size 640x480 with 2 Axes>"
      ]
     },
     "metadata": {},
     "output_type": "display_data"
    }
   ],
   "source": [
    "out_cm(cm2,'Confusion Matrix Model Base + LEX_NC')"
   ]
  },
  {
   "cell_type": "code",
   "execution_count": 83,
   "metadata": {},
   "outputs": [
    {
     "data": {
      "image/png": "[encoded data removed]",
      "text/plain": [
       "<Figure size 640x480 with 2 Axes>"
      ]
     },
     "metadata": {},
     "output_type": "display_data"
    }
   ],
   "source": [
    "out_cm(cm3,'Confusion Matrix Model Base + LEX_MULTI')"
   ]
  },
  {
   "cell_type": "code",
   "execution_count": 84,
   "metadata": {},
   "outputs": [
    {
     "data": {
      "image/png": "[encoded data removed]",
      "text/plain": [
       "<Figure size 640x480 with 2 Axes>"
      ]
     },
     "metadata": {},
     "output_type": "display_data"
    }
   ],
   "source": [
    "out_cm(cm4,'Confusion Matrix Model Base + LEX_SC')"
   ]
  },
  {
   "cell_type": "code",
   "execution_count": 85,
   "metadata": {},
   "outputs": [
    {
     "name": "stdout",
     "output_type": "stream",
     "text": [
      "              precision    recall  f1-score   support\n",
      "\n",
      "           0       0.64      0.69      0.66       814\n",
      "           1       0.66      0.60      0.63       815\n",
      "\n",
      "    accuracy                           0.65      1629\n",
      "   macro avg       0.65      0.65      0.65      1629\n",
      "weighted avg       0.65      0.65      0.65      1629\n",
      "\n"
     ]
    }
   ],
   "source": [
    "print(classification_report(y_testnp,y_pred))"
   ]
  },
  {
   "cell_type": "code",
   "execution_count": 86,
   "metadata": {},
   "outputs": [],
   "source": [
    "under_sampling_res.to_csv('undersampling_data_res.csv',index= False)"
   ]
  }
 ],
 "metadata": {
  "kernelspec": {
   "display_name": "Python 3",
   "language": "python",
   "name": "python3"
  },
  "language_info": {
   "codemirror_mode": {
    "name": "ipython",
    "version": 3
   },
   "file_extension": ".py",
   "mimetype": "text/x-python",
   "name": "python",
   "nbconvert_exporter": "python",
   "pygments_lexer": "ipython3",
   "version": "3.10.7"
  },
  "orig_nbformat": 4,
  "vscode": {
   "interpreter": {
    "hash": "bd5508c2ffc7f17f7d31cf4086cc872f89e96996a08987e995649e5fbe85a3a4"
   }
  }
 },
 "nbformat": 4,
 "nbformat_minor": 2
}
